{
  "nbformat": 4,
  "nbformat_minor": 0,
  "metadata": {
    "colab": {
      "name": "Red_Wine_Quality.ipynb",
      "provenance": [],
      "collapsed_sections": [],
      "toc_visible": true
    },
    "kernelspec": {
      "name": "python3",
      "display_name": "Python 3"
    },
    "language_info": {
      "name": "python"
    }
  },
  "cells": [
    {
      "cell_type": "markdown",
      "metadata": {
        "id": "0JS3Sqrhvo-v"
      },
      "source": [
        "Nome: Rodrigo Franciozi R. da Silva\n",
        "\n",
        "RA: 20.83984-7\n",
        "\n",
        "Data: https://www.kaggle.com/uciml/red-wine-quality-cortez-et-al-2009"
      ]
    },
    {
      "cell_type": "markdown",
      "metadata": {
        "id": "p4uTRZfpqoDl"
      },
      "source": [
        "# Imports"
      ]
    },
    {
      "cell_type": "code",
      "metadata": {
        "id": "0Pip8FUXonZW"
      },
      "source": [
        "import tensorflow as tf\n",
        "from tensorflow import keras\n",
        "import matplotlib as mpl\n",
        "import matplotlib.pyplot as plt\n",
        "import numpy as np\n",
        "import pandas as pd\n",
        "import seaborn as sns\n",
        "import sklearn\n",
        "from sklearn.metrics import confusion_matrix\n",
        "from sklearn.model_selection import train_test_split"
      ],
      "execution_count": 1,
      "outputs": []
    },
    {
      "cell_type": "code",
      "metadata": {
        "colab": {
          "base_uri": "https://localhost:8080/"
        },
        "id": "5OB93Zn1pw-V",
        "outputId": "7c46f7de-5c0c-40e1-d032-711fad816e0d"
      },
      "source": [
        "file_path = '/content/drive/MyDrive/Education/IMT/Pós Graduação/IA com Deep Learning/Developing Neural Network Tools/Atividade 2/winequality-red.csv'\n",
        "\n",
        "#Checking the file encoder\n",
        "with open(file_path) as f:\n",
        "    print(f)"
      ],
      "execution_count": 2,
      "outputs": [
        {
          "output_type": "stream",
          "text": [
            "<_io.TextIOWrapper name='/content/drive/MyDrive/Education/IMT/Pós Graduação/IA com Deep Learning/Developing Neural Network Tools/Atividade 2/winequality-red.csv' mode='r' encoding='UTF-8'>\n"
          ],
          "name": "stdout"
        }
      ]
    },
    {
      "cell_type": "code",
      "metadata": {
        "colab": {
          "base_uri": "https://localhost:8080/",
          "height": 220
        },
        "id": "DSIWaVxqpSfl",
        "outputId": "d9ea8903-a253-4b97-9392-a20f4da035b2"
      },
      "source": [
        "df = pd.read_csv(file_path)\n",
        "df.head()"
      ],
      "execution_count": 3,
      "outputs": [
        {
          "output_type": "execute_result",
          "data": {
            "text/html": [
              "<div>\n",
              "<style scoped>\n",
              "    .dataframe tbody tr th:only-of-type {\n",
              "        vertical-align: middle;\n",
              "    }\n",
              "\n",
              "    .dataframe tbody tr th {\n",
              "        vertical-align: top;\n",
              "    }\n",
              "\n",
              "    .dataframe thead th {\n",
              "        text-align: right;\n",
              "    }\n",
              "</style>\n",
              "<table border=\"1\" class=\"dataframe\">\n",
              "  <thead>\n",
              "    <tr style=\"text-align: right;\">\n",
              "      <th></th>\n",
              "      <th>fixed acidity</th>\n",
              "      <th>volatile acidity</th>\n",
              "      <th>citric acid</th>\n",
              "      <th>residual sugar</th>\n",
              "      <th>chlorides</th>\n",
              "      <th>free sulfur dioxide</th>\n",
              "      <th>total sulfur dioxide</th>\n",
              "      <th>density</th>\n",
              "      <th>pH</th>\n",
              "      <th>sulphates</th>\n",
              "      <th>alcohol</th>\n",
              "      <th>quality</th>\n",
              "    </tr>\n",
              "  </thead>\n",
              "  <tbody>\n",
              "    <tr>\n",
              "      <th>0</th>\n",
              "      <td>7.4</td>\n",
              "      <td>0.70</td>\n",
              "      <td>0.00</td>\n",
              "      <td>1.9</td>\n",
              "      <td>0.076</td>\n",
              "      <td>11.0</td>\n",
              "      <td>34.0</td>\n",
              "      <td>0.9978</td>\n",
              "      <td>3.51</td>\n",
              "      <td>0.56</td>\n",
              "      <td>9.4</td>\n",
              "      <td>5</td>\n",
              "    </tr>\n",
              "    <tr>\n",
              "      <th>1</th>\n",
              "      <td>7.8</td>\n",
              "      <td>0.88</td>\n",
              "      <td>0.00</td>\n",
              "      <td>2.6</td>\n",
              "      <td>0.098</td>\n",
              "      <td>25.0</td>\n",
              "      <td>67.0</td>\n",
              "      <td>0.9968</td>\n",
              "      <td>3.20</td>\n",
              "      <td>0.68</td>\n",
              "      <td>9.8</td>\n",
              "      <td>5</td>\n",
              "    </tr>\n",
              "    <tr>\n",
              "      <th>2</th>\n",
              "      <td>7.8</td>\n",
              "      <td>0.76</td>\n",
              "      <td>0.04</td>\n",
              "      <td>2.3</td>\n",
              "      <td>0.092</td>\n",
              "      <td>15.0</td>\n",
              "      <td>54.0</td>\n",
              "      <td>0.9970</td>\n",
              "      <td>3.26</td>\n",
              "      <td>0.65</td>\n",
              "      <td>9.8</td>\n",
              "      <td>5</td>\n",
              "    </tr>\n",
              "    <tr>\n",
              "      <th>3</th>\n",
              "      <td>11.2</td>\n",
              "      <td>0.28</td>\n",
              "      <td>0.56</td>\n",
              "      <td>1.9</td>\n",
              "      <td>0.075</td>\n",
              "      <td>17.0</td>\n",
              "      <td>60.0</td>\n",
              "      <td>0.9980</td>\n",
              "      <td>3.16</td>\n",
              "      <td>0.58</td>\n",
              "      <td>9.8</td>\n",
              "      <td>6</td>\n",
              "    </tr>\n",
              "    <tr>\n",
              "      <th>4</th>\n",
              "      <td>7.4</td>\n",
              "      <td>0.70</td>\n",
              "      <td>0.00</td>\n",
              "      <td>1.9</td>\n",
              "      <td>0.076</td>\n",
              "      <td>11.0</td>\n",
              "      <td>34.0</td>\n",
              "      <td>0.9978</td>\n",
              "      <td>3.51</td>\n",
              "      <td>0.56</td>\n",
              "      <td>9.4</td>\n",
              "      <td>5</td>\n",
              "    </tr>\n",
              "  </tbody>\n",
              "</table>\n",
              "</div>"
            ],
            "text/plain": [
              "   fixed acidity  volatile acidity  citric acid  ...  sulphates  alcohol  quality\n",
              "0            7.4              0.70         0.00  ...       0.56      9.4        5\n",
              "1            7.8              0.88         0.00  ...       0.68      9.8        5\n",
              "2            7.8              0.76         0.04  ...       0.65      9.8        5\n",
              "3           11.2              0.28         0.56  ...       0.58      9.8        6\n",
              "4            7.4              0.70         0.00  ...       0.56      9.4        5\n",
              "\n",
              "[5 rows x 12 columns]"
            ]
          },
          "metadata": {},
          "execution_count": 3
        }
      ]
    },
    {
      "cell_type": "code",
      "metadata": {
        "colab": {
          "base_uri": "https://localhost:8080/"
        },
        "id": "cZZCyGN6qOBx",
        "outputId": "041ebb47-d600-455e-f601-2efa4376f0c4"
      },
      "source": [
        "df.info()"
      ],
      "execution_count": 4,
      "outputs": [
        {
          "output_type": "stream",
          "text": [
            "<class 'pandas.core.frame.DataFrame'>\n",
            "RangeIndex: 1599 entries, 0 to 1598\n",
            "Data columns (total 12 columns):\n",
            " #   Column                Non-Null Count  Dtype  \n",
            "---  ------                --------------  -----  \n",
            " 0   fixed acidity         1599 non-null   float64\n",
            " 1   volatile acidity      1599 non-null   float64\n",
            " 2   citric acid           1599 non-null   float64\n",
            " 3   residual sugar        1599 non-null   float64\n",
            " 4   chlorides             1599 non-null   float64\n",
            " 5   free sulfur dioxide   1599 non-null   float64\n",
            " 6   total sulfur dioxide  1599 non-null   float64\n",
            " 7   density               1599 non-null   float64\n",
            " 8   pH                    1599 non-null   float64\n",
            " 9   sulphates             1599 non-null   float64\n",
            " 10  alcohol               1599 non-null   float64\n",
            " 11  quality               1599 non-null   int64  \n",
            "dtypes: float64(11), int64(1)\n",
            "memory usage: 150.0 KB\n"
          ],
          "name": "stdout"
        }
      ]
    },
    {
      "cell_type": "code",
      "metadata": {
        "colab": {
          "base_uri": "https://localhost:8080/",
          "height": 349
        },
        "id": "5okcNXx1qcV-",
        "outputId": "09d884c8-01bb-4d34-b064-2cb44f09ab80"
      },
      "source": [
        "df.describe()"
      ],
      "execution_count": 5,
      "outputs": [
        {
          "output_type": "execute_result",
          "data": {
            "text/html": [
              "<div>\n",
              "<style scoped>\n",
              "    .dataframe tbody tr th:only-of-type {\n",
              "        vertical-align: middle;\n",
              "    }\n",
              "\n",
              "    .dataframe tbody tr th {\n",
              "        vertical-align: top;\n",
              "    }\n",
              "\n",
              "    .dataframe thead th {\n",
              "        text-align: right;\n",
              "    }\n",
              "</style>\n",
              "<table border=\"1\" class=\"dataframe\">\n",
              "  <thead>\n",
              "    <tr style=\"text-align: right;\">\n",
              "      <th></th>\n",
              "      <th>fixed acidity</th>\n",
              "      <th>volatile acidity</th>\n",
              "      <th>citric acid</th>\n",
              "      <th>residual sugar</th>\n",
              "      <th>chlorides</th>\n",
              "      <th>free sulfur dioxide</th>\n",
              "      <th>total sulfur dioxide</th>\n",
              "      <th>density</th>\n",
              "      <th>pH</th>\n",
              "      <th>sulphates</th>\n",
              "      <th>alcohol</th>\n",
              "      <th>quality</th>\n",
              "    </tr>\n",
              "  </thead>\n",
              "  <tbody>\n",
              "    <tr>\n",
              "      <th>count</th>\n",
              "      <td>1599.000000</td>\n",
              "      <td>1599.000000</td>\n",
              "      <td>1599.000000</td>\n",
              "      <td>1599.000000</td>\n",
              "      <td>1599.000000</td>\n",
              "      <td>1599.000000</td>\n",
              "      <td>1599.000000</td>\n",
              "      <td>1599.000000</td>\n",
              "      <td>1599.000000</td>\n",
              "      <td>1599.000000</td>\n",
              "      <td>1599.000000</td>\n",
              "      <td>1599.000000</td>\n",
              "    </tr>\n",
              "    <tr>\n",
              "      <th>mean</th>\n",
              "      <td>8.319637</td>\n",
              "      <td>0.527821</td>\n",
              "      <td>0.270976</td>\n",
              "      <td>2.538806</td>\n",
              "      <td>0.087467</td>\n",
              "      <td>15.874922</td>\n",
              "      <td>46.467792</td>\n",
              "      <td>0.996747</td>\n",
              "      <td>3.311113</td>\n",
              "      <td>0.658149</td>\n",
              "      <td>10.422983</td>\n",
              "      <td>5.636023</td>\n",
              "    </tr>\n",
              "    <tr>\n",
              "      <th>std</th>\n",
              "      <td>1.741096</td>\n",
              "      <td>0.179060</td>\n",
              "      <td>0.194801</td>\n",
              "      <td>1.409928</td>\n",
              "      <td>0.047065</td>\n",
              "      <td>10.460157</td>\n",
              "      <td>32.895324</td>\n",
              "      <td>0.001887</td>\n",
              "      <td>0.154386</td>\n",
              "      <td>0.169507</td>\n",
              "      <td>1.065668</td>\n",
              "      <td>0.807569</td>\n",
              "    </tr>\n",
              "    <tr>\n",
              "      <th>min</th>\n",
              "      <td>4.600000</td>\n",
              "      <td>0.120000</td>\n",
              "      <td>0.000000</td>\n",
              "      <td>0.900000</td>\n",
              "      <td>0.012000</td>\n",
              "      <td>1.000000</td>\n",
              "      <td>6.000000</td>\n",
              "      <td>0.990070</td>\n",
              "      <td>2.740000</td>\n",
              "      <td>0.330000</td>\n",
              "      <td>8.400000</td>\n",
              "      <td>3.000000</td>\n",
              "    </tr>\n",
              "    <tr>\n",
              "      <th>25%</th>\n",
              "      <td>7.100000</td>\n",
              "      <td>0.390000</td>\n",
              "      <td>0.090000</td>\n",
              "      <td>1.900000</td>\n",
              "      <td>0.070000</td>\n",
              "      <td>7.000000</td>\n",
              "      <td>22.000000</td>\n",
              "      <td>0.995600</td>\n",
              "      <td>3.210000</td>\n",
              "      <td>0.550000</td>\n",
              "      <td>9.500000</td>\n",
              "      <td>5.000000</td>\n",
              "    </tr>\n",
              "    <tr>\n",
              "      <th>50%</th>\n",
              "      <td>7.900000</td>\n",
              "      <td>0.520000</td>\n",
              "      <td>0.260000</td>\n",
              "      <td>2.200000</td>\n",
              "      <td>0.079000</td>\n",
              "      <td>14.000000</td>\n",
              "      <td>38.000000</td>\n",
              "      <td>0.996750</td>\n",
              "      <td>3.310000</td>\n",
              "      <td>0.620000</td>\n",
              "      <td>10.200000</td>\n",
              "      <td>6.000000</td>\n",
              "    </tr>\n",
              "    <tr>\n",
              "      <th>75%</th>\n",
              "      <td>9.200000</td>\n",
              "      <td>0.640000</td>\n",
              "      <td>0.420000</td>\n",
              "      <td>2.600000</td>\n",
              "      <td>0.090000</td>\n",
              "      <td>21.000000</td>\n",
              "      <td>62.000000</td>\n",
              "      <td>0.997835</td>\n",
              "      <td>3.400000</td>\n",
              "      <td>0.730000</td>\n",
              "      <td>11.100000</td>\n",
              "      <td>6.000000</td>\n",
              "    </tr>\n",
              "    <tr>\n",
              "      <th>max</th>\n",
              "      <td>15.900000</td>\n",
              "      <td>1.580000</td>\n",
              "      <td>1.000000</td>\n",
              "      <td>15.500000</td>\n",
              "      <td>0.611000</td>\n",
              "      <td>72.000000</td>\n",
              "      <td>289.000000</td>\n",
              "      <td>1.003690</td>\n",
              "      <td>4.010000</td>\n",
              "      <td>2.000000</td>\n",
              "      <td>14.900000</td>\n",
              "      <td>8.000000</td>\n",
              "    </tr>\n",
              "  </tbody>\n",
              "</table>\n",
              "</div>"
            ],
            "text/plain": [
              "       fixed acidity  volatile acidity  ...      alcohol      quality\n",
              "count    1599.000000       1599.000000  ...  1599.000000  1599.000000\n",
              "mean        8.319637          0.527821  ...    10.422983     5.636023\n",
              "std         1.741096          0.179060  ...     1.065668     0.807569\n",
              "min         4.600000          0.120000  ...     8.400000     3.000000\n",
              "25%         7.100000          0.390000  ...     9.500000     5.000000\n",
              "50%         7.900000          0.520000  ...    10.200000     6.000000\n",
              "75%         9.200000          0.640000  ...    11.100000     6.000000\n",
              "max        15.900000          1.580000  ...    14.900000     8.000000\n",
              "\n",
              "[8 rows x 12 columns]"
            ]
          },
          "metadata": {},
          "execution_count": 5
        }
      ]
    },
    {
      "cell_type": "code",
      "metadata": {
        "colab": {
          "base_uri": "https://localhost:8080/"
        },
        "id": "rZtx5GDjq3JJ",
        "outputId": "37b44f7b-248b-45ac-80eb-f50006974f06"
      },
      "source": [
        "# Data dimensions\n",
        "print('Dimensões dos dados =', df.shape)"
      ],
      "execution_count": 6,
      "outputs": [
        {
          "output_type": "stream",
          "text": [
            "Dimensões dos dados = (1599, 12)\n"
          ],
          "name": "stdout"
        }
      ]
    },
    {
      "cell_type": "code",
      "metadata": {
        "id": "_v9czA1DqBus"
      },
      "source": [
        "#Defining graphic colors\n",
        "colors = plt.rcParams['axes.prop_cycle'].by_key()['color']"
      ],
      "execution_count": 7,
      "outputs": []
    },
    {
      "cell_type": "markdown",
      "metadata": {
        "id": "gHzcIASbqtcU"
      },
      "source": [
        "# Changing the 'quality' column"
      ]
    },
    {
      "cell_type": "markdown",
      "metadata": {
        "id": "vKYB-VdIuH3F"
      },
      "source": [
        "In this work, we will classify the wines as Good or Bad. Let's consider a wine bad if it's score `quality is <= 5` and good if `quality > 5` \n",
        "\n",
        "After creating a new column with this boolean classification, lets just remove the 'quality' column since we don't need it anymore (for this study)."
      ]
    },
    {
      "cell_type": "code",
      "metadata": {
        "colab": {
          "base_uri": "https://localhost:8080/",
          "height": 220
        },
        "id": "il-RE0LrqfIn",
        "outputId": "67a4786a-2127-4d3f-8248-1678d6c16fbb"
      },
      "source": [
        "df_wines = df.copy()\n",
        "\n",
        "#Creating and replacing the 'quality' column with 0 or 1 (for a classification problem)\n",
        "df_wines['quality_bool'] = np.where(df_wines['quality'] <= 5 , 0, np.where(df_wines['quality'] > 5, 1 , \"\")).astype('float64')\n",
        "\n",
        "#Removing the Quality Data\n",
        "df_wines.pop('quality')\n",
        "\n",
        "df_wines.head()"
      ],
      "execution_count": 8,
      "outputs": [
        {
          "output_type": "execute_result",
          "data": {
            "text/html": [
              "<div>\n",
              "<style scoped>\n",
              "    .dataframe tbody tr th:only-of-type {\n",
              "        vertical-align: middle;\n",
              "    }\n",
              "\n",
              "    .dataframe tbody tr th {\n",
              "        vertical-align: top;\n",
              "    }\n",
              "\n",
              "    .dataframe thead th {\n",
              "        text-align: right;\n",
              "    }\n",
              "</style>\n",
              "<table border=\"1\" class=\"dataframe\">\n",
              "  <thead>\n",
              "    <tr style=\"text-align: right;\">\n",
              "      <th></th>\n",
              "      <th>fixed acidity</th>\n",
              "      <th>volatile acidity</th>\n",
              "      <th>citric acid</th>\n",
              "      <th>residual sugar</th>\n",
              "      <th>chlorides</th>\n",
              "      <th>free sulfur dioxide</th>\n",
              "      <th>total sulfur dioxide</th>\n",
              "      <th>density</th>\n",
              "      <th>pH</th>\n",
              "      <th>sulphates</th>\n",
              "      <th>alcohol</th>\n",
              "      <th>quality_bool</th>\n",
              "    </tr>\n",
              "  </thead>\n",
              "  <tbody>\n",
              "    <tr>\n",
              "      <th>0</th>\n",
              "      <td>7.4</td>\n",
              "      <td>0.70</td>\n",
              "      <td>0.00</td>\n",
              "      <td>1.9</td>\n",
              "      <td>0.076</td>\n",
              "      <td>11.0</td>\n",
              "      <td>34.0</td>\n",
              "      <td>0.9978</td>\n",
              "      <td>3.51</td>\n",
              "      <td>0.56</td>\n",
              "      <td>9.4</td>\n",
              "      <td>0.0</td>\n",
              "    </tr>\n",
              "    <tr>\n",
              "      <th>1</th>\n",
              "      <td>7.8</td>\n",
              "      <td>0.88</td>\n",
              "      <td>0.00</td>\n",
              "      <td>2.6</td>\n",
              "      <td>0.098</td>\n",
              "      <td>25.0</td>\n",
              "      <td>67.0</td>\n",
              "      <td>0.9968</td>\n",
              "      <td>3.20</td>\n",
              "      <td>0.68</td>\n",
              "      <td>9.8</td>\n",
              "      <td>0.0</td>\n",
              "    </tr>\n",
              "    <tr>\n",
              "      <th>2</th>\n",
              "      <td>7.8</td>\n",
              "      <td>0.76</td>\n",
              "      <td>0.04</td>\n",
              "      <td>2.3</td>\n",
              "      <td>0.092</td>\n",
              "      <td>15.0</td>\n",
              "      <td>54.0</td>\n",
              "      <td>0.9970</td>\n",
              "      <td>3.26</td>\n",
              "      <td>0.65</td>\n",
              "      <td>9.8</td>\n",
              "      <td>0.0</td>\n",
              "    </tr>\n",
              "    <tr>\n",
              "      <th>3</th>\n",
              "      <td>11.2</td>\n",
              "      <td>0.28</td>\n",
              "      <td>0.56</td>\n",
              "      <td>1.9</td>\n",
              "      <td>0.075</td>\n",
              "      <td>17.0</td>\n",
              "      <td>60.0</td>\n",
              "      <td>0.9980</td>\n",
              "      <td>3.16</td>\n",
              "      <td>0.58</td>\n",
              "      <td>9.8</td>\n",
              "      <td>1.0</td>\n",
              "    </tr>\n",
              "    <tr>\n",
              "      <th>4</th>\n",
              "      <td>7.4</td>\n",
              "      <td>0.70</td>\n",
              "      <td>0.00</td>\n",
              "      <td>1.9</td>\n",
              "      <td>0.076</td>\n",
              "      <td>11.0</td>\n",
              "      <td>34.0</td>\n",
              "      <td>0.9978</td>\n",
              "      <td>3.51</td>\n",
              "      <td>0.56</td>\n",
              "      <td>9.4</td>\n",
              "      <td>0.0</td>\n",
              "    </tr>\n",
              "  </tbody>\n",
              "</table>\n",
              "</div>"
            ],
            "text/plain": [
              "   fixed acidity  volatile acidity  ...  alcohol  quality_bool\n",
              "0            7.4              0.70  ...      9.4           0.0\n",
              "1            7.8              0.88  ...      9.8           0.0\n",
              "2            7.8              0.76  ...      9.8           0.0\n",
              "3           11.2              0.28  ...      9.8           1.0\n",
              "4            7.4              0.70  ...      9.4           0.0\n",
              "\n",
              "[5 rows x 12 columns]"
            ]
          },
          "metadata": {},
          "execution_count": 8
        }
      ]
    },
    {
      "cell_type": "code",
      "metadata": {
        "colab": {
          "base_uri": "https://localhost:8080/"
        },
        "id": "cJ-KeJ7btbe3",
        "outputId": "55415770-d3b5-4bc5-b94a-3634cbc85c47"
      },
      "source": [
        "#Checking if the new class is inballanced\n",
        "df_wines['quality_bool'].value_counts(normalize=True)"
      ],
      "execution_count": 9,
      "outputs": [
        {
          "output_type": "execute_result",
          "data": {
            "text/plain": [
              "1.0    0.534709\n",
              "0.0    0.465291\n",
              "Name: quality_bool, dtype: float64"
            ]
          },
          "metadata": {},
          "execution_count": 9
        }
      ]
    },
    {
      "cell_type": "markdown",
      "metadata": {
        "id": "LBpg8HmfvMo3"
      },
      "source": [
        "Considering we have almost 50% of 0 and 1, I don't think this will represent a problem when creating the model. "
      ]
    },
    {
      "cell_type": "markdown",
      "metadata": {
        "id": "8jNM8qluw-qO"
      },
      "source": [
        "# Splitting the Data"
      ]
    },
    {
      "cell_type": "code",
      "metadata": {
        "id": "sxN9OMQ6xA74"
      },
      "source": [
        "# Splitting (80% - 20%)\n",
        "train_df, test_df = train_test_split(df_wines, test_size=0.2)\n",
        "test_df, val_df = train_test_split(test_df, test_size=0.5)\n",
        "\n",
        "# Spliting the outputs and transforming them in numpy tensors\n",
        "train_labels = np.array(train_df.pop('quality_bool'))\n",
        "val_labels = np.array(val_df.pop('quality_bool'))\n",
        "test_labels = np.array(test_df.pop('quality_bool'))\n",
        "\n",
        "# Transforming the inputs in numpy tensors\n",
        "train_features = np.array(train_df)\n",
        "val_features = np.array(val_df)\n",
        "test_features = np.array(test_df)"
      ],
      "execution_count": 10,
      "outputs": []
    },
    {
      "cell_type": "markdown",
      "metadata": {
        "id": "KRThm52HyRHV"
      },
      "source": [
        "# Normalizing"
      ]
    },
    {
      "cell_type": "code",
      "metadata": {
        "colab": {
          "base_uri": "https://localhost:8080/"
        },
        "id": "LwcZZBU9yFO8",
        "outputId": "1b56ace6-6d47-48b3-a7d6-31b4a6fd1a76"
      },
      "source": [
        "# Calculates the mean and standard deviation for each training data column\n",
        "mean = np.mean(train_features, axis=0)\n",
        "std = np.std(train_features, axis=0)\n",
        "\n",
        "# Normalizes training data, validation and test using the mean and standard deviation from the training data\n",
        "train_features = (train_features - mean)/std\n",
        "val_features = (val_features - mean)/std\n",
        "test_features = (test_features - mean)/std\n",
        "\n",
        "print('Training Output Dimensions:', train_labels.shape)\n",
        "print('Validation Output Dimensions:', val_labels.shape)\n",
        "print('Test Output Dimensions:', test_labels.shape)\n",
        "print('Training Input Dimensions:', train_features.shape)\n",
        "print('Validation Input Dimensions:', val_features.shape)\n",
        "print('Test Input Dimensions:', test_features.shape)"
      ],
      "execution_count": 11,
      "outputs": [
        {
          "output_type": "stream",
          "text": [
            "Training Output Dimensions: (1279,)\n",
            "Validation Output Dimensions: (160,)\n",
            "Test Output Dimensions: (160,)\n",
            "Training Input Dimensions: (1279, 11)\n",
            "Validation Input Dimensions: (160, 11)\n",
            "Test Input Dimensions: (160, 11)\n"
          ],
          "name": "stdout"
        }
      ]
    },
    {
      "cell_type": "markdown",
      "metadata": {
        "id": "vAQHrZx-4BWb"
      },
      "source": [
        "# Building the RNA"
      ]
    },
    {
      "cell_type": "markdown",
      "metadata": {
        "id": "QEphd4Ua3XM8"
      },
      "source": [
        "## RNA definition and Metrics"
      ]
    },
    {
      "cell_type": "code",
      "metadata": {
        "id": "CRkeloyc007i"
      },
      "source": [
        "# Import model classes and layers fromo Keras \n",
        "from tensorflow.keras.models import Sequential\n",
        "from tensorflow.keras.layers import Dense\n",
        "\n",
        "# Define metrics\n",
        "METRICS = [\n",
        "keras.metrics.TruePositives(name='tp'),\n",
        "keras.metrics.FalsePositives(name='fp'),\n",
        "keras.metrics.TrueNegatives(name='tn'),\n",
        "keras.metrics.FalseNegatives(name='fn'),\n",
        "keras.metrics.BinaryAccuracy(name='accuracy'),\n",
        "keras.metrics.Precision(name='precision'),\n",
        "keras.metrics.Recall(name='recall'),\n",
        "keras.metrics.AUC(name='auc')]\n",
        "\n",
        "# Function to create and compile the RNA\n",
        "def make_model(METRICS, INPUT_DIM):\n",
        "  \n",
        "  # Network Setting\n",
        "  rna = Sequential()\n",
        "  rna.add(Dense(units= 32, activation= 'relu', input_dim= INPUT_DIM))\n",
        "  rna.add(Dense(units= 16, activation= 'relu'))\n",
        "  rna.add(Dense(units= 1, activation= 'sigmoid'))\n",
        "  rna.compile(optimizer = keras.optimizers.Adam(learning_rate = 0.001),\n",
        "  loss = keras.losses.BinaryCrossentropy(),\n",
        "  metrics = METRICS)\n",
        "  return rna"
      ],
      "execution_count": 12,
      "outputs": []
    },
    {
      "cell_type": "code",
      "metadata": {
        "colab": {
          "base_uri": "https://localhost:8080/"
        },
        "id": "fYYnZhAl3i87",
        "outputId": "2971b4ce-a11e-4274-dfcc-647151f6757c"
      },
      "source": [
        "# feature numbers\n",
        "features_shape = train_features.shape[1]\n",
        "print('Dimensão dos dados de entrada =', features_shape)\n",
        "\n",
        "# Compiled RNA (Create)\n",
        "rna = make_model(METRICS, features_shape)\n",
        "rna.summary()"
      ],
      "execution_count": 13,
      "outputs": [
        {
          "output_type": "stream",
          "text": [
            "Dimensão dos dados de entrada = 11\n",
            "Model: \"sequential\"\n",
            "_________________________________________________________________\n",
            "Layer (type)                 Output Shape              Param #   \n",
            "=================================================================\n",
            "dense (Dense)                (None, 32)                384       \n",
            "_________________________________________________________________\n",
            "dense_1 (Dense)              (None, 16)                528       \n",
            "_________________________________________________________________\n",
            "dense_2 (Dense)              (None, 1)                 17        \n",
            "=================================================================\n",
            "Total params: 929\n",
            "Trainable params: 929\n",
            "Non-trainable params: 0\n",
            "_________________________________________________________________\n"
          ],
          "name": "stdout"
        }
      ]
    },
    {
      "cell_type": "markdown",
      "metadata": {
        "id": "YFluRmMT4G5-"
      },
      "source": [
        "## Training"
      ]
    },
    {
      "cell_type": "code",
      "metadata": {
        "id": "Id47IRci3tPB"
      },
      "source": [
        "EPOCHS = 200\n",
        "BATCH_SIZE = 240\n",
        "\n",
        "# Training\n",
        "history = rna.fit(train_features, train_labels, epochs = EPOCHS, batch_size = BATCH_SIZE, \n",
        "                  validation_data = (val_features, val_labels), verbose = 0)"
      ],
      "execution_count": 14,
      "outputs": []
    },
    {
      "cell_type": "markdown",
      "metadata": {
        "id": "q_G4jNTs7QBU"
      },
      "source": [
        "# Analysing the Results"
      ]
    },
    {
      "cell_type": "code",
      "metadata": {
        "id": "z33Se-yq67Uz"
      },
      "source": [
        "# Define function to create a graph from some metrics\n",
        "def plot_metrics(history):\n",
        "    metrics = ['loss', 'auc', 'precision', 'recall']\n",
        "    plt.figure(figsize=(12,8))\n",
        "    for n, metric in enumerate(metrics):\n",
        "        name = metric.replace(\"_\", \" \").capitalize()\n",
        "        plt.subplot(2,2,n+1)\n",
        "        plt.plot(history.epoch, history.history[metric], color = colors[0], label = 'Train')\n",
        "        plt.plot(history.epoch, history.history['val_'+metric], color = 'grey', label = 'Val')\n",
        "        plt.xlabel('Epoch')\n",
        "        plt.ylabel(name)\n",
        "        if metric == 'loss':\n",
        "            plt.ylim([0, plt.ylim()[1]])\n",
        "        elif metric == 'auc':\n",
        "            plt.ylim([0,1])\n",
        "        else:\n",
        "            plt.ylim([0,1])\n",
        "      \n",
        "        plt.legend()"
      ],
      "execution_count": 15,
      "outputs": []
    },
    {
      "cell_type": "code",
      "metadata": {
        "colab": {
          "base_uri": "https://localhost:8080/",
          "height": 501
        },
        "id": "j2LArTuy67Ss",
        "outputId": "a632032f-869d-4c7e-fd76-558d92cffdba"
      },
      "source": [
        "plot_metrics(history)"
      ],
      "execution_count": 16,
      "outputs": [
        {
          "output_type": "display_data",
          "data": {
            "image/png": "[encoded data removed]",
            "text/plain": [
              "<Figure size 864x576 with 4 Axes>"
            ]
          },
          "metadata": {
            "needs_background": "light"
          }
        }
      ]
    },
    {
      "cell_type": "markdown",
      "metadata": {
        "id": "hGOOrY7J7KAg"
      },
      "source": [
        "# Evaluating the Results"
      ]
    },
    {
      "cell_type": "code",
      "metadata": {
        "colab": {
          "base_uri": "https://localhost:8080/"
        },
        "id": "-Ejh4axc67QR",
        "outputId": "9fdb31c8-a327-4312-ca85-e5925a9e8bd6"
      },
      "source": [
        "print('Number of positive examples from test set =', len(test_labels[test_labels> 0.9]))"
      ],
      "execution_count": 17,
      "outputs": [
        {
          "output_type": "stream",
          "text": [
            "Number of positive examples from test set = 91\n"
          ],
          "name": "stdout"
        }
      ]
    },
    {
      "cell_type": "code",
      "metadata": {
        "colab": {
          "base_uri": "https://localhost:8080/"
        },
        "id": "NcpTCCdp5XDh",
        "outputId": "b3dbca7a-21e8-43d3-ae6e-b0f1648d892c"
      },
      "source": [
        "#Test Evaluation\n",
        "base_results = rna.evaluate(test_features, test_labels, batch_size = BATCH_SIZE, verbose = 0)\n",
        "for name, value in zip(rna.metrics_names, base_results):\n",
        "    print(name, ': ', value)\n",
        "print()"
      ],
      "execution_count": 18,
      "outputs": [
        {
          "output_type": "stream",
          "text": [
            "loss :  0.4563659727573395\n",
            "tp :  67.0\n",
            "fp :  11.0\n",
            "tn :  58.0\n",
            "fn :  24.0\n",
            "accuracy :  0.78125\n",
            "precision :  0.8589743375778198\n",
            "recall :  0.7362637519836426\n",
            "auc :  0.8671762943267822\n",
            "\n"
          ],
          "name": "stdout"
        }
      ]
    },
    {
      "cell_type": "code",
      "metadata": {
        "colab": {
          "base_uri": "https://localhost:8080/"
        },
        "id": "kL8PuI-HzwRV",
        "outputId": "c6dcac13-67ef-4445-d90e-bc95aa063a31"
      },
      "source": [
        "#Train Evaluation\n",
        "base_results = rna.evaluate(train_features, train_labels, batch_size = BATCH_SIZE, verbose = 0)\n",
        "for name, value in zip(rna.metrics_names, base_results):\n",
        "    print(name, ': ', value)\n",
        "print()"
      ],
      "execution_count": 19,
      "outputs": [
        {
          "output_type": "stream",
          "text": [
            "loss :  0.38123831152915955\n",
            "tp :  552.0\n",
            "fp :  106.0\n",
            "tn :  500.0\n",
            "fn :  121.0\n",
            "accuracy :  0.8225175738334656\n",
            "precision :  0.8389057517051697\n",
            "recall :  0.8202080130577087\n",
            "auc :  0.9122960567474365\n",
            "\n"
          ],
          "name": "stdout"
        }
      ]
    },
    {
      "cell_type": "code",
      "metadata": {
        "colab": {
          "base_uri": "https://localhost:8080/"
        },
        "id": "0taErLZl9OsO",
        "outputId": "cb7b8080-3163-4afd-a81e-7f4d7518adb7"
      },
      "source": [
        "#Output Test Examples\n",
        "train_pred_base = rna.predict(train_features, batch_size = BATCH_SIZE)\n",
        "test_pred_base = rna.predict(test_features, batch_size = BATCH_SIZE)\n",
        "print('Test examples outputs:')\n",
        "print(test_pred_base[:10])"
      ],
      "execution_count": 20,
      "outputs": [
        {
          "output_type": "stream",
          "text": [
            "Test examples outputs:\n",
            "[[0.1557236 ]\n",
            " [0.6854476 ]\n",
            " [0.21633586]\n",
            " [0.41808015]\n",
            " [0.5309093 ]\n",
            " [0.9153248 ]\n",
            " [0.5450209 ]\n",
            " [0.130543  ]\n",
            " [0.06034201]\n",
            " [0.9518492 ]]\n"
          ],
          "name": "stdout"
        }
      ]
    },
    {
      "cell_type": "markdown",
      "metadata": {
        "id": "C9FIntfRhAx2"
      },
      "source": [
        "## Confusion Matrix"
      ]
    },
    {
      "cell_type": "code",
      "metadata": {
        "colab": {
          "base_uri": "https://localhost:8080/",
          "height": 346
        },
        "id": "Ymx4kDJog_9Z",
        "outputId": "c30ad029-bccd-4c51-c632-fde45854242e"
      },
      "source": [
        "#Test\n",
        "conf_mat = confusion_matrix(y_true= test_labels, y_pred= np.round(test_pred_base))\n",
        "print('COnfusion Matrix\\n', conf_mat)\n",
        "\n",
        "labels = ['Class 0', 'Class 1']\n",
        "plt.figure(figsize=(6,6))\n",
        "fig = plt.figure()\n",
        "ax = fig.add_subplot(111)\n",
        "cax = ax.matshow(conf_mat, cmap=plt.cm.Blues)\n",
        "fig.colorbar(cax)\n",
        "ax.set_xticklabels([''] + labels)\n",
        "ax.set_yticklabels([''] + labels)\n",
        "plt.xlabel('Predicted')\n",
        "plt.ylabel('Expected')\n",
        "plt.show()"
      ],
      "execution_count": 21,
      "outputs": [
        {
          "output_type": "stream",
          "text": [
            "COnfusion Matrix\n",
            " [[58 11]\n",
            " [24 67]]\n"
          ],
          "name": "stdout"
        },
        {
          "output_type": "display_data",
          "data": {
            "text/plain": [
              "<Figure size 432x432 with 0 Axes>"
            ]
          },
          "metadata": {}
        },
        {
          "output_type": "display_data",
          "data": {
            "image/png": "[encoded data removed]",
            "text/plain": [
              "<Figure size 432x288 with 2 Axes>"
            ]
          },
          "metadata": {
            "needs_background": "light"
          }
        }
      ]
    },
    {
      "cell_type": "code",
      "metadata": {
        "colab": {
          "base_uri": "https://localhost:8080/",
          "height": 346
        },
        "id": "TS45vact0Dvt",
        "outputId": "f2f03b71-eea4-4b7e-8231-6513c3216164"
      },
      "source": [
        "#Train\n",
        "conf_mat = confusion_matrix(y_true= train_labels, y_pred= np.round(train_pred_base))\n",
        "print('COnfusion Matrix\\n', conf_mat)\n",
        "\n",
        "labels = ['Class 0', 'Class 1']\n",
        "plt.figure(figsize=(6,6))\n",
        "fig = plt.figure()\n",
        "ax = fig.add_subplot(111)\n",
        "cax = ax.matshow(conf_mat, cmap=plt.cm.Blues)\n",
        "fig.colorbar(cax)\n",
        "ax.set_xticklabels([''] + labels)\n",
        "ax.set_yticklabels([''] + labels)\n",
        "plt.xlabel('Predicted')\n",
        "plt.ylabel('Expected')\n",
        "plt.show()"
      ],
      "execution_count": 22,
      "outputs": [
        {
          "output_type": "stream",
          "text": [
            "COnfusion Matrix\n",
            " [[500 106]\n",
            " [121 552]]\n"
          ],
          "name": "stdout"
        },
        {
          "output_type": "display_data",
          "data": {
            "text/plain": [
              "<Figure size 432x432 with 0 Axes>"
            ]
          },
          "metadata": {}
        },
        {
          "output_type": "display_data",
          "data": {
            "image/png": "[encoded data removed]",
            "text/plain": [
              "<Figure size 432x288 with 2 Axes>"
            ]
          },
          "metadata": {
            "needs_background": "light"
          }
        }
      ]
    },
    {
      "cell_type": "markdown",
      "metadata": {
        "id": "NDe77s1QhDvT"
      },
      "source": [
        "## ROC Curve"
      ]
    },
    {
      "cell_type": "code",
      "metadata": {
        "colab": {
          "base_uri": "https://localhost:8080/",
          "height": 392
        },
        "id": "AnBjP2Sl9BNG",
        "outputId": "aa6a71c9-9108-4709-deaf-02339d753efc"
      },
      "source": [
        "fp_train, tp_train, _ = sklearn.metrics.roc_curve(train_labels, train_pred_base)\n",
        "fp_test, tp_test, _ = sklearn.metrics.roc_curve(test_labels, test_pred_base)\n",
        "plt.figure(figsize=(7, 6))\n",
        "plt.plot(100*fp_train, 100*tp_train, 'b', label= 'Training Data')\n",
        "plt.plot(100*fp_test, 100*tp_test, 'r', label= 'Test Data')\n",
        "plt.xlabel('False Positives [%]')\n",
        "plt.ylabel('True Positives [%]')\n",
        "plt.xlim([0,100])\n",
        "plt.ylim([80,100])\n",
        "plt.grid(True)\n",
        "ax = plt.gca()\n",
        "plt.legend(loc='lower right')\n",
        "plt.show()"
      ],
      "execution_count": 23,
      "outputs": [
        {
          "output_type": "display_data",
          "data": {
            "image/png": "[encoded data removed]",
            "text/plain": [
              "<Figure size 504x432 with 1 Axes>"
            ]
          },
          "metadata": {
            "needs_background": "light"
          }
        }
      ]
    },
    {
      "cell_type": "markdown",
      "metadata": {
        "id": "e7gde5lQCKCf"
      },
      "source": [
        "## Real and Predicted Classes"
      ]
    },
    {
      "cell_type": "code",
      "metadata": {
        "id": "OSvwI0HuBa1E"
      },
      "source": [
        "y_pred = rna.predict(test_features)\n",
        "classes = np.round(y_pred)"
      ],
      "execution_count": 24,
      "outputs": []
    },
    {
      "cell_type": "code",
      "metadata": {
        "id": "zObeJMtR2eMa",
        "colab": {
          "base_uri": "https://localhost:8080/",
          "height": 295
        },
        "outputId": "0fee4452-a149-47ac-f47f-fcfdf2cae549"
      },
      "source": [
        "# Real and Predicted Classes\n",
        "plt.figure(figsize=(16, 4))\n",
        "plt.plot(val_labels, 'ro', label='Real Classes')\n",
        "plt.plot(classes, 'bo', label='Predicted Classes')\n",
        "plt.title('Real and Predicted Classes')\n",
        "plt.xlabel('Examples')\n",
        "plt.ylabel('Classes')\n",
        "plt.legend()\n",
        "plt.show()"
      ],
      "execution_count": 25,
      "outputs": [
        {
          "output_type": "display_data",
          "data": {
            "image/png": "[encoded data removed]",
            "text/plain": [
              "<Figure size 1152x288 with 1 Axes>"
            ]
          },
          "metadata": {
            "needs_background": "light"
          }
        }
      ]
    },
    {
      "cell_type": "code",
      "metadata": {
        "id": "D353tRQcCBS-"
      },
      "source": [
        ""
      ],
      "execution_count": 25,
      "outputs": []
    }
  ]
}