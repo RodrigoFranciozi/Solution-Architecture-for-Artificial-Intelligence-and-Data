{
  "nbformat": 4,
  "nbformat_minor": 5,
  "metadata": {
    "kernelspec": {
      "display_name": "Python 3",
      "language": "python",
      "name": "python3"
    },
    "language_info": {
      "codemirror_mode": {
        "name": "ipython",
        "version": 3
      },
      "file_extension": ".py",
      "mimetype": "text/x-python",
      "name": "python",
      "nbconvert_exporter": "python",
      "pygments_lexer": "ipython3",
      "version": "3.8.8"
    },
    "colab": {
      "name": "T4_Classificação_multiclasse_Chinese_MNIST.ipynb",
      "provenance": [],
      "collapsed_sections": [
        "2bcbe917",
        "46627a77"
      ]
    },
    "accelerator": "GPU"
  },
  "cells": [
    {
      "cell_type": "markdown",
      "metadata": {
        "id": "1a2ca156"
      },
      "source": [
        "# Trabalho #4 - Classificação multiclasse\n",
        "\n",
        "Nesse trabalho você vai treinar uma rede para realizar uma tarefa de classificação multiclasse.\n",
        "\n",
        "A tarefa é classificar imagens de dígitos numéricos chineses."
      ],
      "id": "1a2ca156"
    },
    {
      "cell_type": "markdown",
      "metadata": {
        "id": "4cdf7d41"
      },
      "source": [
        "## Coloque seu nome aqui:\n",
        "\n",
        "Aluno: Rodrigo Franciozi Rodrigues da Silva\n",
        "\n",
        "RA: 20.83984-7"
      ],
      "id": "4cdf7d41"
    },
    {
      "cell_type": "markdown",
      "metadata": {
        "id": "2bcbe917"
      },
      "source": [
        "### Importação das principais bibliotecas\n",
        "\n",
        "Em primeiro lugar é necessário importar alguns pacotes do Python que serão usados nesse trabalho."
      ],
      "id": "2bcbe917"
    },
    {
      "cell_type": "code",
      "metadata": {
        "id": "3fe23845"
      },
      "source": [
        "import numpy as np\n",
        "import matplotlib.pyplot as plt\n",
        "import tensorflow as tf\n",
        "import pandas as pd\n",
        "import os"
      ],
      "id": "3fe23845",
      "execution_count": 1,
      "outputs": []
    },
    {
      "cell_type": "code",
      "metadata": {
        "colab": {
          "base_uri": "https://localhost:8080/"
        },
        "id": "03htTNCDohfc",
        "outputId": "6f7b6c9a-b08d-47b1-99ba-ac4d2e577532"
      },
      "source": [
        "from google.colab import drive\n",
        "drive.mount('/content/drive')"
      ],
      "id": "03htTNCDohfc",
      "execution_count": 2,
      "outputs": [
        {
          "output_type": "stream",
          "name": "stdout",
          "text": [
            "Drive already mounted at /content/drive; to attempt to forcibly remount, call drive.mount(\"/content/drive\", force_remount=True).\n"
          ]
        }
      ]
    },
    {
      "cell_type": "markdown",
      "metadata": {
        "id": "df36cc69"
      },
      "source": [
        "## 1 - Visão geral do problema\n",
        "\n",
        "O objetivo desse problema é determinar o dígito da lingua chinesa que é mostrado em uma imagem usando uma RNA. Assim, esse problema consiste em dada uma imagem, a RNA avalia a probabilidade de existirem determinados dígitos na imagem e determina qual o mais provável entre 15 possíveis.\n",
        "\n",
        "O banco de dados usado nesse exemplo é o Chinese-MNIST, que consiste de imagens de dígitos chineses. Esse banco de dados pode ser obtido no Kaggle em https://www.kaggle.com/gpreda/chinese-mnist."
      ],
      "id": "df36cc69"
    },
    {
      "cell_type": "markdown",
      "metadata": {
        "id": "46627a77"
      },
      "source": [
        "## 2 - Dados de treinamento\n",
        "\n",
        "Características dos dados:\n",
        "\n",
        "- O banco de dados Chinese MNIST possui 15.000 exemplos;\n",
        "- Cada exemplo consiste de uma imagem em tons de cinza, de dimensão 64x64 pixels;\n",
        "- Cada imagem é associada a um rótulo de 15 classes;\n",
        "- O valor da intensidade luminosa de cada pixel da imagem é um número inteiro entre 0 e 255.\n",
        "\n",
        "Primeiramente você deve acessar o link do Kaggle onde se encontra os dados e fazer download dos mesmos e descompactar o arquivo. \n",
        "\n",
        "\n",
        "### 2.1 Carregar dados\n",
        "\n",
        "Após descompactar o arquivo com os dados execute as células abaixo para carregar e inspecionar os dados.\n",
        "\n",
        "Note que os dados devem estar em uma pasta de nome `Chinese_MNIST` e as imagens estão dentro da pasta `Chinese_MNIST/data`.\n",
        "\n",
        "O arquivo `chinese_mnist.csv` contém os nomes dos arquivos das imagens codificados e as classes de cada imagem."
      ],
      "id": "46627a77"
    },
    {
      "cell_type": "code",
      "metadata": {
        "scrolled": true,
        "colab": {
          "base_uri": "https://localhost:8080/",
          "height": 0
        },
        "id": "8b66735d",
        "outputId": "4eda77ab-5ac4-4b68-9727-4d9ae48731a5"
      },
      "source": [
        "# Carrega arquivo de informações sobre dados\n",
        "path = '/content/drive/MyDrive/Education/IMT/Pós Graduação/IA com Deep Learning/Developing Neural Network Tools/Atividade 4/chinese_mnist.csv'\n",
        "data_df = pd.read_csv(path)\n",
        "data_df.head()"
      ],
      "id": "8b66735d",
      "execution_count": 3,
      "outputs": [
        {
          "output_type": "execute_result",
          "data": {
            "text/html": [
              "<div>\n",
              "<style scoped>\n",
              "    .dataframe tbody tr th:only-of-type {\n",
              "        vertical-align: middle;\n",
              "    }\n",
              "\n",
              "    .dataframe tbody tr th {\n",
              "        vertical-align: top;\n",
              "    }\n",
              "\n",
              "    .dataframe thead th {\n",
              "        text-align: right;\n",
              "    }\n",
              "</style>\n",
              "<table border=\"1\" class=\"dataframe\">\n",
              "  <thead>\n",
              "    <tr style=\"text-align: right;\">\n",
              "      <th></th>\n",
              "      <th>suite_id</th>\n",
              "      <th>sample_id</th>\n",
              "      <th>code</th>\n",
              "      <th>value</th>\n",
              "      <th>character</th>\n",
              "    </tr>\n",
              "  </thead>\n",
              "  <tbody>\n",
              "    <tr>\n",
              "      <th>0</th>\n",
              "      <td>1</td>\n",
              "      <td>1</td>\n",
              "      <td>10</td>\n",
              "      <td>9</td>\n",
              "      <td>九</td>\n",
              "    </tr>\n",
              "    <tr>\n",
              "      <th>1</th>\n",
              "      <td>1</td>\n",
              "      <td>10</td>\n",
              "      <td>10</td>\n",
              "      <td>9</td>\n",
              "      <td>九</td>\n",
              "    </tr>\n",
              "    <tr>\n",
              "      <th>2</th>\n",
              "      <td>1</td>\n",
              "      <td>2</td>\n",
              "      <td>10</td>\n",
              "      <td>9</td>\n",
              "      <td>九</td>\n",
              "    </tr>\n",
              "    <tr>\n",
              "      <th>3</th>\n",
              "      <td>1</td>\n",
              "      <td>3</td>\n",
              "      <td>10</td>\n",
              "      <td>9</td>\n",
              "      <td>九</td>\n",
              "    </tr>\n",
              "    <tr>\n",
              "      <th>4</th>\n",
              "      <td>1</td>\n",
              "      <td>4</td>\n",
              "      <td>10</td>\n",
              "      <td>9</td>\n",
              "      <td>九</td>\n",
              "    </tr>\n",
              "  </tbody>\n",
              "</table>\n",
              "</div>"
            ],
            "text/plain": [
              "   suite_id  sample_id  code  value character\n",
              "0         1          1    10      9         九\n",
              "1         1         10    10      9         九\n",
              "2         1          2    10      9         九\n",
              "3         1          3    10      9         九\n",
              "4         1          4    10      9         九"
            ]
          },
          "metadata": {},
          "execution_count": 3
        }
      ]
    },
    {
      "cell_type": "markdown",
      "metadata": {
        "id": "5a3fdcdb"
      },
      "source": [
        "### 2.2 Inspecionar dados\n",
        "\n",
        "Vamos verificar o número de dados de cada classe de dígito, se existem dados ausentes e quantos arquivos de imagens existem."
      ],
      "id": "5a3fdcdb"
    },
    {
      "cell_type": "code",
      "metadata": {
        "colab": {
          "base_uri": "https://localhost:8080/"
        },
        "id": "d4a9e8ce",
        "outputId": "c3bd0bf4-2ecf-4c5b-970a-8c93450a672a"
      },
      "source": [
        "data_df.groupby([\"value\",\"character\"]).size()"
      ],
      "id": "d4a9e8ce",
      "execution_count": 4,
      "outputs": [
        {
          "output_type": "execute_result",
          "data": {
            "text/plain": [
              "value      character\n",
              "0          零            1000\n",
              "1          一            1000\n",
              "2          二            1000\n",
              "3          三            1000\n",
              "4          四            1000\n",
              "5          五            1000\n",
              "6          六            1000\n",
              "7          七            1000\n",
              "8          八            1000\n",
              "9          九            1000\n",
              "10         十            1000\n",
              "100        百            1000\n",
              "1000       千            1000\n",
              "10000      万            1000\n",
              "100000000  亿            1000\n",
              "dtype: int64"
            ]
          },
          "metadata": {},
          "execution_count": 4
        }
      ]
    },
    {
      "cell_type": "code",
      "metadata": {
        "colab": {
          "base_uri": "https://localhost:8080/",
          "height": 0
        },
        "id": "d2928269",
        "outputId": "e937ec01-7fe6-4de6-bfd4-2f7328c6e87d"
      },
      "source": [
        "# Verifica se existem dados ausentes\n",
        "total = data_df.isnull().sum().sort_values(ascending = False)\n",
        "percent = (data_df.isnull().sum()/data_df.isnull().count()*100).sort_values(ascending = False)\n",
        "missing_data = pd.concat([total, percent], axis=1, keys=['Total', 'Percent'])\n",
        "missing_data"
      ],
      "id": "d2928269",
      "execution_count": 5,
      "outputs": [
        {
          "output_type": "execute_result",
          "data": {
            "text/html": [
              "<div>\n",
              "<style scoped>\n",
              "    .dataframe tbody tr th:only-of-type {\n",
              "        vertical-align: middle;\n",
              "    }\n",
              "\n",
              "    .dataframe tbody tr th {\n",
              "        vertical-align: top;\n",
              "    }\n",
              "\n",
              "    .dataframe thead th {\n",
              "        text-align: right;\n",
              "    }\n",
              "</style>\n",
              "<table border=\"1\" class=\"dataframe\">\n",
              "  <thead>\n",
              "    <tr style=\"text-align: right;\">\n",
              "      <th></th>\n",
              "      <th>Total</th>\n",
              "      <th>Percent</th>\n",
              "    </tr>\n",
              "  </thead>\n",
              "  <tbody>\n",
              "    <tr>\n",
              "      <th>character</th>\n",
              "      <td>0</td>\n",
              "      <td>0.0</td>\n",
              "    </tr>\n",
              "    <tr>\n",
              "      <th>value</th>\n",
              "      <td>0</td>\n",
              "      <td>0.0</td>\n",
              "    </tr>\n",
              "    <tr>\n",
              "      <th>code</th>\n",
              "      <td>0</td>\n",
              "      <td>0.0</td>\n",
              "    </tr>\n",
              "    <tr>\n",
              "      <th>sample_id</th>\n",
              "      <td>0</td>\n",
              "      <td>0.0</td>\n",
              "    </tr>\n",
              "    <tr>\n",
              "      <th>suite_id</th>\n",
              "      <td>0</td>\n",
              "      <td>0.0</td>\n",
              "    </tr>\n",
              "  </tbody>\n",
              "</table>\n",
              "</div>"
            ],
            "text/plain": [
              "           Total  Percent\n",
              "character      0      0.0\n",
              "value          0      0.0\n",
              "code           0      0.0\n",
              "sample_id      0      0.0\n",
              "suite_id       0      0.0"
            ]
          },
          "metadata": {},
          "execution_count": 5
        }
      ]
    },
    {
      "cell_type": "code",
      "metadata": {
        "id": "wLzQ1XFArHu-"
      },
      "source": [
        "import zipfile\n",
        "with zipfile.ZipFile(\"/content/drive/MyDrive/Education/IMT/Pós Graduação/IA com Deep Learning/Developing Neural Network Tools/Atividade 4/data.zip\",\"r\") as zip_ref:\n",
        "  zip_ref.extractall(\"targetdir\")"
      ],
      "id": "wLzQ1XFArHu-",
      "execution_count": 6,
      "outputs": []
    },
    {
      "cell_type": "code",
      "metadata": {
        "colab": {
          "base_uri": "https://localhost:8080/"
        },
        "id": "ae8fa3c8",
        "outputId": "e32c9e99-9276-4e26-beae-056d4f9193ab"
      },
      "source": [
        "# Verifica número de arquivos de imagens existentes\n",
        "image_files = list(os.listdir('targetdir/data'))\n",
        "print(\"Numero de imagens: {}\".format(len(image_files)))"
      ],
      "id": "ae8fa3c8",
      "execution_count": 7,
      "outputs": [
        {
          "output_type": "stream",
          "name": "stdout",
          "text": [
            "Numero de imagens: 15000\n"
          ]
        }
      ]
    },
    {
      "cell_type": "markdown",
      "metadata": {
        "id": "01b30dab"
      },
      "source": [
        "### 2.3 Anexar propriedades das imagens ao dataframe\n",
        "\n",
        "Como as imagens tem uma convenção de nome de `input_ [siote_id] _ [sample_id] _ [código] .jpg`, devemos criar mais uma coluna no dataframe com o nome do arquivo das imagens para podermos associar cada imagem à sua classe correspondente."
      ],
      "id": "01b30dab"
    },
    {
      "cell_type": "code",
      "metadata": {
        "colab": {
          "base_uri": "https://localhost:8080/",
          "height": 0
        },
        "id": "582e4606",
        "outputId": "9cbb1a03-cf05-4ac2-fda4-2a0cbeaf688e"
      },
      "source": [
        "import skimage.io\n",
        "\n",
        "def image_files(x):\n",
        "    file_name = f\"input_{x[0]}_{x[1]}_{x[2]}.jpg\"\n",
        "    return file_name\n",
        "data_df[\"file\"] = data_df.apply(image_files, axis=1)\n",
        "\n",
        "def image_sizes(file_name):\n",
        "    image = skimage.io.imread(\"Chinese_MNIST/data/\" + file_name)\n",
        "    return list(image.shape)\n",
        "\n",
        "data_df = pd.concat([data_df],axis=1, sort=False)\n",
        "\n",
        "data_df.head()"
      ],
      "id": "582e4606",
      "execution_count": 8,
      "outputs": [
        {
          "output_type": "execute_result",
          "data": {
            "text/html": [
              "<div>\n",
              "<style scoped>\n",
              "    .dataframe tbody tr th:only-of-type {\n",
              "        vertical-align: middle;\n",
              "    }\n",
              "\n",
              "    .dataframe tbody tr th {\n",
              "        vertical-align: top;\n",
              "    }\n",
              "\n",
              "    .dataframe thead th {\n",
              "        text-align: right;\n",
              "    }\n",
              "</style>\n",
              "<table border=\"1\" class=\"dataframe\">\n",
              "  <thead>\n",
              "    <tr style=\"text-align: right;\">\n",
              "      <th></th>\n",
              "      <th>suite_id</th>\n",
              "      <th>sample_id</th>\n",
              "      <th>code</th>\n",
              "      <th>value</th>\n",
              "      <th>character</th>\n",
              "      <th>file</th>\n",
              "    </tr>\n",
              "  </thead>\n",
              "  <tbody>\n",
              "    <tr>\n",
              "      <th>0</th>\n",
              "      <td>1</td>\n",
              "      <td>1</td>\n",
              "      <td>10</td>\n",
              "      <td>9</td>\n",
              "      <td>九</td>\n",
              "      <td>input_1_1_10.jpg</td>\n",
              "    </tr>\n",
              "    <tr>\n",
              "      <th>1</th>\n",
              "      <td>1</td>\n",
              "      <td>10</td>\n",
              "      <td>10</td>\n",
              "      <td>9</td>\n",
              "      <td>九</td>\n",
              "      <td>input_1_10_10.jpg</td>\n",
              "    </tr>\n",
              "    <tr>\n",
              "      <th>2</th>\n",
              "      <td>1</td>\n",
              "      <td>2</td>\n",
              "      <td>10</td>\n",
              "      <td>9</td>\n",
              "      <td>九</td>\n",
              "      <td>input_1_2_10.jpg</td>\n",
              "    </tr>\n",
              "    <tr>\n",
              "      <th>3</th>\n",
              "      <td>1</td>\n",
              "      <td>3</td>\n",
              "      <td>10</td>\n",
              "      <td>9</td>\n",
              "      <td>九</td>\n",
              "      <td>input_1_3_10.jpg</td>\n",
              "    </tr>\n",
              "    <tr>\n",
              "      <th>4</th>\n",
              "      <td>1</td>\n",
              "      <td>4</td>\n",
              "      <td>10</td>\n",
              "      <td>9</td>\n",
              "      <td>九</td>\n",
              "      <td>input_1_4_10.jpg</td>\n",
              "    </tr>\n",
              "  </tbody>\n",
              "</table>\n",
              "</div>"
            ],
            "text/plain": [
              "   suite_id  sample_id  code  value character               file\n",
              "0         1          1    10      9         九   input_1_1_10.jpg\n",
              "1         1         10    10      9         九  input_1_10_10.jpg\n",
              "2         1          2    10      9         九   input_1_2_10.jpg\n",
              "3         1          3    10      9         九   input_1_3_10.jpg\n",
              "4         1          4    10      9         九   input_1_4_10.jpg"
            ]
          },
          "metadata": {},
          "execution_count": 8
        }
      ]
    },
    {
      "cell_type": "markdown",
      "metadata": {
        "id": "38b5d9ab"
      },
      "source": [
        "## 3. Processamento dos dados\n",
        "\n",
        "Primeiramente precisamos dividir os dados nos conjuntos de treinamento e teste. Vamos usar 80% para treinamento e 20% para teste/validação."
      ],
      "id": "38b5d9ab"
    },
    {
      "cell_type": "code",
      "metadata": {
        "colab": {
          "base_uri": "https://localhost:8080/"
        },
        "id": "6bd2d8ea",
        "outputId": "3ff94df2-e5cd-49a4-e7e9-b26f305da379"
      },
      "source": [
        "from sklearn.model_selection import train_test_split\n",
        "\n",
        "train_df, test_df = train_test_split(data_df, test_size = 0.2, random_state = 42, stratify = data_df[\"code\"].values)\n",
        "\n",
        "print(\"Train set: {}\".format(train_df.shape))\n",
        "print(\"Test set: {}\".format(test_df.shape))"
      ],
      "id": "6bd2d8ea",
      "execution_count": 9,
      "outputs": [
        {
          "output_type": "stream",
          "name": "stdout",
          "text": [
            "Train set: (12000, 6)\n",
            "Test set: (3000, 6)\n"
          ]
        }
      ]
    },
    {
      "cell_type": "markdown",
      "metadata": {
        "id": "a9f5bcf9"
      },
      "source": [
        "As imagens precisam ser carregadas, redimensionadas e normalizadas. Para isso vamos usar uma função que carrega as imagens, redimensiona-as para (64, 64) e normaliza os pixels para terem valores reais entre 0 e 1.\n",
        "\n",
        "Precisamos também de uma função para criar a classe do dígito correspondente a cada imagem."
      ],
      "id": "a9f5bcf9"
    },
    {
      "cell_type": "code",
      "metadata": {
        "scrolled": true,
        "colab": {
          "base_uri": "https://localhost:8080/"
        },
        "id": "a85e8c11",
        "outputId": "3f5691f9-86f9-4945-80a3-8daf4a176c91"
      },
      "source": [
        "import skimage.transform\n",
        "\n",
        "def read_image(file_name):\n",
        "    #print(file_name)\n",
        "    image = skimage.io.imread(\"targetdir/data/\" + file_name)\n",
        "    image = skimage.transform.resize(image, (64, 64), mode='reflect')\n",
        "    return image\n",
        "\n",
        "def categories_encoder(dataset, var='character'):\n",
        "    X = np.stack(dataset['file'].apply(read_image))\n",
        "    y = pd.get_dummies(dataset[var], drop_first=False)\n",
        "    return X, y\n",
        "\n",
        "X_train, y_train = categories_encoder(train_df)\n",
        "X_test, y_test = categories_encoder(test_df)\n",
        "\n",
        "print('Dimensão do tensor das imagens de treinamento:', X_train.shape)\n",
        "print('Dimensão do tensor das imagens de teste:', X_test.shape)\n",
        "print('Dimensão do tensor de classes de treinamento:', y_train.shape)\n",
        "print('Dimensão do tensor de classes de teste:', y_test.shape)"
      ],
      "id": "a85e8c11",
      "execution_count": 10,
      "outputs": [
        {
          "output_type": "stream",
          "name": "stdout",
          "text": [
            "Dimensão do tensor das imagens de treinamento: (12000, 64, 64)\n",
            "Dimensão do tensor das imagens de teste: (3000, 64, 64)\n",
            "Dimensão do tensor de classes de treinamento: (12000, 15)\n",
            "Dimensão do tensor de classes de teste: (3000, 15)\n"
          ]
        }
      ]
    },
    {
      "cell_type": "code",
      "metadata": {
        "colab": {
          "base_uri": "https://localhost:8080/",
          "height": 417
        },
        "id": "fr-nQX4s-g6W",
        "outputId": "000ce83b-f938-42db-f74a-1aa796f95bae"
      },
      "source": [
        "y_train"
      ],
      "id": "fr-nQX4s-g6W",
      "execution_count": 11,
      "outputs": [
        {
          "output_type": "execute_result",
          "data": {
            "text/html": [
              "<div>\n",
              "<style scoped>\n",
              "    .dataframe tbody tr th:only-of-type {\n",
              "        vertical-align: middle;\n",
              "    }\n",
              "\n",
              "    .dataframe tbody tr th {\n",
              "        vertical-align: top;\n",
              "    }\n",
              "\n",
              "    .dataframe thead th {\n",
              "        text-align: right;\n",
              "    }\n",
              "</style>\n",
              "<table border=\"1\" class=\"dataframe\">\n",
              "  <thead>\n",
              "    <tr style=\"text-align: right;\">\n",
              "      <th></th>\n",
              "      <th>一</th>\n",
              "      <th>七</th>\n",
              "      <th>万</th>\n",
              "      <th>三</th>\n",
              "      <th>九</th>\n",
              "      <th>二</th>\n",
              "      <th>五</th>\n",
              "      <th>亿</th>\n",
              "      <th>八</th>\n",
              "      <th>六</th>\n",
              "      <th>十</th>\n",
              "      <th>千</th>\n",
              "      <th>四</th>\n",
              "      <th>百</th>\n",
              "      <th>零</th>\n",
              "    </tr>\n",
              "  </thead>\n",
              "  <tbody>\n",
              "    <tr>\n",
              "      <th>11415</th>\n",
              "      <td>0</td>\n",
              "      <td>0</td>\n",
              "      <td>0</td>\n",
              "      <td>0</td>\n",
              "      <td>0</td>\n",
              "      <td>0</td>\n",
              "      <td>1</td>\n",
              "      <td>0</td>\n",
              "      <td>0</td>\n",
              "      <td>0</td>\n",
              "      <td>0</td>\n",
              "      <td>0</td>\n",
              "      <td>0</td>\n",
              "      <td>0</td>\n",
              "      <td>0</td>\n",
              "    </tr>\n",
              "    <tr>\n",
              "      <th>2317</th>\n",
              "      <td>0</td>\n",
              "      <td>0</td>\n",
              "      <td>0</td>\n",
              "      <td>0</td>\n",
              "      <td>0</td>\n",
              "      <td>0</td>\n",
              "      <td>0</td>\n",
              "      <td>0</td>\n",
              "      <td>0</td>\n",
              "      <td>0</td>\n",
              "      <td>0</td>\n",
              "      <td>0</td>\n",
              "      <td>0</td>\n",
              "      <td>1</td>\n",
              "      <td>0</td>\n",
              "    </tr>\n",
              "    <tr>\n",
              "      <th>6232</th>\n",
              "      <td>0</td>\n",
              "      <td>0</td>\n",
              "      <td>0</td>\n",
              "      <td>0</td>\n",
              "      <td>0</td>\n",
              "      <td>0</td>\n",
              "      <td>0</td>\n",
              "      <td>0</td>\n",
              "      <td>0</td>\n",
              "      <td>0</td>\n",
              "      <td>0</td>\n",
              "      <td>0</td>\n",
              "      <td>0</td>\n",
              "      <td>0</td>\n",
              "      <td>1</td>\n",
              "    </tr>\n",
              "    <tr>\n",
              "      <th>11346</th>\n",
              "      <td>0</td>\n",
              "      <td>0</td>\n",
              "      <td>0</td>\n",
              "      <td>0</td>\n",
              "      <td>0</td>\n",
              "      <td>0</td>\n",
              "      <td>1</td>\n",
              "      <td>0</td>\n",
              "      <td>0</td>\n",
              "      <td>0</td>\n",
              "      <td>0</td>\n",
              "      <td>0</td>\n",
              "      <td>0</td>\n",
              "      <td>0</td>\n",
              "      <td>0</td>\n",
              "    </tr>\n",
              "    <tr>\n",
              "      <th>10184</th>\n",
              "      <td>0</td>\n",
              "      <td>0</td>\n",
              "      <td>0</td>\n",
              "      <td>0</td>\n",
              "      <td>0</td>\n",
              "      <td>0</td>\n",
              "      <td>0</td>\n",
              "      <td>0</td>\n",
              "      <td>0</td>\n",
              "      <td>0</td>\n",
              "      <td>0</td>\n",
              "      <td>0</td>\n",
              "      <td>1</td>\n",
              "      <td>0</td>\n",
              "      <td>0</td>\n",
              "    </tr>\n",
              "    <tr>\n",
              "      <th>...</th>\n",
              "      <td>...</td>\n",
              "      <td>...</td>\n",
              "      <td>...</td>\n",
              "      <td>...</td>\n",
              "      <td>...</td>\n",
              "      <td>...</td>\n",
              "      <td>...</td>\n",
              "      <td>...</td>\n",
              "      <td>...</td>\n",
              "      <td>...</td>\n",
              "      <td>...</td>\n",
              "      <td>...</td>\n",
              "      <td>...</td>\n",
              "      <td>...</td>\n",
              "      <td>...</td>\n",
              "    </tr>\n",
              "    <tr>\n",
              "      <th>3955</th>\n",
              "      <td>0</td>\n",
              "      <td>0</td>\n",
              "      <td>0</td>\n",
              "      <td>0</td>\n",
              "      <td>0</td>\n",
              "      <td>0</td>\n",
              "      <td>0</td>\n",
              "      <td>0</td>\n",
              "      <td>0</td>\n",
              "      <td>0</td>\n",
              "      <td>0</td>\n",
              "      <td>1</td>\n",
              "      <td>0</td>\n",
              "      <td>0</td>\n",
              "      <td>0</td>\n",
              "    </tr>\n",
              "    <tr>\n",
              "      <th>5435</th>\n",
              "      <td>0</td>\n",
              "      <td>0</td>\n",
              "      <td>0</td>\n",
              "      <td>0</td>\n",
              "      <td>0</td>\n",
              "      <td>0</td>\n",
              "      <td>0</td>\n",
              "      <td>1</td>\n",
              "      <td>0</td>\n",
              "      <td>0</td>\n",
              "      <td>0</td>\n",
              "      <td>0</td>\n",
              "      <td>0</td>\n",
              "      <td>0</td>\n",
              "      <td>0</td>\n",
              "    </tr>\n",
              "    <tr>\n",
              "      <th>12449</th>\n",
              "      <td>0</td>\n",
              "      <td>0</td>\n",
              "      <td>0</td>\n",
              "      <td>0</td>\n",
              "      <td>0</td>\n",
              "      <td>0</td>\n",
              "      <td>0</td>\n",
              "      <td>0</td>\n",
              "      <td>0</td>\n",
              "      <td>1</td>\n",
              "      <td>0</td>\n",
              "      <td>0</td>\n",
              "      <td>0</td>\n",
              "      <td>0</td>\n",
              "      <td>0</td>\n",
              "    </tr>\n",
              "    <tr>\n",
              "      <th>13480</th>\n",
              "      <td>0</td>\n",
              "      <td>1</td>\n",
              "      <td>0</td>\n",
              "      <td>0</td>\n",
              "      <td>0</td>\n",
              "      <td>0</td>\n",
              "      <td>0</td>\n",
              "      <td>0</td>\n",
              "      <td>0</td>\n",
              "      <td>0</td>\n",
              "      <td>0</td>\n",
              "      <td>0</td>\n",
              "      <td>0</td>\n",
              "      <td>0</td>\n",
              "      <td>0</td>\n",
              "    </tr>\n",
              "    <tr>\n",
              "      <th>13338</th>\n",
              "      <td>0</td>\n",
              "      <td>1</td>\n",
              "      <td>0</td>\n",
              "      <td>0</td>\n",
              "      <td>0</td>\n",
              "      <td>0</td>\n",
              "      <td>0</td>\n",
              "      <td>0</td>\n",
              "      <td>0</td>\n",
              "      <td>0</td>\n",
              "      <td>0</td>\n",
              "      <td>0</td>\n",
              "      <td>0</td>\n",
              "      <td>0</td>\n",
              "      <td>0</td>\n",
              "    </tr>\n",
              "  </tbody>\n",
              "</table>\n",
              "<p>12000 rows × 15 columns</p>\n",
              "</div>"
            ],
            "text/plain": [
              "       一  七  万  三  九  二  五  亿  八  六  十  千  四  百  零\n",
              "11415  0  0  0  0  0  0  1  0  0  0  0  0  0  0  0\n",
              "2317   0  0  0  0  0  0  0  0  0  0  0  0  0  1  0\n",
              "6232   0  0  0  0  0  0  0  0  0  0  0  0  0  0  1\n",
              "11346  0  0  0  0  0  0  1  0  0  0  0  0  0  0  0\n",
              "10184  0  0  0  0  0  0  0  0  0  0  0  0  1  0  0\n",
              "...   .. .. .. .. .. .. .. .. .. .. .. .. .. .. ..\n",
              "3955   0  0  0  0  0  0  0  0  0  0  0  1  0  0  0\n",
              "5435   0  0  0  0  0  0  0  1  0  0  0  0  0  0  0\n",
              "12449  0  0  0  0  0  0  0  0  0  1  0  0  0  0  0\n",
              "13480  0  1  0  0  0  0  0  0  0  0  0  0  0  0  0\n",
              "13338  0  1  0  0  0  0  0  0  0  0  0  0  0  0  0\n",
              "\n",
              "[12000 rows x 15 columns]"
            ]
          },
          "metadata": {},
          "execution_count": 11
        }
      ]
    },
    {
      "cell_type": "code",
      "metadata": {
        "colab": {
          "base_uri": "https://localhost:8080/",
          "height": 417
        },
        "id": "0McAWq-N-pqF",
        "outputId": "3804f482-93d1-42db-8dc7-31a421d08709"
      },
      "source": [
        "y_test"
      ],
      "id": "0McAWq-N-pqF",
      "execution_count": 12,
      "outputs": [
        {
          "output_type": "execute_result",
          "data": {
            "text/html": [
              "<div>\n",
              "<style scoped>\n",
              "    .dataframe tbody tr th:only-of-type {\n",
              "        vertical-align: middle;\n",
              "    }\n",
              "\n",
              "    .dataframe tbody tr th {\n",
              "        vertical-align: top;\n",
              "    }\n",
              "\n",
              "    .dataframe thead th {\n",
              "        text-align: right;\n",
              "    }\n",
              "</style>\n",
              "<table border=\"1\" class=\"dataframe\">\n",
              "  <thead>\n",
              "    <tr style=\"text-align: right;\">\n",
              "      <th></th>\n",
              "      <th>一</th>\n",
              "      <th>七</th>\n",
              "      <th>万</th>\n",
              "      <th>三</th>\n",
              "      <th>九</th>\n",
              "      <th>二</th>\n",
              "      <th>五</th>\n",
              "      <th>亿</th>\n",
              "      <th>八</th>\n",
              "      <th>六</th>\n",
              "      <th>十</th>\n",
              "      <th>千</th>\n",
              "      <th>四</th>\n",
              "      <th>百</th>\n",
              "      <th>零</th>\n",
              "    </tr>\n",
              "  </thead>\n",
              "  <tbody>\n",
              "    <tr>\n",
              "      <th>194</th>\n",
              "      <td>0</td>\n",
              "      <td>0</td>\n",
              "      <td>0</td>\n",
              "      <td>0</td>\n",
              "      <td>1</td>\n",
              "      <td>0</td>\n",
              "      <td>0</td>\n",
              "      <td>0</td>\n",
              "      <td>0</td>\n",
              "      <td>0</td>\n",
              "      <td>0</td>\n",
              "      <td>0</td>\n",
              "      <td>0</td>\n",
              "      <td>0</td>\n",
              "      <td>0</td>\n",
              "    </tr>\n",
              "    <tr>\n",
              "      <th>11007</th>\n",
              "      <td>0</td>\n",
              "      <td>0</td>\n",
              "      <td>0</td>\n",
              "      <td>0</td>\n",
              "      <td>0</td>\n",
              "      <td>0</td>\n",
              "      <td>1</td>\n",
              "      <td>0</td>\n",
              "      <td>0</td>\n",
              "      <td>0</td>\n",
              "      <td>0</td>\n",
              "      <td>0</td>\n",
              "      <td>0</td>\n",
              "      <td>0</td>\n",
              "      <td>0</td>\n",
              "    </tr>\n",
              "    <tr>\n",
              "      <th>868</th>\n",
              "      <td>0</td>\n",
              "      <td>0</td>\n",
              "      <td>0</td>\n",
              "      <td>0</td>\n",
              "      <td>1</td>\n",
              "      <td>0</td>\n",
              "      <td>0</td>\n",
              "      <td>0</td>\n",
              "      <td>0</td>\n",
              "      <td>0</td>\n",
              "      <td>0</td>\n",
              "      <td>0</td>\n",
              "      <td>0</td>\n",
              "      <td>0</td>\n",
              "      <td>0</td>\n",
              "    </tr>\n",
              "    <tr>\n",
              "      <th>4453</th>\n",
              "      <td>0</td>\n",
              "      <td>0</td>\n",
              "      <td>1</td>\n",
              "      <td>0</td>\n",
              "      <td>0</td>\n",
              "      <td>0</td>\n",
              "      <td>0</td>\n",
              "      <td>0</td>\n",
              "      <td>0</td>\n",
              "      <td>0</td>\n",
              "      <td>0</td>\n",
              "      <td>0</td>\n",
              "      <td>0</td>\n",
              "      <td>0</td>\n",
              "      <td>0</td>\n",
              "    </tr>\n",
              "    <tr>\n",
              "      <th>2123</th>\n",
              "      <td>0</td>\n",
              "      <td>0</td>\n",
              "      <td>0</td>\n",
              "      <td>0</td>\n",
              "      <td>0</td>\n",
              "      <td>0</td>\n",
              "      <td>0</td>\n",
              "      <td>0</td>\n",
              "      <td>0</td>\n",
              "      <td>0</td>\n",
              "      <td>0</td>\n",
              "      <td>0</td>\n",
              "      <td>0</td>\n",
              "      <td>1</td>\n",
              "      <td>0</td>\n",
              "    </tr>\n",
              "    <tr>\n",
              "      <th>...</th>\n",
              "      <td>...</td>\n",
              "      <td>...</td>\n",
              "      <td>...</td>\n",
              "      <td>...</td>\n",
              "      <td>...</td>\n",
              "      <td>...</td>\n",
              "      <td>...</td>\n",
              "      <td>...</td>\n",
              "      <td>...</td>\n",
              "      <td>...</td>\n",
              "      <td>...</td>\n",
              "      <td>...</td>\n",
              "      <td>...</td>\n",
              "      <td>...</td>\n",
              "      <td>...</td>\n",
              "    </tr>\n",
              "    <tr>\n",
              "      <th>11058</th>\n",
              "      <td>0</td>\n",
              "      <td>0</td>\n",
              "      <td>0</td>\n",
              "      <td>0</td>\n",
              "      <td>0</td>\n",
              "      <td>0</td>\n",
              "      <td>1</td>\n",
              "      <td>0</td>\n",
              "      <td>0</td>\n",
              "      <td>0</td>\n",
              "      <td>0</td>\n",
              "      <td>0</td>\n",
              "      <td>0</td>\n",
              "      <td>0</td>\n",
              "      <td>0</td>\n",
              "    </tr>\n",
              "    <tr>\n",
              "      <th>4475</th>\n",
              "      <td>0</td>\n",
              "      <td>0</td>\n",
              "      <td>1</td>\n",
              "      <td>0</td>\n",
              "      <td>0</td>\n",
              "      <td>0</td>\n",
              "      <td>0</td>\n",
              "      <td>0</td>\n",
              "      <td>0</td>\n",
              "      <td>0</td>\n",
              "      <td>0</td>\n",
              "      <td>0</td>\n",
              "      <td>0</td>\n",
              "      <td>0</td>\n",
              "      <td>0</td>\n",
              "    </tr>\n",
              "    <tr>\n",
              "      <th>8481</th>\n",
              "      <td>0</td>\n",
              "      <td>0</td>\n",
              "      <td>0</td>\n",
              "      <td>0</td>\n",
              "      <td>0</td>\n",
              "      <td>1</td>\n",
              "      <td>0</td>\n",
              "      <td>0</td>\n",
              "      <td>0</td>\n",
              "      <td>0</td>\n",
              "      <td>0</td>\n",
              "      <td>0</td>\n",
              "      <td>0</td>\n",
              "      <td>0</td>\n",
              "      <td>0</td>\n",
              "    </tr>\n",
              "    <tr>\n",
              "      <th>12866</th>\n",
              "      <td>0</td>\n",
              "      <td>0</td>\n",
              "      <td>0</td>\n",
              "      <td>0</td>\n",
              "      <td>0</td>\n",
              "      <td>0</td>\n",
              "      <td>0</td>\n",
              "      <td>0</td>\n",
              "      <td>0</td>\n",
              "      <td>1</td>\n",
              "      <td>0</td>\n",
              "      <td>0</td>\n",
              "      <td>0</td>\n",
              "      <td>0</td>\n",
              "      <td>0</td>\n",
              "    </tr>\n",
              "    <tr>\n",
              "      <th>10837</th>\n",
              "      <td>0</td>\n",
              "      <td>0</td>\n",
              "      <td>0</td>\n",
              "      <td>0</td>\n",
              "      <td>0</td>\n",
              "      <td>0</td>\n",
              "      <td>0</td>\n",
              "      <td>0</td>\n",
              "      <td>0</td>\n",
              "      <td>0</td>\n",
              "      <td>0</td>\n",
              "      <td>0</td>\n",
              "      <td>1</td>\n",
              "      <td>0</td>\n",
              "      <td>0</td>\n",
              "    </tr>\n",
              "  </tbody>\n",
              "</table>\n",
              "<p>3000 rows × 15 columns</p>\n",
              "</div>"
            ],
            "text/plain": [
              "       一  七  万  三  九  二  五  亿  八  六  十  千  四  百  零\n",
              "194    0  0  0  0  1  0  0  0  0  0  0  0  0  0  0\n",
              "11007  0  0  0  0  0  0  1  0  0  0  0  0  0  0  0\n",
              "868    0  0  0  0  1  0  0  0  0  0  0  0  0  0  0\n",
              "4453   0  0  1  0  0  0  0  0  0  0  0  0  0  0  0\n",
              "2123   0  0  0  0  0  0  0  0  0  0  0  0  0  1  0\n",
              "...   .. .. .. .. .. .. .. .. .. .. .. .. .. .. ..\n",
              "11058  0  0  0  0  0  0  1  0  0  0  0  0  0  0  0\n",
              "4475   0  0  1  0  0  0  0  0  0  0  0  0  0  0  0\n",
              "8481   0  0  0  0  0  1  0  0  0  0  0  0  0  0  0\n",
              "12866  0  0  0  0  0  0  0  0  0  1  0  0  0  0  0\n",
              "10837  0  0  0  0  0  0  0  0  0  0  0  0  1  0  0\n",
              "\n",
              "[3000 rows x 15 columns]"
            ]
          },
          "metadata": {},
          "execution_count": 12
        }
      ]
    },
    {
      "cell_type": "markdown",
      "metadata": {
        "id": "9e572075"
      },
      "source": [
        "Como vamos processar as imagens com uma rede de camadas densas, devemos transformá-las em vetores."
      ],
      "id": "9e572075"
    },
    {
      "cell_type": "code",
      "metadata": {
        "colab": {
          "base_uri": "https://localhost:8080/"
        },
        "id": "22d8ac96",
        "outputId": "d33be665-4595-415a-c0e2-4c0c2de7e82e"
      },
      "source": [
        "# Redimensionamento das images \n",
        "X_train_flat = np.reshape(X_train, (12000, 64*64))\n",
        "X_test_flat = np.reshape(X_test, (3000, 64*64))\n",
        "\n",
        "# Transformação das saídas em tensor numpy\n",
        "y_train = np.array(y_train)\n",
        "y_test = np.array(y_test)\n",
        "\n",
        "print('Dimensão do tensor das imagens de treinamento:', X_train_flat.shape)\n",
        "print('Dimensão do tensor das imagens de teste:', X_test_flat.shape)\n",
        "print('Dimensão do tensor de classes de treinamento:', y_train.shape)\n",
        "print('Dimensão do tensor de classes de teste:', y_test.shape)\n",
        "print('Valores mímnimo e máximo dos pixels das imagens:', np.min(X_train_flat), np.max(X_train_flat))"
      ],
      "id": "22d8ac96",
      "execution_count": 13,
      "outputs": [
        {
          "output_type": "stream",
          "name": "stdout",
          "text": [
            "Dimensão do tensor das imagens de treinamento: (12000, 4096)\n",
            "Dimensão do tensor das imagens de teste: (3000, 4096)\n",
            "Dimensão do tensor de classes de treinamento: (12000, 15)\n",
            "Dimensão do tensor de classes de teste: (3000, 15)\n",
            "Valores mímnimo e máximo dos pixels das imagens: 0.0 0.9999999999999997\n"
          ]
        }
      ]
    },
    {
      "cell_type": "code",
      "metadata": {
        "colab": {
          "base_uri": "https://localhost:8080/"
        },
        "id": "Gl0Wf8Y1-u91",
        "outputId": "5ab3e103-5801-4f53-a9cc-477c29ebba52"
      },
      "source": [
        "np.min(X_test_flat), np.max(X_test_flat) "
      ],
      "id": "Gl0Wf8Y1-u91",
      "execution_count": 14,
      "outputs": [
        {
          "output_type": "execute_result",
          "data": {
            "text/plain": [
              "(0.0, 0.999999999999996)"
            ]
          },
          "metadata": {},
          "execution_count": 14
        }
      ]
    },
    {
      "cell_type": "code",
      "metadata": {
        "colab": {
          "base_uri": "https://localhost:8080/",
          "height": 285
        },
        "id": "556301b9",
        "outputId": "a2f066e3-6e9c-4f50-8714-9b20e36426cc"
      },
      "source": [
        "# Exemplo de uma imagem\n",
        "index = 1\n",
        "plt.imshow(X_train[index], cmap='gray')\n",
        "print (\"y = \" + str(np.argmax(y_train[index])) + \" (y_hot=\" + str(y_train[index]) + \")\")"
      ],
      "id": "556301b9",
      "execution_count": 15,
      "outputs": [
        {
          "output_type": "stream",
          "name": "stdout",
          "text": [
            "y = 13 (y_hot=[0 0 0 0 0 0 0 0 0 0 0 0 0 1 0])\n"
          ]
        },
        {
          "output_type": "display_data",
          "data": {
            "image/png": "[encoded data removed]",
            "text/plain": [
              "<Figure size 432x288 with 1 Axes>"
            ]
          },
          "metadata": {
            "needs_background": "light"
          }
        }
      ]
    },
    {
      "cell_type": "markdown",
      "metadata": {
        "id": "6470ea67"
      },
      "source": [
        "## 3. Para você fazer\n",
        "\n",
        "Você deve desenvolver uma rede neural usando a plataforma TensorFlow-Keras, para classificar os dígitos escritos em chinês.\n",
        "\n",
        "Além de mostrar a configuração da rede utilizada, os parâmetros escolhidos para a compilação e treinamento, apresente pelo menos os seguintes resultados:\n",
        "\n",
        "1. Resultado do processo de treinamento (gráficos);\n",
        "\n",
        "2. Valores da função de custo e da métrica para os dados de treinamento e teste (use o método evaluate);\n",
        "\n",
        "3. Gráfico com as classes previstas junto com as classes reais dos dados de teste. Use círculos de cores diferentes para diferenciar as classe previstas das reais.\n",
        "\n",
        "4. Matriz de confusão dos resulatdos para facilitar a análise de desempenho da sua rede.\n",
        "\n",
        "Para entregar o seu trabalho, transforme o seu notebook em pdf e faça o upload do mesmo nesse espaço.  "
      ],
      "id": "6470ea67"
    },
    {
      "cell_type": "markdown",
      "metadata": {
        "id": "RxEtjQm_upDM"
      },
      "source": [
        "## RNA Setup"
      ],
      "id": "RxEtjQm_upDM"
    },
    {
      "cell_type": "code",
      "metadata": {
        "id": "Yo9P2zH6tIuy"
      },
      "source": [
        "# PARA VOCÊ FAZER: Função para configuração da RNA\n",
        "\n",
        "# Importa classes do Keras de modelos e camadas\n",
        "from tensorflow.keras import models\n",
        "from tensorflow.keras.layers import Dense, Dropout\n",
        "from tensorflow.keras import regularizers\n",
        "\n",
        "def build_model(data_shape, n1, n2, n3, lamb):\n",
        "    \"\"\"\n",
        "    Essa função configura uma rede neural deep-learnig\n",
        "    \n",
        "    Argumentos:\n",
        "    data_shape = tuple com dimensões dos dados de entrada da rede\n",
        "    n1 = número de neurônios da primeira camada\n",
        "    n2 = número de neurônios da segunda camada\n",
        "    n3 = número de neurônios da camada de saída     \n",
        "    Retorna: modelo da rede neural\n",
        "    \"\"\"\n",
        "    # Inicialização do gerador de números aleatórios para permitir verificar resultados\n",
        "    np.random.seed(3)\n",
        "    \n",
        "    model = models.Sequential()\n",
        "    \n",
        "    model.add(Dense(units = n1, activation='relu', input_shape = data_shape))\n",
        "    model.add(Dropout(0.2))\n",
        "    model.add(Dense(units = n2, activation='relu'))\n",
        "    model.add(Dropout(0.2))\n",
        "    model.add(Dense(units = n3, activation='softmax'))\n",
        "    \n",
        "    #kernel_regularizer=regularizers.l2(lamb)\n",
        "\n",
        "    return model"
      ],
      "id": "Yo9P2zH6tIuy",
      "execution_count": 16,
      "outputs": []
    },
    {
      "cell_type": "code",
      "metadata": {
        "colab": {
          "base_uri": "https://localhost:8080/"
        },
        "id": "Bblap-kMtnfJ",
        "outputId": "b98544b7-6729-4ff2-cf54-ea55ffe16d41"
      },
      "source": [
        "# Dimensão dos dados de entrada\n",
        "data_shape = (64*64, )\n",
        "\n",
        "# Neurônios\n",
        "N1 = 128\n",
        "N2 = 64\n",
        "N3 = 15\n",
        "lamb = 0.005\n",
        "\n",
        "rna = build_model(data_shape = data_shape, n1 = N1, n2 = N2, n3 = N3, lamb = lamb)\n",
        "rna.summary()"
      ],
      "id": "Bblap-kMtnfJ",
      "execution_count": 17,
      "outputs": [
        {
          "output_type": "stream",
          "name": "stdout",
          "text": [
            "Model: \"sequential\"\n",
            "_________________________________________________________________\n",
            "Layer (type)                 Output Shape              Param #   \n",
            "=================================================================\n",
            "dense (Dense)                (None, 128)               524416    \n",
            "_________________________________________________________________\n",
            "dropout (Dropout)            (None, 128)               0         \n",
            "_________________________________________________________________\n",
            "dense_1 (Dense)              (None, 64)                8256      \n",
            "_________________________________________________________________\n",
            "dropout_1 (Dropout)          (None, 64)                0         \n",
            "_________________________________________________________________\n",
            "dense_2 (Dense)              (None, 15)                975       \n",
            "=================================================================\n",
            "Total params: 533,647\n",
            "Trainable params: 533,647\n",
            "Non-trainable params: 0\n",
            "_________________________________________________________________\n"
          ]
        }
      ]
    },
    {
      "cell_type": "code",
      "metadata": {
        "id": "pEJFfZtTtvFz"
      },
      "source": [
        "BATCH_SIZE = 1024\n",
        "EPOCHS = 100\n",
        "\n",
        "# importa do keras a classe dos otimizadores e escolhe as métricas\n",
        "from tensorflow.keras import optimizers\n",
        "from tensorflow import keras\n",
        "\n",
        "METRICS = [\n",
        "keras.metrics.BinaryAccuracy(name='accuracy'),\n",
        "keras.metrics.Precision(name='precision'),\n",
        "keras.metrics.Recall(name='recall')\n",
        "]\n",
        "\n",
        "# Configuração do otimizador\n",
        "adam = optimizers.Adam(learning_rate = 0.001)\n",
        "\n",
        "#Treinamento\n",
        "rna.compile(loss = 'categorical_crossentropy', metrics = METRICS, optimizer = adam)\n",
        "\n",
        "history = rna.fit(X_train_flat, y_train, batch_size = BATCH_SIZE, epochs = EPOCHS, verbose=0)"
      ],
      "id": "pEJFfZtTtvFz",
      "execution_count": 19,
      "outputs": []
    },
    {
      "cell_type": "markdown",
      "metadata": {
        "id": "m2idnyBMvjYo"
      },
      "source": [
        "## Results"
      ],
      "id": "m2idnyBMvjYo"
    },
    {
      "cell_type": "code",
      "metadata": {
        "colab": {
          "base_uri": "https://localhost:8080/",
          "height": 577
        },
        "id": "8gulg9hWvXAo",
        "outputId": "1421c4a1-2ba0-47cf-fb77-58180feac2ef"
      },
      "source": [
        "# Salva treinamento na variável history para visualização\n",
        "history_dict = history.history\n",
        "\n",
        "# Salva custos, métricas e epocas em vetores \n",
        "custo = history_dict['loss']\n",
        "acc = history_dict['accuracy']\n",
        "\n",
        "# Cria vetor de épocas\n",
        "epocas = range(1, len(custo) + 1)\n",
        "\n",
        "# Gráfico dos valores de custo\n",
        "plt.plot(epocas, custo, 'k', label='Custo - treinamento')\n",
        "plt.title('Valor da função de custo – treinamento')\n",
        "plt.xlabel('Épocas')\n",
        "plt.ylabel('Custo')\n",
        "plt.legend()\n",
        "plt.show()\n",
        "\n",
        "# Gráfico dos valores da métrica\n",
        "plt.plot(epocas, acc, 'k', label='exatidao- treinamento')\n",
        "plt.title('Valor da métrica – treinamento')\n",
        "plt.xlabel('Épocas')\n",
        "plt.ylabel('Exatidao')\n",
        "plt.legend()\n",
        "plt.show()"
      ],
      "id": "8gulg9hWvXAo",
      "execution_count": 20,
      "outputs": [
        {
          "output_type": "display_data",
          "data": {
            "image/png": "[encoded data removed]",
            "text/plain": [
              "<Figure size 432x288 with 1 Axes>"
            ]
          },
          "metadata": {
            "needs_background": "light"
          }
        },
        {
          "output_type": "display_data",
          "data": {
            "image/png": "[encoded data removed]",
            "text/plain": [
              "<Figure size 432x288 with 1 Axes>"
            ]
          },
          "metadata": {
            "needs_background": "light"
          }
        }
      ]
    },
    {
      "cell_type": "markdown",
      "metadata": {
        "id": "C_32APHTUkHN"
      },
      "source": [
        "## Validation"
      ],
      "id": "C_32APHTUkHN"
    },
    {
      "cell_type": "code",
      "metadata": {
        "colab": {
          "base_uri": "https://localhost:8080/"
        },
        "id": "0msAoquLvlkZ",
        "outputId": "f8a70453-dcb0-4f52-ebdd-220c8c69ac4f"
      },
      "source": [
        "custo_e_metricas_train = rna.evaluate(X_train_flat, y_train)\n",
        "custo_e_metricas_test = rna.evaluate(X_test_flat, y_test)\n",
        "\n",
        "print('Dados de treinamento: ', custo_e_metricas_train)\n",
        "print('Dados de Teste: ', custo_e_metricas_test)"
      ],
      "id": "0msAoquLvlkZ",
      "execution_count": 21,
      "outputs": [
        {
          "output_type": "stream",
          "name": "stdout",
          "text": [
            "375/375 [==============================] - 2s 4ms/step - loss: 0.0327 - accuracy: 0.9995 - precision: 0.9978 - recall: 0.9954\n",
            "94/94 [==============================] - 1s 5ms/step - loss: 0.7776 - accuracy: 0.9753 - precision: 0.8319 - recall: 0.7883\n",
            "Dados de treinamento:  [0.03272426873445511, 0.9995497465133667, 0.9978280663490295, 0.9954166412353516]\n",
            "Dados de Teste:  [0.777620255947113, 0.9752665758132935, 0.8318677544593811, 0.7883333563804626]\n"
          ]
        }
      ]
    },
    {
      "cell_type": "markdown",
      "metadata": {
        "id": "nphqSO05y99g"
      },
      "source": [
        "## Prediction"
      ],
      "id": "nphqSO05y99g"
    },
    {
      "cell_type": "code",
      "metadata": {
        "colab": {
          "base_uri": "https://localhost:8080/"
        },
        "id": "VTB8HGY2zGtA",
        "outputId": "35a1ba59-aaae-414a-dbae-7767bdaca6c0"
      },
      "source": [
        "y_prev = rna.predict(X_test_flat)\n",
        "classe = np.argmax(y_prev, axis=1)\n",
        "y_test_plot = np.argmax(y_test, axis= 1)\n",
        "\n",
        "print(classe[:150])\n",
        "print(y_test_plot[:150])"
      ],
      "id": "VTB8HGY2zGtA",
      "execution_count": 22,
      "outputs": [
        {
          "output_type": "stream",
          "name": "stdout",
          "text": [
            "[ 4  6  4  2 13  5 13 14  0  9  2  8 12  1 10  4 10 12  7  1  8  1  2 13\n",
            "  2 10  1  8  7  6 13  9  5  1  0  0  3  5 13  5  1  4  2  0  7  0 11 12\n",
            " 11 11 10 14  5  8 10  3  7  3  5 14  2 10 11  2  0 11 14  7 11  4  3  7\n",
            " 11  7  9  0  3  4  8  9 12  8  2  2  6  5  8  9  6  6  5  7  9  8  7  4\n",
            " 13  9  3  3  3  3  1  6  9  2 12 10  1  7 11  2  5  7  7 14  1  6  9 12\n",
            "  6 14  5 12  9 14  6 11  0 14 11  2  6  2 11 11  5  8 13 13 14  0  3  5\n",
            "  2 14 11 12 14  5]\n",
            "[ 4  6  4  2 13  3 13 14  0  9  2  8 12  1 10  9 10 12  7 11  9  1  2 13\n",
            "  2 10  1  8  4  6 13  9  5  1  0  0  3  3 13  5  1  4  2  5  7  0 10 12\n",
            " 11 14 10 14  5  8 10  3  4  3  5 14  2 10 11  2  0 11 13  7 11  4  3  7\n",
            " 10  7  9  9  3  4  2  8 12  8  2  2 13  5  8  9  6  6  3  7  9  8  7  4\n",
            " 13  6  3  3  3  5  6  6  9  2 13 10  1  7 11  2  5  7 12 14  1  6  2 12\n",
            "  6 14  5 12  9 13  6 10  0 14 11  8  6  4 11 11  5  8 13 13 14  0  3  5\n",
            "  2 14 14 12 14  0]\n"
          ]
        }
      ]
    },
    {
      "cell_type": "code",
      "metadata": {
        "colab": {
          "base_uri": "https://localhost:8080/",
          "height": 438
        },
        "id": "8YnrebElzQMe",
        "outputId": "3309a4bf-843f-4338-9423-ece5d181c150"
      },
      "source": [
        "# Resultado gráfico\n",
        "print('Dimensão vetor classes reais= ', y_test_plot.shape)\n",
        "print('Dimensão vetor classes previstas= ', classe.shape)\n",
        "\n",
        "plt.figure(figsize=(18, 6))\n",
        "plt.plot(y_test_plot[:150], 'ro', label='Classe real')\n",
        "plt.plot(classe[:150], 'bo', label='Classe prevista')\n",
        "plt.title('Classes reais e previstas - Conjunto de teste')\n",
        "plt.xlabel('Exemplos')\n",
        "plt.ylabel('Classe')\n",
        "plt.legend()\n",
        "plt.show()"
      ],
      "id": "8YnrebElzQMe",
      "execution_count": 23,
      "outputs": [
        {
          "output_type": "stream",
          "name": "stdout",
          "text": [
            "Dimensão vetor classes reais=  (3000,)\n",
            "Dimensão vetor classes previstas=  (3000,)\n"
          ]
        },
        {
          "output_type": "display_data",
          "data": {
            "image/png": "[encoded data removed]",
            "text/plain": [
              "<Figure size 1296x432 with 1 Axes>"
            ]
          },
          "metadata": {
            "needs_background": "light"
          }
        }
      ]
    },
    {
      "cell_type": "markdown",
      "metadata": {
        "id": "uDn9Z5A9Ng4e"
      },
      "source": [
        "## Confusion Matrix"
      ],
      "id": "uDn9Z5A9Ng4e"
    },
    {
      "cell_type": "code",
      "metadata": {
        "colab": {
          "base_uri": "https://localhost:8080/",
          "height": 500
        },
        "id": "iumjYGVPAB-b",
        "outputId": "de2d2bec-fa0c-49b7-b811-818ef65f64e3"
      },
      "source": [
        "from sklearn.metrics import confusion_matrix\n",
        "import seaborn as sns\n",
        "\n",
        "ax, f = plt.subplots(figsize = (9, 8))\n",
        "confusion = confusion_matrix(classe, y_test_plot)\n",
        "sns.heatmap(confusion)"
      ],
      "id": "iumjYGVPAB-b",
      "execution_count": 24,
      "outputs": [
        {
          "output_type": "execute_result",
          "data": {
            "text/plain": [
              "<matplotlib.axes._subplots.AxesSubplot at 0x7f37a01bb450>"
            ]
          },
          "metadata": {},
          "execution_count": 24
        },
        {
          "output_type": "display_data",
          "data": {
            "image/png": "[encoded data removed]",
            "text/plain": [
              "<Figure size 648x576 with 2 Axes>"
            ]
          },
          "metadata": {
            "needs_background": "light"
          }
        }
      ]
    }
  ]
}