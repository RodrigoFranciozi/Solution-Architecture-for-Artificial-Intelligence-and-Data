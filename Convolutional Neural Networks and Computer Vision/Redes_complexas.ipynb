{
  "nbformat": 4,
  "nbformat_minor": 0,
  "metadata": {
    "accelerator": "GPU",
    "colab": {
      "name": "T3_Redes_complexas.ipynb",
      "provenance": [],
      "collapsed_sections": []
    },
    "kernelspec": {
      "display_name": "Python 3",
      "language": "python",
      "name": "python3"
    },
    "language_info": {
      "codemirror_mode": {
        "name": "ipython",
        "version": 3
      },
      "file_extension": ".py",
      "mimetype": "text/x-python",
      "name": "python",
      "nbconvert_exporter": "python",
      "pygments_lexer": "ipython3",
      "version": "3.8.8"
    }
  },
  "cells": [
    {
      "cell_type": "markdown",
      "metadata": {
        "id": "-MwruVLNXqci"
      },
      "source": [
        "# Trabalho #3 - Redes Complexas\n",
        "\n",
        "Nesse trabalho você vai desenvolver uma RNA para realizar uma tarefa de geração de imagem. A tarefa consiste em gerar um nariz para um rosto de uma pessoa. Assim, dada uma imagem de um rosto de uma pessoa com uma máscara cobrindo o nariz, a RNA deve gerar uma imagem desse rosto com um nariz adequado. \n",
        "\n",
        "Esse trabalho consiste de uma aplicação real de redes neurais, que foi desenvolvida para a Faculdade de Odontologia da USP para permitir criar próteses nasais adequadas para pacientes que perderam o nariz. \n",
        "\n",
        "Para realizar essa tarefa iremos usar uma rede neural tipo residual."
      ]
    },
    {
      "cell_type": "markdown",
      "metadata": {
        "id": "eP57hWxVXqcl"
      },
      "source": [
        "## Coloque o seu nome aqui:\n",
        "\n",
        "Nome: Rodrigo Franciozi Rodrigues da Silva\n"
      ]
    },
    {
      "cell_type": "code",
      "metadata": {
        "id": "foGyYd2zXwoK",
        "colab": {
          "base_uri": "https://localhost:8080/"
        },
        "outputId": "e6d6e818-2c28-4808-9a21-39c0257588cc"
      },
      "source": [
        "from google.colab import drive\n",
        "drive.mount('/content/drive')"
      ],
      "execution_count": 1,
      "outputs": [
        {
          "output_type": "stream",
          "name": "stdout",
          "text": [
            "Drive already mounted at /content/drive; to attempt to forcibly remount, call drive.mount(\"/content/drive\", force_remount=True).\n"
          ]
        }
      ]
    },
    {
      "cell_type": "code",
      "metadata": {
        "id": "D7j-3XLMX4gN",
        "colab": {
          "base_uri": "https://localhost:8080/"
        },
        "outputId": "198743bf-505b-48d0-bbb0-124804ebaf9c"
      },
      "source": [
        "%cd /content/drive/My Drive/Education/IMT/Pós Graduação/Convolutional Neural Networks and Computer Vision/T3\n",
        "!ls"
      ],
      "execution_count": 2,
      "outputs": [
        {
          "output_type": "stream",
          "name": "stdout",
          "text": [
            "/content/drive/My Drive/Education/IMT/Pós Graduação/Convolutional Neural Networks and Computer Vision/T3\n",
            "data64.h5  faces1.png  faces2.png  mask512.jpg\tT3_Redes_complexas.ipynb\n"
          ]
        }
      ]
    },
    {
      "cell_type": "markdown",
      "metadata": {
        "id": "c_4nvWuqXqcm"
      },
      "source": [
        "Em primeiro lugar é necessário importar alguns pacotes do Python que serão usados ao longo nesse trabalho:\n",
        "\n",
        "- numpy: pacote de cálculo científico com Python\n",
        "- matplotlib: biblioteca para gerar gráficos em Python\n",
        "- h5py: biblioteca que permite ler e escrever arquivos no formato h5\n",
        "- skimage: bilioteca para porcessar imagens\n",
        "- TensorFlow"
      ]
    },
    {
      "cell_type": "code",
      "metadata": {
        "id": "gGBe9mdtXqcn"
      },
      "source": [
        "import numpy as np\n",
        "import h5py\n",
        "import matplotlib.pyplot as plt\n",
        "from skimage.io import imread\n",
        "from skimage.transform import resize\n",
        "import tensorflow as tf\n",
        "\n",
        "%matplotlib inline"
      ],
      "execution_count": 3,
      "outputs": []
    },
    {
      "cell_type": "markdown",
      "metadata": {
        "id": "EWHgOH7FXqcq"
      },
      "source": [
        "## 1 - Visão geral do problema ##\n",
        "\n",
        "O objetivo desse problema é desenvolver uma RNA que recebe como entrada uma imagem de um rosto com uma máscara preta cobrindo a região do nariz e gera uma nova imagem do rosto com um nariz adequado. \n",
        "\n",
        "O conjunto de dados usado nesse trabalho foi criado usando o banco de imagens de celebridades CELEBA-HQ-512, que possui 30.000 imagens de rostos de celebridades com resolução 512 por 512. Esse banco de dados pode ser visto no link: https://github.com/tkarras/progressive_growing_of_gans.\n",
        "\n",
        "Nesse trabalho iremos utilizar somente 1.800 imagens com dimensão reduzida para 64 por 64. Essa redução no número e na dimensão das imagens é feita somente para podermos realizar o treinamento da RNA em um tempo razoável.\n",
        "\n",
        "As figuras abaixo mostram dois exemplos do conjunto de dados.\n",
        "\n",
        "<img src=\"Faces1.png\">\n",
        "\n",
        "<img src=\"Faces2.png\">\n"
      ]
    },
    {
      "cell_type": "markdown",
      "metadata": {
        "id": "S7gTbuZmXqcr"
      },
      "source": [
        "## 2 - Dados de treinamento\n",
        "\n",
        "As imagens que iremos utilizar nesse trabalho já foram processadas de forma a criar o par de imagens de entrada e saída. As imagens estão no arquivo data64.h5.\n",
        "\n",
        "Características dos dados:\n",
        "\n",
        "- As imagens são coloridas e estão no padrão RGB;\n",
        "- Cada imagem de entrada e de saída tem dimensão de 64x64x3;\n",
        "- As imagens já foram normalizadas, então, o valor da intensidade luminosa de cada pixels é um número real entre 0 e 1;\n",
        "- As imagens de entrada consistem em rostos de celebridades com a máscara preta cobrindo o nariz;\n",
        "- As imagens de saída consistem nos rostos das celebridades.\n",
        "\n",
        "\n",
        "### 2.1 - Leitura dos dados\n",
        "\n",
        "Para iniciar o trabalho é necessário ler o arquivo de dados. Assim, execute o código da célula abaixo para ler o arquivo de dados.\n",
        "\n",
        "**Importante:**\n",
        "Para obter o arquivo de dados você deve copiar o link abaixo no seu browser e dar o download. Após isso colocar o arquivo em algum diretório que possa ser usado.\n",
        "https://drive.google.com/open?id=1G5Ot0SaVhyoSg3sEpDtMwTCh_nLtFu7b"
      ]
    },
    {
      "cell_type": "code",
      "metadata": {
        "id": "eKoeKOq4Xqcs",
        "colab": {
          "base_uri": "https://localhost:8080/"
        },
        "outputId": "cf243ca7-3206-4578-e8f3-31e70086d2f5"
      },
      "source": [
        "# Abre arquivo de dados data64.h5\n",
        "hf = h5py.File('/content/drive/MyDrive/Education/IMT/Pós Graduação/Convolutional Neural Networks and Computer Vision/T3/data64.h5','r')\n",
        "\n",
        "# Le imagens do arquivo. As imagens estão em um dicionário, sendo que os dados e entrada e saída estão separados, \n",
        "# assim como os dados de treinamento, validação e teste.\n",
        "x_train0 = np.array(hf.get('x_train'))\n",
        "y_train0 = np.array(hf.get('y_train'))\n",
        "x_val0 = np.array(hf.get('x_val'))\n",
        "y_val0 = np.array(hf.get('y_val'))\n",
        "x_test0 = np.array(hf.get('x_test'))\n",
        "y_test0 = np.array(hf.get('y_test'))\n",
        "\n",
        "x_train = x_train0[:1200]\n",
        "y_train = y_train0[:1200]\n",
        "x_val = x_val0[:300]\n",
        "y_val = y_val0[:300]\n",
        "x_test = x_test0[:300]\n",
        "y_test = y_test0[:300]\n",
        "\n",
        "img_size = x_train.shape[1:4]\n",
        "\n",
        "# Feche arquivo de dados\n",
        "hf.close()\n",
        "\n",
        "# Imprime dimensão dos conjuntos de dados\n",
        "print('Dimensão dos dados de treinamento (entrada/saída) =', x_train.shape, y_train.shape)\n",
        "print('Dimensão dos dados de validação (entrada/saída) =', x_val.shape, y_val.shape)               \n",
        "print('Dimensão dos dados de teste (entrada/saída) =1', x_test.shape, y_test.shape)"
      ],
      "execution_count": 4,
      "outputs": [
        {
          "output_type": "stream",
          "name": "stdout",
          "text": [
            "Dimensão dos dados de treinamento (entrada/saída) = (1200, 64, 64, 3) (1200, 64, 64, 3)\n",
            "Dimensão dos dados de validação (entrada/saída) = (300, 64, 64, 3) (300, 64, 64, 3)\n",
            "Dimensão dos dados de teste (entrada/saída) =1 (300, 64, 64, 3) (300, 64, 64, 3)\n"
          ]
        }
      ]
    },
    {
      "cell_type": "markdown",
      "metadata": {
        "id": "pOzVdHbkXqcw"
      },
      "source": [
        "Pela dimensão dos tensores com os dados de treinamento, validação e teste temos:\n",
        "\n",
        "- 1200 imagens de treinamento com dimensão de 64x64x3 pixels;\n",
        "- 300 imagens de validação com dimensão de 64x64x3 pixels;\n",
        "- 300 imagens de teste com dimensão de 64x64x3 pixels.\n"
      ]
    },
    {
      "cell_type": "markdown",
      "metadata": {
        "id": "gYjJk_oEXqcx"
      },
      "source": [
        "Execute a célula a seguir para visualizar um exemplo do banco de dados. Altere o valor da variável 'index' e execute a célula novamente para visualizar mais exemplos diferentes."
      ]
    },
    {
      "cell_type": "code",
      "metadata": {
        "id": "-9szErBVXqcy",
        "colab": {
          "base_uri": "https://localhost:8080/",
          "height": 267
        },
        "outputId": "a5ed704b-35c2-431f-e523-1cd7bddf7280"
      },
      "source": [
        "# Mostra exemplo de imagem de entrada e saída\n",
        "\n",
        "# Trocar o valor de index para mostrar outras imagens\n",
        "index = 10\n",
        "f, pos = plt.subplots(1, 2, figsize=(8, 8))\n",
        "pos[0].imshow(x_train[index])\n",
        "pos[0].set_title('Imagem de entrada')\n",
        "pos[1].imshow(y_train[index])\n",
        "pos[1].set_title('Imagem de saída')\n",
        "plt.show()"
      ],
      "execution_count": 5,
      "outputs": [
        {
          "output_type": "display_data",
          "data": {
            "image/png": "[encoded data removed]",
            "text/plain": [
              "<Figure size 576x576 with 2 Axes>"
            ]
          },
          "metadata": {
            "needs_background": "light"
          }
        }
      ]
    },
    {
      "cell_type": "markdown",
      "metadata": {
        "id": "QV8bEVBkXqc1"
      },
      "source": [
        "## 3 - RNA convolucional\n",
        "\n",
        "Nesse trabalho você irá usar uma RNA convolucional residual conforme visto em aula. Então a primeira etapa é criar um bloco reasidual para depois unir vários blocos em uma RNA.\n",
        "\n",
        "**Importante:** a saída dessa RNA é uma imagem com a mesma dimensão da imagem de entrada, assim, a dimensão da imagem original deve ser preservada em todas as camadas convolucionais."
      ]
    },
    {
      "cell_type": "markdown",
      "metadata": {
        "id": "P_jEFJCDRZKP"
      },
      "source": [
        "### Exercício #1: Criar uma função que define um bloco residual\n",
        "\n",
        "Na célula abaixo crie um bloco residual exatamente igual ao visto em aula. Não se esqueca de incluir a opção `padding='same'` nas camadas convolucionais que as saídas tenham a mesma dimensão."
      ]
    },
    {
      "cell_type": "code",
      "metadata": {
        "id": "Xz5DcDU_M_LV"
      },
      "source": [
        "# PARA VOCÊ FAZER: Função bloco_residual\n",
        "\n",
        "from tensorflow.keras import layers\n",
        "\n",
        "def bloco_residual(X, n, dim):\n",
        "    \"\"\"`\n",
        "    Entradas: \n",
        "        X = tensor de entrada \n",
        "        n = número de filtros\n",
        "        dim = dimensão dos filtros\n",
        "    \n",
        "    Saída:\n",
        "        A2 -> tensor de saída\n",
        "    \"\"\"\n",
        "    \n",
        "    # Configuraçao do bloco\n",
        "    # Inclua o seu código aqui\n",
        "    A1 = layers.Conv2D(n, dim, strides = 1, padding = 'same', activation = 'relu') (X)\n",
        "    Z2 = layers.Conv2D(n, dim, strides = 1, padding = 'same', activation = 'linear') (A1)\n",
        "\n",
        "    ZX = layers.Add()([Z2, X])\n",
        "    A2 = layers.Activation('relu')(ZX)\n",
        "\n",
        "    # Retorna saída\n",
        "    return A2"
      ],
      "execution_count": 6,
      "outputs": []
    },
    {
      "cell_type": "markdown",
      "metadata": {
        "id": "ParIi691RZKY"
      },
      "source": [
        "### Exercício #2: Criar uma RNA com blocos residuais\n",
        "\n",
        "Na célula abaixo crie uma RNA com 6 blocos residuais. Use o bloco residual definido na função `bloco_residual` criada no exercício #1. Note que antes de um bloco residual pode ser necessária uma camada convolucional para ajustar a dimensão dos tensores para não ter problema na hora de realizar a soma dentro do bloco residual.\n",
        "\n",
        "As configuração dessa rede é a seguinte:\n",
        "\n",
        "- Camada de entrada que recebe as imagens de dimensão 64x64x3\n",
        "- Camada convolucional: 128 filtros de dimensão 5x5, ativação relu\n",
        "- 1o bloco residual: 128 filtros de dimensão 5x5\n",
        "- Camada convolucional: 256 filtros de dimensão 5x5, ativação relu\n",
        "- 2o e 3o blocos residuais: 256 filtros de dimensão 5x5\n",
        "- Camada convolucional: 128 filtros de dimensão 5x5, ativação relu\n",
        "- 4o e 5o blocos residuais: 128 filtros de dimensão 5x5\n",
        "- Camada convolucional: 64 filtros de dimensão 5x5, ativação relu\n",
        "- 6o bloco residual: 64 filtros de dimensão 5x5\n",
        "- Camada convolucional: 3 filtros de dimensão 5x5, ativação linear\n",
        "\n",
        "Observe que todas as camadas convolucionais devem ser com `padding='same'`. "
      ]
    },
    {
      "cell_type": "code",
      "metadata": {
        "id": "h0-k5qW7M_LY",
        "colab": {
          "base_uri": "https://localhost:8080/"
        },
        "outputId": "c4f4b1c7-c70e-4cbb-b4ef-7eb0621ef113"
      },
      "source": [
        "# PARA VOCÊ FAZER: Rede residual\n",
        "\n",
        "from tensorflow.keras import Input\n",
        "from tensorflow.keras.models import Model\n",
        "from tensorflow.keras.layers import Conv2D\n",
        "from tensorflow.keras.utils import plot_model\n",
        "\n",
        "# Definição da dimensão da entrada e da camada de entrada (use camada tipo Input)\n",
        "# Inclua seu código aqui   \n",
        "input_shape = (64, 64, 3)\n",
        "X0 = layers.Input(shape=input_shape)\n",
        "\n",
        "# Inclua seu código aqui     \n",
        "# Camada convolucional para ajustar número de canais para poder ser somada dentro do bloco residual\n",
        "X1 = layers.Conv2D(128, (5,5), strides=1, padding='same', activation='relu')(X0)\n",
        "\n",
        "# Primeiro bloco residual com 128 filtros\n",
        "X2 = bloco_residual(X1, 128, (5,5))\n",
        "\n",
        "# Camada convolucional para ajustar número de canais para poder ser somada dentro do bloco residual\n",
        "X3 = layers.Conv2D(256, (5,5), strides = 1, padding = 'same', activation = 'relu')(X2)\n",
        "\n",
        "# Segundo bloco residual com 256 filtros\n",
        "X4 = bloco_residual(X3, 256, (5,5))\n",
        "\n",
        "# Terceiro bloco residual com 256 filtros\n",
        "X5 = bloco_residual(X4, 256, (5,5)) \n",
        "\n",
        "# Camada convolucional para ajustar número de canais para poder ser somada dentro do bloco residual\n",
        "X6 = layers.Conv2D(128, (5,5), strides = 1, padding = 'same', activation = 'relu')(X5) \n",
        "\n",
        "# Quarto bloco residual com 128 filtros\n",
        "X7 = bloco_residual(X6, 128, (5,5))\n",
        "\n",
        "# Quinto bloco residual com 128 filtros\n",
        "X8 = bloco_residual(X7, 128, (5,5)) \n",
        "\n",
        "# Camada convolucional para ajustar número de canais para poder ser somada dentro do bloco residual\n",
        "X9 = layers.Conv2D(64, (5,5), strides = 1, padding = 'same', activation = 'relu')(X8)\n",
        "\n",
        "# Sexto bloco residual com 64 filtros\n",
        "X10 = bloco_residual(X9, 64, (5,5))\n",
        "\n",
        "# Camada convolutional para acertar profundidade da imagem resultante no padrão RGB\n",
        "X11 = layers.Conv2D(3, (5,5), strides = 1, padding = 'same', activation = 'linear')(X10)\n",
        "\n",
        "# Criação da RNA\n",
        "# Inclua seu código aqui \n",
        "rna = Model(X0, X11)\n",
        "\n",
        "# Mostra resumo da RNA\n",
        "rna.summary()\n",
        "\n",
        "# Se quiser visualizar o gráfico da rede criada tire o comentário da linha de baixo. Esse comando cria um gráfico \n",
        "# da rede e salva no arquivo rna.png\n",
        "#plot_model(rna, to_file='rna.png', show_shapes=True)    \n"
      ],
      "execution_count": 7,
      "outputs": [
        {
          "output_type": "stream",
          "name": "stdout",
          "text": [
            "Model: \"model\"\n",
            "__________________________________________________________________________________________________\n",
            "Layer (type)                    Output Shape         Param #     Connected to                     \n",
            "==================================================================================================\n",
            "input_1 (InputLayer)            [(None, 64, 64, 3)]  0                                            \n",
            "__________________________________________________________________________________________________\n",
            "conv2d (Conv2D)                 (None, 64, 64, 128)  9728        input_1[0][0]                    \n",
            "__________________________________________________________________________________________________\n",
            "conv2d_1 (Conv2D)               (None, 64, 64, 128)  409728      conv2d[0][0]                     \n",
            "__________________________________________________________________________________________________\n",
            "conv2d_2 (Conv2D)               (None, 64, 64, 128)  409728      conv2d_1[0][0]                   \n",
            "__________________________________________________________________________________________________\n",
            "add (Add)                       (None, 64, 64, 128)  0           conv2d_2[0][0]                   \n",
            "                                                                 conv2d[0][0]                     \n",
            "__________________________________________________________________________________________________\n",
            "activation (Activation)         (None, 64, 64, 128)  0           add[0][0]                        \n",
            "__________________________________________________________________________________________________\n",
            "conv2d_3 (Conv2D)               (None, 64, 64, 256)  819456      activation[0][0]                 \n",
            "__________________________________________________________________________________________________\n",
            "conv2d_4 (Conv2D)               (None, 64, 64, 256)  1638656     conv2d_3[0][0]                   \n",
            "__________________________________________________________________________________________________\n",
            "conv2d_5 (Conv2D)               (None, 64, 64, 256)  1638656     conv2d_4[0][0]                   \n",
            "__________________________________________________________________________________________________\n",
            "add_1 (Add)                     (None, 64, 64, 256)  0           conv2d_5[0][0]                   \n",
            "                                                                 conv2d_3[0][0]                   \n",
            "__________________________________________________________________________________________________\n",
            "activation_1 (Activation)       (None, 64, 64, 256)  0           add_1[0][0]                      \n",
            "__________________________________________________________________________________________________\n",
            "conv2d_6 (Conv2D)               (None, 64, 64, 256)  1638656     activation_1[0][0]               \n",
            "__________________________________________________________________________________________________\n",
            "conv2d_7 (Conv2D)               (None, 64, 64, 256)  1638656     conv2d_6[0][0]                   \n",
            "__________________________________________________________________________________________________\n",
            "add_2 (Add)                     (None, 64, 64, 256)  0           conv2d_7[0][0]                   \n",
            "                                                                 activation_1[0][0]               \n",
            "__________________________________________________________________________________________________\n",
            "activation_2 (Activation)       (None, 64, 64, 256)  0           add_2[0][0]                      \n",
            "__________________________________________________________________________________________________\n",
            "conv2d_8 (Conv2D)               (None, 64, 64, 128)  819328      activation_2[0][0]               \n",
            "__________________________________________________________________________________________________\n",
            "conv2d_9 (Conv2D)               (None, 64, 64, 128)  409728      conv2d_8[0][0]                   \n",
            "__________________________________________________________________________________________________\n",
            "conv2d_10 (Conv2D)              (None, 64, 64, 128)  409728      conv2d_9[0][0]                   \n",
            "__________________________________________________________________________________________________\n",
            "add_3 (Add)                     (None, 64, 64, 128)  0           conv2d_10[0][0]                  \n",
            "                                                                 conv2d_8[0][0]                   \n",
            "__________________________________________________________________________________________________\n",
            "activation_3 (Activation)       (None, 64, 64, 128)  0           add_3[0][0]                      \n",
            "__________________________________________________________________________________________________\n",
            "conv2d_11 (Conv2D)              (None, 64, 64, 128)  409728      activation_3[0][0]               \n",
            "__________________________________________________________________________________________________\n",
            "conv2d_12 (Conv2D)              (None, 64, 64, 128)  409728      conv2d_11[0][0]                  \n",
            "__________________________________________________________________________________________________\n",
            "add_4 (Add)                     (None, 64, 64, 128)  0           conv2d_12[0][0]                  \n",
            "                                                                 activation_3[0][0]               \n",
            "__________________________________________________________________________________________________\n",
            "activation_4 (Activation)       (None, 64, 64, 128)  0           add_4[0][0]                      \n",
            "__________________________________________________________________________________________________\n",
            "conv2d_13 (Conv2D)              (None, 64, 64, 64)   204864      activation_4[0][0]               \n",
            "__________________________________________________________________________________________________\n",
            "conv2d_14 (Conv2D)              (None, 64, 64, 64)   102464      conv2d_13[0][0]                  \n",
            "__________________________________________________________________________________________________\n",
            "conv2d_15 (Conv2D)              (None, 64, 64, 64)   102464      conv2d_14[0][0]                  \n",
            "__________________________________________________________________________________________________\n",
            "add_5 (Add)                     (None, 64, 64, 64)   0           conv2d_15[0][0]                  \n",
            "                                                                 conv2d_13[0][0]                  \n",
            "__________________________________________________________________________________________________\n",
            "activation_5 (Activation)       (None, 64, 64, 64)   0           add_5[0][0]                      \n",
            "__________________________________________________________________________________________________\n",
            "conv2d_16 (Conv2D)              (None, 64, 64, 3)    4803        activation_5[0][0]               \n",
            "==================================================================================================\n",
            "Total params: 11,076,099\n",
            "Trainable params: 11,076,099\n",
            "Non-trainable params: 0\n",
            "__________________________________________________________________________________________________\n"
          ]
        }
      ]
    },
    {
      "cell_type": "markdown",
      "metadata": {
        "id": "d3Sd0YcnRZKi"
      },
      "source": [
        "**Saída esperada:** \n",
        "\n",
        "    Model: \"model\"\n",
        "    ___________________________________________________________________________________________\n",
        "        Layer (type)                    Output Shape         Param #     Connected to                ===============================================================================================\n",
        "    input_1 (InputLayer)            [(None, 64, 64, 3)]  0                                            \n",
        "    __________________________________________________________________________________________________\n",
        "    conv2d (Conv2D)                 (None, 64, 64, 128)  9728        input_1[0][0]                    \n",
        "    __________________________________________________________________________________________________\n",
        "    conv2d_1 (Conv2D)               (None, 64, 64, 128)  409728      conv2d[0][0]                     \n",
        "    __________________________________________________________________________________________________\n",
        "    conv2d_2 (Conv2D)               (None, 64, 64, 128)  409728      conv2d_1[0][0]                   \n",
        "    __________________________________________________________________________________________________\n",
        "    add (Add)                       (None, 64, 64, 128)  0           conv2d_2[0][0]                   \n",
        "                                                                     conv2d[0][0]                     \n",
        "    __________________________________________________________________________________________________\n",
        "    activation (Activation)         (None, 64, 64, 128)  0           add[0][0]                        \n",
        "    __________________________________________________________________________________________________\n",
        "    conv2d_3 (Conv2D)               (None, 64, 64, 256)  819456      activation[0][0]                 \n",
        "    __________________________________________________________________________________________________\n",
        "    conv2d_4 (Conv2D)               (None, 64, 64, 256)  1638656     conv2d_3[0][0]                   \n",
        "    __________________________________________________________________________________________________\n",
        "    conv2d_5 (Conv2D)               (None, 64, 64, 256)  1638656     conv2d_4[0][0]                   \n",
        "    __________________________________________________________________________________________________\n",
        "    add_1 (Add)                     (None, 64, 64, 256)  0           conv2d_5[0][0]                   \n",
        "                                                                 conv2d_3[0][0]                   \n",
        "    __________________________________________________________________________________________________\n",
        "    activation_1 (Activation)       (None, 64, 64, 256)  0           add_1[0][0]                      \n",
        "    __________________________________________________________________________________________________\n",
        "    conv2d_6 (Conv2D)               (None, 64, 64, 256)  1638656     activation_1[0][0]               \n",
        "    __________________________________________________________________________________________________\n",
        "    conv2d_7 (Conv2D)               (None, 64, 64, 256)  1638656     conv2d_6[0][0]                   \n",
        "    __________________________________________________________________________________________________\n",
        "    add_2 (Add)                     (None, 64, 64, 256)  0           conv2d_7[0][0]                   \n",
        "                                                                     activation_1[0][0]               \n",
        "    __________________________________________________________________________________________________\n",
        "    activation_2 (Activation)       (None, 64, 64, 256)  0           add_2[0][0]                      \n",
        "    __________________________________________________________________________________________________\n",
        "    conv2d_8 (Conv2D)               (None, 64, 64, 128)  819328      activation_2[0][0]               \n",
        "    __________________________________________________________________________________________________\n",
        "    conv2d_9 (Conv2D)               (None, 64, 64, 128)  409728      conv2d_8[0][0]                   \n",
        "    __________________________________________________________________________________________________\n",
        "    conv2d_10 (Conv2D)              (None, 64, 64, 128)  409728      conv2d_9[0][0]                   \n",
        "    __________________________________________________________________________________________________\n",
        "    add_3 (Add)                     (None, 64, 64, 128)  0           conv2d_10[0][0]                  \n",
        "                                                                     conv2d_8[0][0]                   \n",
        "    __________________________________________________________________________________________________\n",
        "    activation_3 (Activation)       (None, 64, 64, 128)  0           add_3[0][0]                      \n",
        "    __________________________________________________________________________________________________\n",
        "    conv2d_11 (Conv2D)              (None, 64, 64, 128)  409728      activation_3[0][0]               \n",
        "    __________________________________________________________________________________________________\n",
        "    conv2d_12 (Conv2D)              (None, 64, 64, 128)  409728      conv2d_11[0][0]                  \n",
        "    __________________________________________________________________________________________________\n",
        "    add_4 (Add)                     (None, 64, 64, 128)  0           conv2d_12[0][0]                  \n",
        "                                                                     activation_3[0][0]               \n",
        "    __________________________________________________________________________________________________\n",
        "    activation_4 (Activation)       (None, 64, 64, 128)  0           add_4[0][0]                      \n",
        "    __________________________________________________________________________________________________\n",
        "    conv2d_13 (Conv2D)              (None, 64, 64, 64)   204864      activation_4[0][0]               \n",
        "    __________________________________________________________________________________________________\n",
        "    conv2d_14 (Conv2D)              (None, 64, 64, 64)   102464      conv2d_13[0][0]                  \n",
        "    __________________________________________________________________________________________________\n",
        "    conv2d_15 (Conv2D)              (None, 64, 64, 64)   102464      conv2d_14[0][0]                  \n",
        "    __________________________________________________________________________________________________\n",
        "    add_5 (Add)                     (None, 64, 64, 64)   0           conv2d_15[0][0]                  \n",
        "                                                                     conv2d_13[0][0]                  \n",
        "    __________________________________________________________________________________________________\n",
        "    activation_5 (Activation)       (None, 64, 64, 64)   0           add_5[0][0]                      \n",
        "    __________________________________________________________________________________________________\n",
        "    conv2d_16 (Conv2D)              (None, 64, 64, 3)    4803        activation_5[0][0]               \n",
        "    ==================================================================================================\n",
        "    Total params: 11,076,099\n",
        "    Trainable params: 11,076,099\n",
        "    Non-trainable params: 0\n",
        "    __________________________________________________________________________________________________"
      ]
    },
    {
      "cell_type": "markdown",
      "metadata": {
        "id": "90a_i7NPXqc9"
      },
      "source": [
        "## 4 - Função de custo e métrica\n"
      ]
    },
    {
      "cell_type": "markdown",
      "metadata": {
        "id": "3qYAAhbJRZKk"
      },
      "source": [
        "### Máscara\n",
        "\n",
        "Para implementar essa função de custo é necessário usar uma imagem com a máscara. Essa máscara está no arquivo mask512.h5 e tem dimensão 512x512x3. Execute a célula abaixo para visualizar a máscara utilizada, já redimensionada para 64x64x3 pixels."
      ]
    },
    {
      "cell_type": "code",
      "metadata": {
        "id": "-OIBjgyFXqc-",
        "colab": {
          "base_uri": "https://localhost:8080/",
          "height": 268
        },
        "outputId": "6dcbe3e0-9129-41aa-ddd3-e5ba61829ce6"
      },
      "source": [
        "mask0 = imread('mask512.jpg')\n",
        "mask0 = np.array(mask0)\n",
        "mask = resize(mask0, (64, 64, 3), preserve_range=True) / 255\n",
        "plt.imshow(mask)\n",
        "plt.show()"
      ],
      "execution_count": 8,
      "outputs": [
        {
          "output_type": "display_data",
          "data": {
            "image/png": "[encoded data removed]",
            "text/plain": [
              "<Figure size 432x288 with 1 Axes>"
            ]
          },
          "metadata": {
            "needs_background": "light"
          }
        }
      ]
    },
    {
      "cell_type": "code",
      "metadata": {
        "colab": {
          "base_uri": "https://localhost:8080/"
        },
        "id": "YnXIcXhKRboJ",
        "outputId": "db482d82-6f74-4b0b-cec3-a54dd1747f9c"
      },
      "source": [
        "mask.min(), mask.max()"
      ],
      "execution_count": 9,
      "outputs": [
        {
          "output_type": "execute_result",
          "data": {
            "text/plain": [
              "(0.0, 1.0)"
            ]
          },
          "metadata": {},
          "execution_count": 9
        }
      ]
    },
    {
      "cell_type": "code",
      "metadata": {
        "colab": {
          "base_uri": "https://localhost:8080/"
        },
        "id": "D5Nbqc07SyVX",
        "outputId": "801e78b9-923e-40e9-ff7c-cc0b0444c69c"
      },
      "source": [
        "print(mask0.shape)\n",
        "print(mask.shape)"
      ],
      "execution_count": 10,
      "outputs": [
        {
          "output_type": "stream",
          "name": "stdout",
          "text": [
            "(512, 512, 3)\n",
            "(64, 64, 3)\n"
          ]
        }
      ]
    },
    {
      "cell_type": "markdown",
      "metadata": {
        "id": "l3dPAXUKRZKq"
      },
      "source": [
        "### Função de custo\n",
        "\n",
        "Como a RNA processa toda a imagem e não somente a região escondida pela máscara que se deseja reconstruir, então, a função de custo deve diferenciar a reconstrução da parte que contém a máscara (o triângulo que omite o nariz) das outras regiões da imagem. Para isso usa-se uma função de custo desenvolvida por Liu et al. (2018) na qual são  atribuídos pesos maiores para os pixels internos à máscara e pesos menores para os pixels fora da máscara. A função de custo $L_{total}$ é definida por:\n",
        "\n",
        "$$L_{total} = L_{valid} + 10L_{hole}$$\n",
        "\n",
        "onde,\n",
        "\n",
        "$$L_{hole} = \\frac {1}{N} \\sum_{i=1}^{N}(1 - m_i)|y_{orig(i)} - y_{prev(i)}|$$\n",
        "\n",
        "$$L_{valid} = \\frac {1}{N} \\sum_{i=1}^{N}(m_i)|y_{orig(i)} - y_{prev(i)}|$$\n",
        " \n",
        "onde $m_i$ é o valor do pixel $i$ da máscara, $y_{orig(i)}$ é o valor do pixel $i$ da imagem original sem a máscara, $y_{prev(i)}$ é o valor do pixel $i$ da imagem reconstruída pela rede e $N$ é o número total de pixels das imagens, que no caso é 64*64*3.\n",
        "\n",
        "Nota-se que na função $L_{hole}$ são considerados somente os pixels que estão dentro da região da máscara e na função $L_{valid}$ são considerados os pixels externos à máscara. Os pesos atribuídos para $L_{valid}$ e $L_{hole}$ na função de custo total $L_{total}$ foram determinados por meio de uma processo de otimização usando 100 imagens.\n",
        "\n",
        "**Referência:**\n",
        "Liu ewt al., Image Inpainting for Irregular Holes Using. Computer Vision Foundation.Liu, et al., 2018. (http://openaccess.thecvf.com/content_ECCV_2018/html/Guilin_Liu_Image_Inpainting_for_ECCV_2018_paper.html)"
      ]
    },
    {
      "cell_type": "markdown",
      "metadata": {
        "id": "iI1PtbQqRZKr"
      },
      "source": [
        "Execute a célula abaixo para definir as funções $L_{hole}$ e $L_{valid}$ para serem usadas na função de custo $L_{total}$.\n"
      ]
    },
    {
      "cell_type": "code",
      "metadata": {
        "id": "NV8mfGkCXqdC"
      },
      "source": [
        "# Função L1, usadas pelas funções L_hole e L_ valid para calcula o erro absoluto médio de dois tensores.\n",
        "\n",
        "import tensorflow.keras.backend as K\n",
        "\n",
        "def l1(y_true, y_pred):\n",
        "    \"\"\"Calculate the L1 loss used in loss calculations\"\"\"\n",
        "    return K.mean(K.abs(y_pred - y_true))\n",
        " \n",
        "# Função L_hole\n",
        "def loss_hole(mask, y_true, y_pred):\n",
        "    \"\"\"Pixel L1 loss within the mask\"\"\"\n",
        "    return l1((1-mask) * y_true, (1-mask) * y_pred)\n",
        "    \n",
        "# Função L_valid    \n",
        "def loss_valid(mask, y_true, y_pred):\n",
        "    \"\"\"Pixel L1 loss outside the mask\"\"\"\n",
        "    return l1(mask * y_true, mask * y_pred)"
      ],
      "execution_count": 11,
      "outputs": []
    },
    {
      "cell_type": "markdown",
      "metadata": {
        "id": "9YCD-AB5RZK0"
      },
      "source": [
        "### Exercício #3: Função de custo \n",
        "\n",
        "Usando as funções $L_{valid}$ e $L_{hole}$ complete a célula abaixo para implementar a função de custo $L{total}$ conforme as equações definidas acima.\n"
      ]
    },
    {
      "cell_type": "code",
      "metadata": {
        "id": "6EDvhncZXqdF"
      },
      "source": [
        "# PARA VOCÊ FAZER: Função de custo L_total\n",
        "\n",
        "def L_total(y_true, y_pred):\n",
        "    \"\"\"\n",
        "    Entradas:\n",
        "        y_true = saída desejada \n",
        "        y_pred = saída calculada pela rede\n",
        "        \n",
        "    Retorna:\n",
        "        Função de custo Ltotal\n",
        "    \"\"\"         \n",
        "    \n",
        "    # ler máscara e redimensiona para 64x64\n",
        "    # Inclua seu código aqui  \n",
        "    mask = resize(mask0, (64, 64, 3), preserve_range=True) / 255\n",
        "    \n",
        "    # Calcula componentes da função de custo e depois a função de custo total\n",
        "    # (use as funções definidas na célula de código anterior)\n",
        "    Lhole = loss_hole(mask, y_true, y_pred)\n",
        "    Lvalid = loss_valid(mask, y_true, y_pred)\n",
        "    Ltotal = Lvalid + (10 * Lhole)\n",
        "\n",
        "    # Retorna função de custo\n",
        "    return Ltotal"
      ],
      "execution_count": 12,
      "outputs": []
    },
    {
      "cell_type": "markdown",
      "metadata": {
        "id": "7lkSI0qHRZK6"
      },
      "source": [
        "Execute a célula abaixo para testar a sua função de custo $L_{total}$."
      ]
    },
    {
      "cell_type": "code",
      "metadata": {
        "id": "RrlP5DFhRZK7",
        "colab": {
          "base_uri": "https://localhost:8080/"
        },
        "outputId": "382d641f-e51b-494b-95ed-6b008f6e4c7c"
      },
      "source": [
        "# Define imagem de teste\n",
        "index = 0\n",
        "\n",
        "# Expande número de eixos para incluir 1o eixo dos exemplos\n",
        "yorig = np.expand_dims(y_train[index], axis=0)\n",
        "yprev = np.expand_dims(x_train[index], axis=0)\n",
        "\n",
        "# Calcula função de custo\n",
        "loss = L_total(yorig, yprev)\n",
        "\n",
        "# Abre sessão do TensorFlow para excutar a função L_total\n",
        "print('L_total = ', format(loss))"
      ],
      "execution_count": 13,
      "outputs": [
        {
          "output_type": "stream",
          "name": "stdout",
          "text": [
            "L_total =  0.22633830550449346\n"
          ]
        }
      ]
    },
    {
      "cell_type": "markdown",
      "metadata": {
        "id": "OFvPzZk0RZLB"
      },
      "source": [
        "**Saída esperada:**\n",
        "\n",
        "    L_total = 0.22633828"
      ]
    },
    {
      "cell_type": "markdown",
      "metadata": {
        "id": "Rljhwc6dRZLD"
      },
      "source": [
        "### Métrica\n",
        "\n",
        "A métrica adequada para esse problema é a relação sinal ruído, geralmente abreviada por PSNR, ver https://en.wikipedia.org/wiki/Peak_signal-to-noise_ratio. A PSNR define a relação entre o valor máximo de um sinal e o ruído presente no sinal, que afeta a sua fidelidade. \n",
        "\n",
        "PSNR é definida em termos da base logaritmica de decibel, sendo mais fácilmente entendida usando o erro quadrático médio (MSE), dado pela seguinte equação: \n",
        "\n",
        "$$MSE = \\frac {1}{N} \\sum_{i=1}^{N}[y_{orig(i)} - y_{prev(i)}]^{2}$$\n",
        "\n",
        "onde $y_{orig(i)}$ é o valor do pixel $i$ da imagem original, $y_{prev(i)}$ é o valor do pixel $i$ da imagem gerada pela rede e $N$ é o número total de pixels das imagens. Assim, o $MSE$ representa a média do erro quadrático entre os valores dos pixels das imagens original e gerada pela rede.\n",
        "\n",
        "Tendo o $MSE$ a $PSNR$ é definida por:\n",
        "\n",
        "$$PSNR = 10 .log_{10}({\\frac {max^2}{MSE}}) = 20 .log_{10}(max) - 10 .log_{10}(MSE)$$\n",
        "\n",
        "onde $max$ é o valor máximo que um pixel das imagens pode assumir. No caso as imagens estão normalizadas entre 0 e 1, ou seja, $max = 1$, mas como $log_{10}(1) = 0$, então, a equação acima é simplificada para:\n",
        "\n",
        "$$PSNR = -10.log_{10}(MSE)$$\n",
        "\n",
        "Note que se a imagem reconstruída for igual a imagem original, então, $PSNR = \\infty$, ou seja, quanto melhor for a imagem reconstruída maior o valor de PSNR."
      ]
    },
    {
      "cell_type": "markdown",
      "metadata": {
        "id": "5HHAw99uRZLD"
      },
      "source": [
        "### Exercício #4: Métrica PSNR \n",
        "\n",
        "A métrica PSNR não está disponível no Keras então temos que implementá-la. Assim, na célula abaixo crie a função que calcula essa métrica de acordo com a equação definida acima. Observe que uma métrica do Keras deve receber como parâmetros a saída desejada e a saída calculada pela rede. Para implementar facilmente essa métrica você pode usar as funções `square`, `mean` e `log` da classe backend do Keras. \n",
        "\n",
        "Observe que a função `log` do keras calcula o logaritmo na base $e$, assim, para calcular o logaritmo de um número $x$ na base 10, deve-se fazer a mudança de base usando a seguinte equação:\n",
        "\n",
        "$$log_{10}(x) = \\frac {log_e(x)} {log_e(10)}$$\n",
        "\n",
        "**Observação:**\n",
        "\n",
        "Note que o TensorFlow-Keras Backend foi importado como K. Isso significa que para usar as funções do Keras é necessário escrever `K.function(...)`."
      ]
    },
    {
      "cell_type": "code",
      "metadata": {
        "id": "eDUaxNQSXqdH"
      },
      "source": [
        "# PARA VOCÊ FAZER: Função da métrica PSNR\n",
        "\n",
        "def PSNR(y_true, y_pred):\n",
        "    \"\"\"\n",
        "    Entradas:\n",
        "        y_true = saída desejada \n",
        "        y_pred = saída calculada pela rede\n",
        "        \n",
        "    Retorna:\n",
        "        psrn\n",
        "    \"\"\"        \n",
        "    # Define uma constante igual a 10.0 do mesmo tipo dos tensores de entrada para poder calcular log(10)\n",
        "    tipo = y_true.dtype\n",
        "    dez = tf.constant(10.0, dtype=tipo) \n",
        "     \n",
        "    # Cálculo de mse e psnr\n",
        "    # Inclua seu código aqui \n",
        "    mse = K.mean(K.square(y_true - y_pred))\n",
        "    psnr = -10 * (K.log(mse) / K.log(dez))\n",
        "\n",
        "    return psnr"
      ],
      "execution_count": 14,
      "outputs": []
    },
    {
      "cell_type": "markdown",
      "metadata": {
        "id": "-_lRA56yRZLK"
      },
      "source": [
        "Execute a célula abaixo para testar a sua função PSNR."
      ]
    },
    {
      "cell_type": "code",
      "metadata": {
        "id": "c084v7-MRZLL",
        "colab": {
          "base_uri": "https://localhost:8080/"
        },
        "outputId": "e38f0555-015b-4527-bf36-2ac8cb28eb2a"
      },
      "source": [
        "import tensorflow as tf\n",
        "\n",
        "# Define imagens\n",
        "index = 0\n",
        "\n",
        "# Expande eixos (1o eixo dos exemplos)\n",
        "yorig = np.expand_dims(y_train[index], axis=0)\n",
        "yprev = np.expand_dims(x_train[index], axis=0)\n",
        "\n",
        "# Calcula PSNR\n",
        "psnr = PSNR(yorig, yprev)\n",
        "\n",
        "# Abre sessão do TensorFlow para excutar a função PSNR\n",
        "print('PSNR = ', format(psnr))"
      ],
      "execution_count": 15,
      "outputs": [
        {
          "output_type": "stream",
          "name": "stdout",
          "text": [
            "PSNR =  18.41677174785432\n"
          ]
        }
      ]
    },
    {
      "cell_type": "markdown",
      "metadata": {
        "id": "rNY-eVFURZLR"
      },
      "source": [
        "**Saída esperada:**\n",
        "\n",
        "    PSNR = 18.41677\n",
        "    \n",
        "Veja o que acontece com o resultado da métrica PSNR se no lugar de `x_train[index]` você usar `y_train[index]`.    "
      ]
    },
    {
      "cell_type": "markdown",
      "metadata": {
        "id": "LgySUQ3KXqdK"
      },
      "source": [
        "## 5 - Compilação e treinamento da RNA\n",
        "\n",
        "### Exercício #5: Compilação e treinamento da RNA\n",
        "\n",
        "Agora você vai treinar a sua RNA usando o método de otimização ADAM. Assim, na célula abaixo, compile e treine a sua RNA usando os seguinte hiperparâmetros:\n",
        "\n",
        "- taxa de aprendizado = 0,001;\n",
        "- função de custo: L_total\n",
        "- métrica: PSNR\n",
        "- número de épocas = 50\n",
        "\n",
        "Essa operação deve demorar pelo menos 20 minutos."
      ]
    },
    {
      "cell_type": "code",
      "metadata": {
        "id": "O18wQQhDXqdK",
        "colab": {
          "base_uri": "https://localhost:8080/"
        },
        "outputId": "9183ea1d-d056-479e-8b59-89afd72b1d8d"
      },
      "source": [
        "# PARA VOCÊ FAZER: Compilação e treinamento da RNA\n",
        "\n",
        "# Importa classe dos otimizadores\n",
        "# Inclua seu código aqui \n",
        "from tensorflow.keras import optimizers\n",
        "EPOCHS = 50\n",
        "\n",
        "# Compilação da RNA\n",
        "# Inclua seu código aqui \n",
        "adam = optimizers.Adam(learning_rate = 0.001)\n",
        "rna.compile(loss = L_total, metrics = PSNR, optimizer = adam)\n",
        "\n",
        "# Treinamento da RNA\n",
        "# Inclua seu código aqui \n",
        "history = rna.fit(x_train, y_train, epochs = EPOCHS, validation_data = (x_val, y_val), verbose = 1)"
      ],
      "execution_count": 16,
      "outputs": [
        {
          "output_type": "stream",
          "name": "stdout",
          "text": [
            "Epoch 1/50\n",
            "38/38 [==============================] - 83s 2s/step - loss: 704.9924 - PSNR: 5.3937 - val_loss: 0.2727 - val_PSNR: 12.9028\n",
            "Epoch 2/50\n",
            "38/38 [==============================] - 45s 1s/step - loss: 0.1982 - PSNR: 14.4939 - val_loss: 0.1621 - val_PSNR: 16.2885\n",
            "Epoch 3/50\n",
            "38/38 [==============================] - 45s 1s/step - loss: 0.1479 - PSNR: 17.2306 - val_loss: 0.1304 - val_PSNR: 18.4913\n",
            "Epoch 4/50\n",
            "38/38 [==============================] - 45s 1s/step - loss: 0.1251 - PSNR: 19.0623 - val_loss: 0.1170 - val_PSNR: 19.8624\n",
            "Epoch 5/50\n",
            "38/38 [==============================] - 43s 1s/step - loss: 0.1129 - PSNR: 20.1615 - val_loss: 0.1055 - val_PSNR: 20.7867\n",
            "Epoch 6/50\n",
            "38/38 [==============================] - 45s 1s/step - loss: 0.1000 - PSNR: 21.1923 - val_loss: 0.0954 - val_PSNR: 21.7743\n",
            "Epoch 7/50\n",
            "38/38 [==============================] - 45s 1s/step - loss: 0.0992 - PSNR: 21.5898 - val_loss: 0.0876 - val_PSNR: 22.4523\n",
            "Epoch 8/50\n",
            "38/38 [==============================] - 45s 1s/step - loss: 0.0865 - PSNR: 22.7215 - val_loss: 0.0931 - val_PSNR: 22.4177\n",
            "Epoch 9/50\n",
            "38/38 [==============================] - 43s 1s/step - loss: 0.0857 - PSNR: 23.0394 - val_loss: 0.0799 - val_PSNR: 23.5812\n",
            "Epoch 10/50\n",
            "38/38 [==============================] - 45s 1s/step - loss: 0.0766 - PSNR: 23.9045 - val_loss: 0.0727 - val_PSNR: 24.2016\n",
            "Epoch 11/50\n",
            "38/38 [==============================] - 45s 1s/step - loss: 0.0748 - PSNR: 24.3213 - val_loss: 0.0767 - val_PSNR: 24.3229\n",
            "Epoch 12/50\n",
            "38/38 [==============================] - 45s 1s/step - loss: 0.0695 - PSNR: 24.9400 - val_loss: 0.0676 - val_PSNR: 25.1409\n",
            "Epoch 13/50\n",
            "38/38 [==============================] - 45s 1s/step - loss: 0.0716 - PSNR: 24.8689 - val_loss: 0.0685 - val_PSNR: 25.0807\n",
            "Epoch 14/50\n",
            "38/38 [==============================] - 43s 1s/step - loss: 0.0648 - PSNR: 25.5944 - val_loss: 0.0633 - val_PSNR: 25.7691\n",
            "Epoch 15/50\n",
            "38/38 [==============================] - 43s 1s/step - loss: 0.0670 - PSNR: 25.5408 - val_loss: 0.0649 - val_PSNR: 25.5783\n",
            "Epoch 16/50\n",
            "38/38 [==============================] - 43s 1s/step - loss: 0.0614 - PSNR: 26.1586 - val_loss: 0.0595 - val_PSNR: 26.3154\n",
            "Epoch 17/50\n",
            "38/38 [==============================] - 45s 1s/step - loss: 0.0658 - PSNR: 25.7621 - val_loss: 0.0634 - val_PSNR: 25.9489\n",
            "Epoch 18/50\n",
            "38/38 [==============================] - 43s 1s/step - loss: 0.0587 - PSNR: 26.5730 - val_loss: 0.0580 - val_PSNR: 26.5580\n",
            "Epoch 19/50\n",
            "38/38 [==============================] - 43s 1s/step - loss: 0.0580 - PSNR: 26.7393 - val_loss: 0.0641 - val_PSNR: 26.1239\n",
            "Epoch 20/50\n",
            "38/38 [==============================] - 45s 1s/step - loss: 0.0571 - PSNR: 26.9042 - val_loss: 0.0637 - val_PSNR: 25.8693\n",
            "Epoch 21/50\n",
            "38/38 [==============================] - 45s 1s/step - loss: 0.0595 - PSNR: 26.6860 - val_loss: 0.0555 - val_PSNR: 27.0274\n",
            "Epoch 22/50\n",
            "38/38 [==============================] - 45s 1s/step - loss: 0.0592 - PSNR: 26.7115 - val_loss: 0.0563 - val_PSNR: 26.9140\n",
            "Epoch 23/50\n",
            "38/38 [==============================] - 43s 1s/step - loss: 0.0536 - PSNR: 27.4232 - val_loss: 0.0594 - val_PSNR: 26.5887\n",
            "Epoch 24/50\n",
            "38/38 [==============================] - 45s 1s/step - loss: 0.0538 - PSNR: 27.4691 - val_loss: 0.0541 - val_PSNR: 27.1933\n",
            "Epoch 25/50\n",
            "38/38 [==============================] - 43s 1s/step - loss: 0.0533 - PSNR: 27.5490 - val_loss: 0.0558 - val_PSNR: 27.0853\n",
            "Epoch 26/50\n",
            "38/38 [==============================] - 45s 1s/step - loss: 0.0523 - PSNR: 27.7367 - val_loss: 0.0660 - val_PSNR: 26.0071\n",
            "Epoch 27/50\n",
            "38/38 [==============================] - 43s 1s/step - loss: 0.0560 - PSNR: 27.2898 - val_loss: 0.0680 - val_PSNR: 25.6637\n",
            "Epoch 28/50\n",
            "38/38 [==============================] - 43s 1s/step - loss: 0.0571 - PSNR: 27.0135 - val_loss: 0.0669 - val_PSNR: 26.1913\n",
            "Epoch 29/50\n",
            "38/38 [==============================] - 43s 1s/step - loss: 0.0514 - PSNR: 27.9159 - val_loss: 0.0574 - val_PSNR: 27.2038\n",
            "Epoch 30/50\n",
            "38/38 [==============================] - 45s 1s/step - loss: 0.0513 - PSNR: 27.9855 - val_loss: 0.0503 - val_PSNR: 27.9402\n",
            "Epoch 31/50\n",
            "38/38 [==============================] - 45s 1s/step - loss: 0.0487 - PSNR: 28.3567 - val_loss: 0.0500 - val_PSNR: 28.1037\n",
            "Epoch 32/50\n",
            "38/38 [==============================] - 45s 1s/step - loss: 0.0561 - PSNR: 27.4100 - val_loss: 0.0671 - val_PSNR: 25.8733\n",
            "Epoch 33/50\n",
            "38/38 [==============================] - 43s 1s/step - loss: 0.0490 - PSNR: 28.3273 - val_loss: 0.0529 - val_PSNR: 27.8154\n",
            "Epoch 34/50\n",
            "38/38 [==============================] - 43s 1s/step - loss: 0.0486 - PSNR: 28.4636 - val_loss: 0.0486 - val_PSNR: 28.2963\n",
            "Epoch 35/50\n",
            "38/38 [==============================] - 45s 1s/step - loss: 0.0475 - PSNR: 28.6405 - val_loss: 0.0562 - val_PSNR: 27.3395\n",
            "Epoch 36/50\n",
            "38/38 [==============================] - 45s 1s/step - loss: 0.0493 - PSNR: 28.3988 - val_loss: 0.0499 - val_PSNR: 28.2081\n",
            "Epoch 37/50\n",
            "38/38 [==============================] - 43s 1s/step - loss: 0.0530 - PSNR: 27.8894 - val_loss: 0.0487 - val_PSNR: 28.3071\n",
            "Epoch 38/50\n",
            "38/38 [==============================] - 43s 1s/step - loss: 0.0638 - PSNR: 26.6906 - val_loss: 0.0491 - val_PSNR: 28.3401\n",
            "Epoch 39/50\n",
            "38/38 [==============================] - 45s 1s/step - loss: 0.0444 - PSNR: 29.1017 - val_loss: 0.0506 - val_PSNR: 28.3080\n",
            "Epoch 40/50\n",
            "38/38 [==============================] - 45s 1s/step - loss: 0.0441 - PSNR: 29.2202 - val_loss: 0.0500 - val_PSNR: 28.2086\n",
            "Epoch 41/50\n",
            "38/38 [==============================] - 43s 1s/step - loss: 0.0492 - PSNR: 28.4620 - val_loss: 0.0483 - val_PSNR: 28.4455\n",
            "Epoch 42/50\n",
            "38/38 [==============================] - 45s 1s/step - loss: 0.0458 - PSNR: 28.9690 - val_loss: 0.0473 - val_PSNR: 28.6562\n",
            "Epoch 43/50\n",
            "38/38 [==============================] - 43s 1s/step - loss: 0.0432 - PSNR: 29.4379 - val_loss: 0.0505 - val_PSNR: 28.1654\n",
            "Epoch 44/50\n",
            "38/38 [==============================] - 45s 1s/step - loss: 0.0434 - PSNR: 29.4030 - val_loss: 0.0523 - val_PSNR: 27.9295\n",
            "Epoch 45/50\n",
            "38/38 [==============================] - 43s 1s/step - loss: 0.0478 - PSNR: 28.7098 - val_loss: 0.0461 - val_PSNR: 28.8835\n",
            "Epoch 46/50\n",
            "38/38 [==============================] - 45s 1s/step - loss: 0.0470 - PSNR: 28.8493 - val_loss: 0.0472 - val_PSNR: 28.8414\n",
            "Epoch 47/50\n",
            "38/38 [==============================] - 43s 1s/step - loss: 0.0419 - PSNR: 29.6860 - val_loss: 0.0513 - val_PSNR: 28.2379\n",
            "Epoch 48/50\n",
            "38/38 [==============================] - 45s 1s/step - loss: 0.0430 - PSNR: 29.4631 - val_loss: 0.0436 - val_PSNR: 29.2561\n",
            "Epoch 49/50\n",
            "38/38 [==============================] - 45s 1s/step - loss: 0.0444 - PSNR: 29.3260 - val_loss: 0.0454 - val_PSNR: 29.2160\n",
            "Epoch 50/50\n",
            "38/38 [==============================] - 45s 1s/step - loss: 0.0408 - PSNR: 29.9129 - val_loss: 0.0436 - val_PSNR: 29.4153\n"
          ]
        }
      ]
    },
    {
      "cell_type": "markdown",
      "metadata": {
        "id": "8-wIB0-xRZLY"
      },
      "source": [
        "**Saída esperada:**\n",
        "\n",
        "    Train on 1200 samples, validate on 300 samples\n",
        "    Epoch 1/50\n",
        "    1200/1200 [==============================] - 22s 18ms/sample - loss: 363.4275 - PSNR: 6.1513 - val_loss: 0.2705 - val_PSNR: 12.4118\n",
        "    .\n",
        "    .\n",
        "    .\n",
        "    Epoch 50/50\n",
        "    1200/1200 [==============================] - 12s 10ms/sample - loss: 0.0392 - PSNR: 31.4102 - val_loss: 0.0457 - val_PSNR: 30.2404"
      ]
    },
    {
      "cell_type": "markdown",
      "metadata": {
        "id": "Ti3e8GaIXqdN"
      },
      "source": [
        "## 6 - Resultados\n",
        "\n",
        "Execute as células abaixo para visualizar os valores da função de custo e da métrica durante o treinamento."
      ]
    },
    {
      "cell_type": "code",
      "metadata": {
        "id": "6CKdUrjCXqdO",
        "colab": {
          "base_uri": "https://localhost:8080/"
        },
        "outputId": "f0ff96f2-d739-41ba-a1e5-a12afad7ba20"
      },
      "source": [
        "# Verificação das variáveis salvas no processo de treinamento\n",
        "history_dict = history.history\n",
        "history_dict.keys()"
      ],
      "execution_count": 17,
      "outputs": [
        {
          "output_type": "execute_result",
          "data": {
            "text/plain": [
              "dict_keys(['loss', 'PSNR', 'val_loss', 'val_PSNR'])"
            ]
          },
          "metadata": {},
          "execution_count": 17
        }
      ]
    },
    {
      "cell_type": "code",
      "metadata": {
        "id": "9-5q1lYFXqdQ",
        "colab": {
          "base_uri": "https://localhost:8080/",
          "height": 577
        },
        "outputId": "8452c15b-c0aa-44a0-d51b-3c21f6ec8fa6"
      },
      "source": [
        "# Salva custos, métricas e epocas em vetores \n",
        "custo = history_dict['loss']\n",
        "acc = history_dict['PSNR']\n",
        "val_custo = history_dict['val_loss']\n",
        "val_acc = history_dict['val_PSNR']\n",
        "\n",
        "# Cria vetor de épocas\n",
        "epocas = range(1, len(custo) + 1)\n",
        "\n",
        "# Gráfico dos valores de custo\n",
        "plt.plot(epocas, custo, 'bo', label='Custo - treinamento')\n",
        "plt.plot(epocas, val_custo, 'b', label='Custo - validação')\n",
        "plt.title('Valor da função de custo – treinamento e validação')\n",
        "plt.xlabel('Épocas')\n",
        "plt.ylabel('Custo')\n",
        "plt.legend()\n",
        "plt.show()\n",
        "\n",
        "# Gráfico dos valores da métrica\n",
        "plt.plot(epocas, acc, 'bo', label='PSNR- treinamento')\n",
        "plt.plot(epocas, val_acc, 'b', label='PSNR - validação')\n",
        "plt.title('Valor da métrica – treinamento e validação')\n",
        "plt.xlabel('Épocas')\n",
        "plt.ylabel('Exatidao')\n",
        "plt.legend()\n",
        "plt.show()"
      ],
      "execution_count": 18,
      "outputs": [
        {
          "output_type": "display_data",
          "data": {
            "image/png": "[encoded data removed]",
            "text/plain": [
              "<Figure size 432x288 with 1 Axes>"
            ]
          },
          "metadata": {
            "needs_background": "light"
          }
        },
        {
          "output_type": "display_data",
          "data": {
            "image/png": "[encoded data removed]",
            "text/plain": [
              "<Figure size 432x288 with 1 Axes>"
            ]
          },
          "metadata": {
            "needs_background": "light"
          }
        }
      ]
    },
    {
      "cell_type": "markdown",
      "metadata": {
        "id": "KdSyZFoKRZLi"
      },
      "source": [
        "### Exercício #6: Resumo dos resultados\n",
        "\n",
        "Usando o método evaluate, na célula abaixo calcule o valor da função de custo e da métrica para os dados de treinamento, validação e teste."
      ]
    },
    {
      "cell_type": "code",
      "metadata": {
        "id": "9Jl3I9m_XqdT",
        "colab": {
          "base_uri": "https://localhost:8080/"
        },
        "outputId": "435125f0-7834-48b5-a854-755fedd7cbc3"
      },
      "source": [
        "# PARA VOCÊ FAZER: Calcular resultados finais da função de custo e métrica após treinamento\n",
        "\n",
        "# Avaliação do custo e métrica para os dados de treinamento, valdação e teste\n",
        "# Inclua seu código aqui \n",
        "custo_e_metricas_train = rna.evaluate(x_train, y_train)\n",
        "custo_e_metricas_val = rna.evaluate(x_val, y_val)\n",
        "custo_e_metricas_test = rna.evaluate(x_test, y_test)\n",
        "\n",
        "print('Resultados - dados treinamento:', custo_e_metricas_train)\n",
        "print('Resultados - dados validação:', custo_e_metricas_val)\n",
        "print('Resultados - dados teste:', custo_e_metricas_val)"
      ],
      "execution_count": 19,
      "outputs": [
        {
          "output_type": "stream",
          "name": "stdout",
          "text": [
            "38/38 [==============================] - 13s 339ms/step - loss: 0.0391 - PSNR: 30.2543\n",
            "10/10 [==============================] - 3s 324ms/step - loss: 0.0436 - PSNR: 29.4153\n",
            "10/10 [==============================] - 3s 327ms/step - loss: 0.0431 - PSNR: 29.6922\n",
            "Resultados - dados treinamento: [0.039075255393981934, 30.254281997680664]\n",
            "Resultados - dados validação: [0.0435689240694046, 29.41534423828125]\n",
            "Resultados - dados teste: [0.0435689240694046, 29.41534423828125]\n"
          ]
        }
      ]
    },
    {
      "cell_type": "markdown",
      "metadata": {
        "id": "PP_3Zdo5RZLn"
      },
      "source": [
        "**Saída esperada:**\n",
        "\n",
        "    1200/1200 [==============================] - 4s 3ms/sample - loss: 0.0425 - PSNR: 30.7296\n",
        "    300/300 [==============================] - 1s 3ms/sample - loss: 0.0457 - PSNR: 30.2404\n",
        "    300/300 [==============================] - 1s 3ms/sample - loss: 0.0455 - PSNR: 30.3217\n",
        "    Resultados - dados treinamento: [0.04251373956600825, 30.729645]\n",
        "    Resultados - dados validação: [0.04573282207051913, 30.240355]\n",
        "    Resultados - dados teste: [0.04573282207051913, 30.240355]"
      ]
    },
    {
      "cell_type": "markdown",
      "metadata": {
        "id": "xiLUAtSgXqdX"
      },
      "source": [
        "### Visualização do resultado de um exemplo do conjunto de teste\n",
        "\n",
        "Execute a célula abaixo para visualizar as imagens original e a reconstruída de um exemplo do conjunto de teste. Troque o valor da variável `index` para visualizar vários exemplos."
      ]
    },
    {
      "cell_type": "code",
      "metadata": {
        "id": "QsAxBTe5XqdX",
        "colab": {
          "base_uri": "https://localhost:8080/",
          "height": 343
        },
        "outputId": "7bc30131-2a9d-4b9e-c565-634b332f8ebb"
      },
      "source": [
        "# Mostra o resultado de uma imagem\n",
        "\n",
        "# Escolhe imagem e expande o número de eixos\n",
        "index = 0\n",
        "xindex = np.expand_dims(x_test[index], axis=0)\n",
        "\n",
        "# Calcula imagem reconstruída pela RNA\n",
        "y_pred = rna.predict(xindex)\n",
        "\n",
        "# Mostra imagens \n",
        "f, pos = plt.subplots(1, 3, figsize=(16, 16))\n",
        "pos[0].imshow(x_test[index])\n",
        "pos[0].set_title('Imagem de entrada')\n",
        "pos[1].imshow(y_pred[0])\n",
        "pos[1].set_title('Imagem recostruida')\n",
        "pos[2].imshow(y_test[index])\n",
        "pos[2].set_title('Imagem original')\n",
        "plt.show()"
      ],
      "execution_count": 20,
      "outputs": [
        {
          "output_type": "stream",
          "name": "stderr",
          "text": [
            "Clipping input data to the valid range for imshow with RGB data ([0..1] for floats or [0..255] for integers).\n"
          ]
        },
        {
          "output_type": "display_data",
          "data": {
            "image/png": "[encoded data removed]",
            "text/plain": [
              "<Figure size 1152x1152 with 3 Axes>"
            ]
          },
          "metadata": {
            "needs_background": "light"
          }
        }
      ]
    }
  ]
}