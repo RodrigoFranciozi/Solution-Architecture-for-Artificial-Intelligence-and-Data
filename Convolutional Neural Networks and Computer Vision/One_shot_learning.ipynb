{
  "nbformat": 4,
  "nbformat_minor": 0,
  "metadata": {
    "kernelspec": {
      "display_name": "Python 3",
      "language": "python",
      "name": "python3"
    },
    "language_info": {
      "codemirror_mode": {
        "name": "ipython",
        "version": 3
      },
      "file_extension": ".py",
      "mimetype": "text/x-python",
      "name": "python",
      "nbconvert_exporter": "python",
      "pygments_lexer": "ipython3",
      "version": "3.8.8"
    },
    "colab": {
      "name": "T6_One_shot_learning.ipynb",
      "provenance": [],
      "collapsed_sections": []
    },
    "accelerator": "GPU"
  },
  "cells": [
    {
      "cell_type": "markdown",
      "metadata": {
        "id": "S4pVjhcG6qhL"
      },
      "source": [
        "# Trabalho #6 - One shot learning para classificação multiclasse\n",
        "\n",
        "Nesse trabalho você vai desenvolvver um classificador de imagens de caracteres de alfabetos usando o método \"one shot learning\". \n",
        "\n",
        "O objetivo desse trabalho é verificar se o seu aprendizado na disciplina foi efetivo, assim, você vai ter que desenvolver quase todo o código para realizar o trabalho. Somente é fornecida uma função para carregar as imagens do conjunto de dados e salvá-las em tensores. \n",
        "\n",
        "O conjunto de dados utilizado tem que ser carregado da internet conforme indicado a seguir."
      ]
    },
    {
      "cell_type": "markdown",
      "metadata": {
        "id": "nqgw1Nrd6qhS"
      },
      "source": [
        "## Coloque o seu  nome aqui:\n",
        "\n",
        "Nome: Rodrigo Franciozi Rodrigues da Silva"
      ]
    },
    {
      "cell_type": "markdown",
      "metadata": {
        "id": "wPKrO5Dl6qhT"
      },
      "source": [
        "### Importação das principais bibliotecas"
      ]
    },
    {
      "cell_type": "code",
      "metadata": {
        "id": "bNSGUTzW6qhU"
      },
      "source": [
        "import os\n",
        "import numpy as np\n",
        "import matplotlib.pyplot as plt\n",
        "import tensorflow as tf"
      ],
      "execution_count": 1,
      "outputs": []
    },
    {
      "cell_type": "code",
      "metadata": {
        "colab": {
          "base_uri": "https://localhost:8080/"
        },
        "id": "-NYPpnH0812s",
        "outputId": "b8732898-e083-4988-9cd1-b51409173151"
      },
      "source": [
        "from google.colab import drive\n",
        "drive.mount('/content/drive')"
      ],
      "execution_count": 2,
      "outputs": [
        {
          "output_type": "stream",
          "name": "stdout",
          "text": [
            "Drive already mounted at /content/drive; to attempt to forcibly remount, call drive.mount(\"/content/drive\", force_remount=True).\n"
          ]
        }
      ]
    },
    {
      "cell_type": "markdown",
      "metadata": {
        "id": "YDPFAccw6qhW"
      },
      "source": [
        "## 1. Definição do problema\n",
        "\n",
        "\n",
        "Nesse trabalho será usado o conjunto de dados Omniglot, que consiste de uma coleção de 1928 caracteres desenhados à mão de 50 alfabetos diferentes. Para cada caractere existem apenas 20 exemplos,\n",
        "\n",
        "Somente para ressaltar, o nosso alfabeto contém 26 caracteres (ou letras). Esse conjunto de dados contém 1.928 caracteres de todos os 50 alfabetos.\n",
        "\n",
        "A figura abaixo apresenta algumas imagens de caracteres de diferentes alfabetos para se ter uma ideia melhor do conjunto de dados.\n",
        "\n",
        "<br>\n",
        "<img src=\"Exemplos.jpg\">\n",
        "\n",
        "<center> Fonte: https://sorenbouma.github.io/blog/oneshot/ </center>\n",
        "\n",
        "\n",
        "O objetivo desse trabalho é identificar os caracteres a partir de imagens, ou seja, é um trabalho de classificação multiclasse. Contudo, esse conjunto de dados contém 1.928 classes diferentes (cada caractere consiste de uma classe) e para cada classe tem-se apenas 20 imagens. Obviamente, se for tentado resolver este problema usando o método tradicional de classificação multiclasse de imagens, então definitivamente não será possível construir um bom modelo capaz de generalizar. Além disso, dado o pequeno número de imagens disponíveis para cada classe, o modelo facilmente terá problemas de \"overfitting\"."
      ]
    },
    {
      "cell_type": "markdown",
      "metadata": {
        "id": "O438Icqz6qhX"
      },
      "source": [
        "## 2. Conjunto de dados\n",
        "\n",
        "Você pode baixar o conjunto de dados do repositório GitHub (https://github.com/brendenlake/omniglot). Esse conjunto de dados foi desenvolvido por: \"Lake, B. M., Salakhutdinov, R. e Tenenbaum, J. B. (2015), Human-level concept learning through probabilistic program induction. Science, 350 (6266), 1332-1338.\" \n",
        "\n",
        "A pasta chamada “Python” contém dois arquivos zip: `images_background.zip` e `images_evaluation.zip`. Basta descompactar somente esses dois arquivos. \n",
        "\n",
        "Depois de descompactar esses arquivos, existirão duas pastas: \n",
        "\n",
        "- A pasta `images_background` contém caracteres de 30 alfabetos e que serão usados para treinar o modelo;\n",
        "- A pasta `images_evaluation` contém caracteres dos outros 20 alfabetos que serão usados para testar o modelo.\n",
        "\n",
        "\n",
        "Em cada uma dessas pastas existem subdiretórios com os diversos alfabetos. O conteúdo da pasta `images_background` com os dados de treinamento, é o seguinte:\n",
        "\n",
        "<br>\n",
        "\n",
        "<img src=\"Images_background.jpg\">\n",
        "          \n",
        "<br>\n",
        "\n",
        "O conteúdo da pasta `images_evaluation`, com os dados de validação e teste, é o seguinte:\n",
        "\n",
        "<br>\n",
        "\n",
        "<img src=\"Images_evaluation.jpg\">\n",
        "          \n",
        "<br>\n",
        "\n",
        "Observe que o modelo será treinado com um conjunto de caracteres e depois testado com um conjunto de caracteres completamente diferente, que nunca foi usado durante o treinamento. Isso não é possível com um modelo de classificação multiclasse tradicional."
      ]
    },
    {
      "cell_type": "markdown",
      "metadata": {
        "id": "BIP85uGM6qhZ"
      },
      "source": [
        "### 3.1 Carregar conjunto de dados\n",
        "\n",
        "Para carregar o conjunto de dados execute a célula abaixo para criar a função que le as imagens nos arquivos e as carrega em tensores."
      ]
    },
    {
      "cell_type": "code",
      "metadata": {
        "id": "qRuaUAHB6qha"
      },
      "source": [
        "# Importa função para carregar as imagens\n",
        "from skimage.io import imread\n",
        "\n",
        "# Função para carregar as imagens e classes e colocá-las em tensores \n",
        "def loadimgs(path, n = 0):\n",
        "    '''\n",
        "    path => diretório onde estão as imagens de treinamento ou de validação\n",
        "    '''\n",
        "    X=[]\n",
        "    y = []\n",
        "    cat_dict = {}\n",
        "    lang_dict = {}\n",
        "    curr_y = n\n",
        "    \n",
        "    # Carrega cada alfabeto separadamente para facilitar o seu uso\n",
        "    for alphabet in os.listdir(path):\n",
        "        print(\"loading alphabet: \" + alphabet)\n",
        "        lang_dict[alphabet] = [curr_y,None]\n",
        "        alphabet_path = os.path.join(path,alphabet)\n",
        "        \n",
        "        # Cada caractere é carregado separadamente e colocado em subdiretórios sepraddos\n",
        "        for letter in os.listdir(alphabet_path):\n",
        "            cat_dict[curr_y] = (alphabet, letter)\n",
        "            category_images=[]\n",
        "            letter_path = os.path.join(alphabet_path, letter)\n",
        "            \n",
        "            # Carrega todas as imagens do diretório corrente\n",
        "            for filename in os.listdir(letter_path):\n",
        "                image_path = os.path.join(letter_path, filename)\n",
        "                image = imread(image_path)\n",
        "                category_images.append(image)\n",
        "                y.append(curr_y)\n",
        "            try:\n",
        "                X.append(np.stack(category_images))\n",
        "\n",
        "            except ValueError as e:\n",
        "                print(e)\n",
        "                print(\"error - category_images:\", category_images)\n",
        "            curr_y += 1\n",
        "            lang_dict[alphabet][1] = curr_y - 1\n",
        "            \n",
        "    y = np.vstack(y)\n",
        "    X = np.stack(X)\n",
        "    \n",
        "    return X, y, lang_dict"
      ],
      "execution_count": 3,
      "outputs": []
    },
    {
      "cell_type": "markdown",
      "metadata": {
        "id": "_sgR1SQk6qhc"
      },
      "source": [
        "Defina os nomes dos diretórios onde se encontram as imagens de treinamento e de teste e execute a célula abaixo para carregar as imagens nos respetivos tensores."
      ]
    },
    {
      "cell_type": "code",
      "metadata": {
        "id": "MKbA6QEM-HeN"
      },
      "source": [
        "import zipfile\n",
        "\n",
        "with zipfile.ZipFile(\"/content/drive/MyDrive/Education/IMT/Pós Graduação/Convolutional Neural Networks and Computer Vision/T6/images_background.zip\",\"r\") as zip_ref:\n",
        "    zip_ref.extractall(\"targetdir\")\n",
        "\n",
        "with zipfile.ZipFile(\"/content/drive/MyDrive/Education/IMT/Pós Graduação/Convolutional Neural Networks and Computer Vision/T6/images_evaluation.zip\",\"r\") as zip_ref:\n",
        "    zip_ref.extractall(\"targetdir\")"
      ],
      "execution_count": 4,
      "outputs": []
    },
    {
      "cell_type": "code",
      "metadata": {
        "colab": {
          "base_uri": "https://localhost:8080/"
        },
        "id": "OVvbff-d6qhd",
        "outputId": "9dcbc022-2cb9-492a-dbbe-54aaa1c07f0c"
      },
      "source": [
        "print('Carregando dados de treinamento:')\n",
        "train_folder = \"targetdir/images_background\"\n",
        "X_train, Y_train, c_train = loadimgs(train_folder)\n",
        "print(' ')\n",
        "\n",
        "print('Carregando dados de validação:')\n",
        "val_folder = \"targetdir/images_evaluation\"\n",
        "X_val, Y_val, c_val = loadimgs(val_folder)"
      ],
      "execution_count": 5,
      "outputs": [
        {
          "output_type": "stream",
          "name": "stdout",
          "text": [
            "Carregando dados de treinamento:\n",
            "loading alphabet: Korean\n",
            "loading alphabet: Mkhedruli_(Georgian)\n",
            "loading alphabet: Hebrew\n",
            "loading alphabet: Blackfoot_(Canadian_Aboriginal_Syllabics)\n",
            "loading alphabet: Tifinagh\n",
            "loading alphabet: Balinese\n",
            "loading alphabet: Futurama\n",
            "loading alphabet: Anglo-Saxon_Futhorc\n",
            "loading alphabet: Sanskrit\n",
            "loading alphabet: Japanese_(hiragana)\n",
            "loading alphabet: Ojibwe_(Canadian_Aboriginal_Syllabics)\n",
            "loading alphabet: Malay_(Jawi_-_Arabic)\n",
            "loading alphabet: Tagalog\n",
            "loading alphabet: Cyrillic\n",
            "loading alphabet: Inuktitut_(Canadian_Aboriginal_Syllabics)\n",
            "loading alphabet: Gujarati\n",
            "loading alphabet: Early_Aramaic\n",
            "loading alphabet: Grantha\n",
            "loading alphabet: Syriac_(Estrangelo)\n",
            "loading alphabet: N_Ko\n",
            "loading alphabet: Bengali\n",
            "loading alphabet: Braille\n",
            "loading alphabet: Greek\n",
            "loading alphabet: Alphabet_of_the_Magi\n",
            "loading alphabet: Armenian\n",
            "loading alphabet: Burmese_(Myanmar)\n",
            "loading alphabet: Asomtavruli_(Georgian)\n",
            "loading alphabet: Japanese_(katakana)\n",
            "loading alphabet: Arcadian\n",
            "loading alphabet: Latin\n",
            " \n",
            "Carregando dados de validação:\n",
            "loading alphabet: ULOG\n",
            "loading alphabet: Syriac_(Serto)\n",
            "loading alphabet: Avesta\n",
            "loading alphabet: Atlantean\n",
            "loading alphabet: Keble\n",
            "loading alphabet: Atemayar_Qelisayer\n",
            "loading alphabet: Sylheti\n",
            "loading alphabet: Mongolian\n",
            "loading alphabet: Tengwar\n",
            "loading alphabet: Malayalam\n",
            "loading alphabet: Kannada\n",
            "loading alphabet: Angelic\n",
            "loading alphabet: Tibetan\n",
            "loading alphabet: Gurmukhi\n",
            "loading alphabet: Manipuri\n",
            "loading alphabet: Ge_ez\n",
            "loading alphabet: Aurek-Besh\n",
            "loading alphabet: Oriya\n",
            "loading alphabet: Old_Church_Slavonic_(Cyrillic)\n",
            "loading alphabet: Glagolitic\n"
          ]
        }
      ]
    },
    {
      "cell_type": "markdown",
      "metadata": {
        "id": "qLIaNnOW6qhe"
      },
      "source": [
        "- Essa função retorna uma tupla de 3 tensores: X, Y e c.\n",
        "\n",
        "As dimensões dos tensores com os dados de treinamento e validação são as seguintes:"
      ]
    },
    {
      "cell_type": "code",
      "metadata": {
        "colab": {
          "base_uri": "https://localhost:8080/"
        },
        "id": "Jg-9CcsG6qhe",
        "outputId": "d1075f76-4e59-4e40-b655-fd92c9bfef48"
      },
      "source": [
        "print('Dimensão de X_train:', X_train.shape)\n",
        "print('Dimensão de X_val:', X_val.shape)\n",
        "print('Dimensão de Y_train:', Y_train.shape)\n",
        "print('Dimensão de Y_val:', Y_val.shape)\n",
        "print('Dimensão de c_train:', len(c_train))\n",
        "print('Dimensão de c_val:', len(c_val))"
      ],
      "execution_count": 6,
      "outputs": [
        {
          "output_type": "stream",
          "name": "stdout",
          "text": [
            "Dimensão de X_train: (964, 20, 105, 105)\n",
            "Dimensão de X_val: (659, 20, 105, 105)\n",
            "Dimensão de Y_train: (19280, 1)\n",
            "Dimensão de Y_val: (13180, 1)\n",
            "Dimensão de c_train: 30\n",
            "Dimensão de c_val: 20\n"
          ]
        }
      ]
    },
    {
      "cell_type": "markdown",
      "metadata": {
        "id": "EDjSflFq6qhf"
      },
      "source": [
        "Os tensores `X_train` e `X_val` contém as imagens, ou os dados de entrada. A dimensão desse tensores é `(964, 20, 105, 105)`. Isso significa que temos 964 caracteres (letras ou classes). Para cada um desses caracters temos 20 imagens. As imagens estão en tons de cinza com dimensão 105 por 105. O número total de imagens de treinamento e de validação é 964*20 = 19.280.\n",
        "\n",
        "O tensores `Y_train` e `Y_val` contém os rótulos (classes) das letras, ou seja, são os dados de saída. A dimensão desses tensores é `(19280, 1)`. As primeiras 20 imagens são da classe 0, as próximas 20 são da classe 1 e assim por diante, sendo que as últimas 20 imagens são da classe 963. \n",
        "\n",
        "As variáveis `c_train` e `c_val` consistem de dicionários que contém os nomes das classes. Para obter esses nomes execute a célula abaixo."
      ]
    },
    {
      "cell_type": "code",
      "metadata": {
        "colab": {
          "base_uri": "https://localhost:8080/"
        },
        "id": "XhyQv_ja6qhf",
        "outputId": "83c2ae18-7aef-4302-d24d-2399539154e6"
      },
      "source": [
        "print('Nomes dos alfabetos dos caracteres:', c_train.keys())\n",
        "print(' ')\n",
        "print('Rótulo das classes dos caracteres do alfabeto \"Alphabet_of_the_Magi\":', c_train['Alphabet_of_the_Magi'])\n",
        "print(' ')\n",
        "print('Rótulo das classes dos caracteres do alfabeto \"Anglo-Saxon_Futhorc\":', c_train['Anglo-Saxon_Futhorc'])"
      ],
      "execution_count": 7,
      "outputs": [
        {
          "output_type": "stream",
          "name": "stdout",
          "text": [
            "Nomes dos alfabetos dos caracteres: dict_keys(['Korean', 'Mkhedruli_(Georgian)', 'Hebrew', 'Blackfoot_(Canadian_Aboriginal_Syllabics)', 'Tifinagh', 'Balinese', 'Futurama', 'Anglo-Saxon_Futhorc', 'Sanskrit', 'Japanese_(hiragana)', 'Ojibwe_(Canadian_Aboriginal_Syllabics)', 'Malay_(Jawi_-_Arabic)', 'Tagalog', 'Cyrillic', 'Inuktitut_(Canadian_Aboriginal_Syllabics)', 'Gujarati', 'Early_Aramaic', 'Grantha', 'Syriac_(Estrangelo)', 'N_Ko', 'Bengali', 'Braille', 'Greek', 'Alphabet_of_the_Magi', 'Armenian', 'Burmese_(Myanmar)', 'Asomtavruli_(Georgian)', 'Japanese_(katakana)', 'Arcadian', 'Latin'])\n",
            " \n",
            "Rótulo das classes dos caracteres do alfabeto \"Alphabet_of_the_Magi\": [730, 749]\n",
            " \n",
            "Rótulo das classes dos caracteres do alfabeto \"Anglo-Saxon_Futhorc\": [222, 250]\n"
          ]
        }
      ]
    },
    {
      "cell_type": "markdown",
      "metadata": {
        "id": "0yud7G3s6qhg"
      },
      "source": [
        "Como existem 30 alfabetos diferentes, o dicionário 'c' contém 30 itens. A chave de cada item é o nome do alfabeto. O valor de cada item é uma lista de dois números: [low, high], em que 'low' é o rótulo do primeiro caractere do alfabeto e 'high' é o rótulo do último caractere desse alfabeto.\n",
        "\n",
        "Depois de carregar as imagens de treinamento e teste, elas são salvas nos seguintes tensores para serem usadas:\n",
        "\n",
        "- Dados de treinamento: `X_train`, `Y_train`, `c_train`\n",
        "- Dados de validação: `X_val`, `Y_val`, `c_val`"
      ]
    },
    {
      "cell_type": "code",
      "metadata": {
        "colab": {
          "base_uri": "https://localhost:8080/"
        },
        "id": "tMCZ2G6iyEUd",
        "outputId": "a2e55dd8-3afa-4c8b-ba7b-b79d0481b59b"
      },
      "source": [
        "nx = X_train.shape[0] * X_train.shape[1]\n",
        "nx2 = X_val.shape[0] * X_val.shape[1]\n",
        "\n",
        "x_train_flat = np.reshape(X_train, (nx, 105, 105))/255.\n",
        "x_test_flat = np.reshape(X_val, (nx2, 105, 105))/255.\n",
        "y_train_normalized = np.reshape(Y_train, Y_train.shape[0])\n",
        "y_test_normalized = np.reshape(Y_val, Y_val.shape[0])\n",
        "\n",
        "print('Dimensao dos dados de entrada de treinamento: ', x_train_flat.shape)\n",
        "print('Dimensao dos dados de entrada de teste: ', x_test_flat.shape)\n",
        "print('Dimensao dos dados de treino (y): ', y_train_normalized.shape)\n",
        "print('Dimensao dos dados de test (y): ', y_test_normalized.shape)"
      ],
      "execution_count": 53,
      "outputs": [
        {
          "output_type": "stream",
          "name": "stdout",
          "text": [
            "Dimensao dos dados de entrada de treinamento:  (19280, 105, 105)\n",
            "Dimensao dos dados de entrada de teste:  (13180, 105, 105)\n",
            "Dimensao dos dados de treino (y):  (19280,)\n",
            "Dimensao dos dados de test (y):  (13180,)\n"
          ]
        }
      ]
    },
    {
      "cell_type": "markdown",
      "metadata": {
        "id": "ga_xXYoN_MAV"
      },
      "source": [
        "## 3. Para você fazer\n",
        "\n",
        "Para fazer esse trabalho resolva cada uma das etapas abaixo e apresente resultados para cada uma delas conforme descrito a seguir.\n",
        "\n",
        "\n",
        "### 3.1 Criação dos exemplos de triplas\n",
        "\n",
        "Crie uma função que seleciona os exemplos de treinamento achando triplas de imagens compostas pela imagem de referência, imagem positiva e imagem negativa. \n",
        "\n",
        "Apresente alguns testes da função criadora de triplas, mostrando as imagens dos caracteres das triplas. "
      ]
    },
    {
      "cell_type": "code",
      "metadata": {
        "id": "OViv_hd2_5LW"
      },
      "source": [
        "import random\n",
        "\n",
        "def create_batch(batch_size = 256):\n",
        "  x_refs = np.zeros((batch_size, 105, 105))\n",
        "  x_positives = np.zeros((batch_size, 105, 105))\n",
        "  x_negatives = np.zeros((batch_size, 105, 105))\n",
        "\n",
        "  for i in range(0, batch_size):\n",
        "    random_index = random.randint(0, x_train_flat.shape[0] -1)\n",
        "    x_ref = x_train_flat[random_index]\n",
        "    y = y_train_normalized[random_index]\n",
        "\n",
        "    indices_for_pos = np.squeeze(np.where(y_train_normalized == y))\n",
        "    indices_for_neg = np.squeeze(np.where(y_train_normalized != y))\n",
        "\n",
        "    x_positive = x_train_flat[indices_for_pos[random.randint(0, len(indices_for_pos) -1)]]\n",
        "    x_negative = x_train_flat[indices_for_neg[random.randint(0, len(indices_for_neg) -1)]]\n",
        "\n",
        "    x_refs[i] = x_ref\n",
        "    x_positives[i] = x_positive\n",
        "    x_negatives[i] = x_negative\n",
        "  \n",
        "  return [x_refs, x_positives, x_negatives]"
      ],
      "execution_count": 23,
      "outputs": []
    },
    {
      "cell_type": "code",
      "metadata": {
        "colab": {
          "base_uri": "https://localhost:8080/",
          "height": 133
        },
        "id": "emLc2o0b_1os",
        "outputId": "1261d8cd-1421-45a7-fe4b-97a95d9045c6"
      },
      "source": [
        "def plot_triplets(examples):\n",
        "  plt.figure(figsize=(6,2))\n",
        "  for i in range(3):\n",
        "    plt.subplot(1, 3, 1 + i)\n",
        "    plt.imshow(np.reshape(examples[i], (105, 105)), cmap = 'binary')\n",
        "    plt.xticks([])\n",
        "    plt.yticks([])\n",
        "  plt.show()\n",
        "\n",
        "example = create_batch(1)\n",
        "plot_triplets(example)"
      ],
      "execution_count": 24,
      "outputs": [
        {
          "output_type": "display_data",
          "data": {
            "image/png": "[encoded data removed]",
            "text/plain": [
              "<Figure size 432x144 with 3 Axes>"
            ]
          },
          "metadata": {}
        }
      ]
    },
    {
      "cell_type": "markdown",
      "metadata": {
        "id": "ZxWJQyuj_Nvt"
      },
      "source": [
        "### 3.2 Rede geradora do vetor de características\n",
        "\n",
        "Configure a rede que gera os vetores de características dos três caracteres das triplas  simultaneamente, para depois esses vetores serem unidos e calculadas as suas distâncias.\n",
        "\n",
        "Crie a rede que gera os vetores de características dos três caracteres das triplas com a seguinte configuração:\n",
        "\n",
        "- Rede convolucional sequencial;\n",
        "- Camada convolucional com 64 filtros de dimensão 5x5 e função de ativação relu;\n",
        "- Camada de maxpooling com janela 2x2 e stride 2;\n",
        "- Camada convolucional com 128 filtros de dimensão 5x5 e função de ativação relu;\n",
        "- Camada de maxpooling com janela 2x2 e stride 2;\n",
        "- Camada convolucional com 256 filtros de dimensão 3x3 e função de ativação relu;\n",
        "- Camada de maxpooling com janela 2x2 e stride 2;\n",
        "- Camada convolucional com 512 filtros de dimensão 3x3 e função de ativação relu;\n",
        "- Camada de \"global average pooling\" \n",
        "\n",
        "Apresente o sumário e o gráfico da sua rede.\n",
        "\n",
        "Apresente a dimensão dos vetores de características gerados por essa rede para cada imagem.\n",
        "\n",
        "Teste a sua rede geradora de características para algumas imagens do conjunto de treinamento e apresente alguns elementos dos vetores de características.\n"
      ]
    },
    {
      "cell_type": "code",
      "metadata": {
        "colab": {
          "base_uri": "https://localhost:8080/",
          "height": 1000
        },
        "id": "SSwuwrXe6axH",
        "outputId": "4fcc8337-97ae-4fe5-b917-f8ba6b3c3f93"
      },
      "source": [
        "from tensorflow.keras import layers\n",
        "from tensorflow.keras import models \n",
        "from tensorflow.keras import optimizers \n",
        "from tensorflow.keras.models import Sequential \n",
        "from tensorflow.keras.utils import plot_model \n",
        "\n",
        "input = (105, 105, 1)\n",
        "\n",
        "model = Sequential()\n",
        "model.add(layers.Conv2D(64, (5, 5), activation = 'relu', input_shape = input))\n",
        "model.add(layers.MaxPooling2D(2,2))\n",
        "model.add(layers.Conv2D(128, (5, 5), activation = 'relu'))\n",
        "model.add(layers.MaxPooling2D(2, 2))\n",
        "model.add(layers.Conv2D(256, (3, 3), activation = 'relu'))\n",
        "model.add(layers.MaxPooling2D(2, 2))\n",
        "model.add(layers.Conv2D(256, (3, 3), activation = 'relu'))\n",
        "model.add(layers.GlobalAveragePooling2D())\n",
        "\n",
        "model.summary()\n",
        "plot_model(model, show_shapes=True)"
      ],
      "execution_count": 25,
      "outputs": [
        {
          "output_type": "stream",
          "name": "stdout",
          "text": [
            "Model: \"sequential\"\n",
            "_________________________________________________________________\n",
            " Layer (type)                Output Shape              Param #   \n",
            "=================================================================\n",
            " conv2d (Conv2D)             (None, 101, 101, 64)      1664      \n",
            "                                                                 \n",
            " max_pooling2d (MaxPooling2D  (None, 50, 50, 64)       0         \n",
            " )                                                               \n",
            "                                                                 \n",
            " conv2d_1 (Conv2D)           (None, 46, 46, 128)       204928    \n",
            "                                                                 \n",
            " max_pooling2d_1 (MaxPooling  (None, 23, 23, 128)      0         \n",
            " 2D)                                                             \n",
            "                                                                 \n",
            " conv2d_2 (Conv2D)           (None, 21, 21, 256)       295168    \n",
            "                                                                 \n",
            " max_pooling2d_2 (MaxPooling  (None, 10, 10, 256)      0         \n",
            " 2D)                                                             \n",
            "                                                                 \n",
            " conv2d_3 (Conv2D)           (None, 8, 8, 256)         590080    \n",
            "                                                                 \n",
            " global_average_pooling2d (G  (None, 256)              0         \n",
            " lobalAveragePooling2D)                                          \n",
            "                                                                 \n",
            "=================================================================\n",
            "Total params: 1,091,840\n",
            "Trainable params: 1,091,840\n",
            "Non-trainable params: 0\n",
            "_________________________________________________________________\n"
          ]
        },
        {
          "output_type": "execute_result",
          "data": {
            "image/png": "[encoded data removed]",
            "text/plain": [
              "<IPython.core.display.Image object>"
            ]
          },
          "metadata": {},
          "execution_count": 25
        }
      ]
    },
    {
      "cell_type": "code",
      "metadata": {
        "colab": {
          "base_uri": "https://localhost:8080/"
        },
        "id": "Fpf74g6MAUAF",
        "outputId": "6d7f4107-0d54-4b8f-80a2-df4261641d7e"
      },
      "source": [
        "example = np.expand_dims(x_train_flat[0], axis = 0)\n",
        "example_carac = model.predict(example)\n",
        "\n",
        "print('Dimensão de X_train_flat2:', x_train_flat.shape)\n",
        "print('Dimensão de X_train_flat2[0].shape:', x_train_flat[0].shape)\n",
        "print('Dimensão do exemplo', example.shape)\n",
        "print('Dimensão do vetor de caracteristicas = ', example_carac.shape)\n",
        "print('Exemplo de vetor de cacterísticas: \\n', example_carac)"
      ],
      "execution_count": 26,
      "outputs": [
        {
          "output_type": "stream",
          "name": "stdout",
          "text": [
            "Dimensão de X_train_flat2: (19280, 105, 105)\n",
            "Dimensão de X_train_flat2[0].shape: (105, 105)\n",
            "Dimensão do exemplo (1, 105, 105)\n",
            "Dimensão do vetor de caracteristicas =  (1, 256)\n",
            "Exemplo de vetor de cacterísticas: \n",
            " [[1.72657855e-02 3.51440278e-03 1.08107859e-02 0.00000000e+00\n",
            "  1.00443862e-01 9.35392752e-02 0.00000000e+00 0.00000000e+00\n",
            "  1.67236547e-04 0.00000000e+00 5.48024545e-05 2.87586749e-02\n",
            "  1.13427568e-05 3.52720031e-06 0.00000000e+00 7.07188100e-02\n",
            "  7.94980006e-05 8.25253129e-03 2.95910966e-02 1.89222884e-03\n",
            "  0.00000000e+00 2.87275352e-02 0.00000000e+00 0.00000000e+00\n",
            "  8.52015093e-02 3.45085226e-02 9.58039686e-02 0.00000000e+00\n",
            "  0.00000000e+00 0.00000000e+00 0.00000000e+00 0.00000000e+00\n",
            "  1.44256721e-03 4.69449833e-02 5.80675900e-04 0.00000000e+00\n",
            "  2.99894884e-02 0.00000000e+00 0.00000000e+00 0.00000000e+00\n",
            "  0.00000000e+00 0.00000000e+00 3.77615765e-02 2.57810927e-03\n",
            "  3.59622971e-03 1.41110935e-03 4.21774387e-03 0.00000000e+00\n",
            "  0.00000000e+00 2.20112197e-04 2.41428837e-02 3.62927541e-02\n",
            "  0.00000000e+00 0.00000000e+00 1.03167836e-02 4.64982213e-03\n",
            "  4.18113638e-03 0.00000000e+00 0.00000000e+00 3.14970687e-02\n",
            "  2.37749750e-03 3.52556305e-03 8.54422450e-02 1.06532805e-01\n",
            "  3.43423858e-02 0.00000000e+00 0.00000000e+00 3.45568638e-04\n",
            "  3.29942182e-02 8.30185600e-03 1.62174925e-02 1.53408265e-02\n",
            "  0.00000000e+00 4.61873785e-02 1.18271746e-02 4.73379828e-02\n",
            "  0.00000000e+00 0.00000000e+00 5.87787107e-02 7.81979226e-03\n",
            "  1.94602124e-02 0.00000000e+00 0.00000000e+00 1.50788231e-02\n",
            "  0.00000000e+00 6.55814707e-02 2.84687616e-02 1.79011171e-04\n",
            "  0.00000000e+00 1.54372947e-02 4.02338542e-02 5.84608177e-04\n",
            "  1.98639371e-02 1.02124875e-04 4.67181504e-02 1.54709201e-02\n",
            "  4.11837682e-05 0.00000000e+00 0.00000000e+00 0.00000000e+00\n",
            "  3.34423333e-02 3.28234807e-02 0.00000000e+00 2.00322438e-02\n",
            "  2.11922755e-03 2.46645939e-02 0.00000000e+00 0.00000000e+00\n",
            "  0.00000000e+00 2.57302099e-03 4.82363589e-02 1.33627500e-05\n",
            "  3.86674947e-04 0.00000000e+00 0.00000000e+00 4.77143750e-02\n",
            "  0.00000000e+00 0.00000000e+00 1.94948893e-02 0.00000000e+00\n",
            "  2.76915766e-02 6.37318735e-05 0.00000000e+00 1.90325864e-02\n",
            "  5.71343582e-04 0.00000000e+00 6.13559633e-02 0.00000000e+00\n",
            "  6.90915361e-02 0.00000000e+00 2.48645840e-04 1.66677292e-02\n",
            "  0.00000000e+00 2.39920244e-02 0.00000000e+00 0.00000000e+00\n",
            "  0.00000000e+00 0.00000000e+00 3.20149623e-02 2.46792920e-02\n",
            "  0.00000000e+00 5.69393113e-02 1.79476310e-02 0.00000000e+00\n",
            "  0.00000000e+00 5.84810525e-02 6.14268929e-02 5.00881870e-04\n",
            "  0.00000000e+00 0.00000000e+00 1.87360495e-03 0.00000000e+00\n",
            "  2.31816694e-02 3.37869674e-02 2.25628987e-02 0.00000000e+00\n",
            "  0.00000000e+00 1.42153706e-02 4.79651764e-02 0.00000000e+00\n",
            "  1.25964652e-04 0.00000000e+00 1.10617496e-01 1.62352752e-02\n",
            "  5.49440458e-02 0.00000000e+00 1.17162752e-04 2.62174942e-02\n",
            "  0.00000000e+00 5.41052734e-03 0.00000000e+00 2.46353950e-02\n",
            "  1.59555972e-02 5.24618961e-02 0.00000000e+00 0.00000000e+00\n",
            "  0.00000000e+00 3.58607527e-03 5.50470440e-06 0.00000000e+00\n",
            "  7.97542452e-04 1.22326266e-04 5.30235246e-02 3.80974710e-02\n",
            "  2.96378005e-02 2.08115997e-03 1.77551489e-02 6.73270505e-03\n",
            "  8.33221674e-02 8.50095064e-04 0.00000000e+00 1.85793005e-02\n",
            "  5.07563427e-02 6.08054642e-03 0.00000000e+00 0.00000000e+00\n",
            "  3.07325013e-02 2.20515132e-02 3.37749310e-02 4.56993692e-02\n",
            "  3.42699629e-03 0.00000000e+00 3.96390073e-02 5.58560248e-03\n",
            "  5.88841795e-04 9.98711766e-05 0.00000000e+00 6.92276284e-02\n",
            "  3.03414948e-02 4.80251983e-02 5.31428047e-02 2.89951004e-02\n",
            "  2.59463564e-02 6.06464744e-02 0.00000000e+00 0.00000000e+00\n",
            "  0.00000000e+00 1.36447335e-02 1.49837317e-04 8.13008696e-02\n",
            "  1.75827940e-04 9.80255209e-05 4.94549945e-02 3.66510004e-02\n",
            "  0.00000000e+00 8.33185017e-03 0.00000000e+00 6.93559181e-03\n",
            "  3.58117744e-02 2.12189592e-02 5.97326762e-05 7.49189174e-03\n",
            "  0.00000000e+00 4.55703447e-03 0.00000000e+00 0.00000000e+00\n",
            "  6.30036443e-02 9.66559746e-05 4.04416174e-02 4.24642563e-02\n",
            "  0.00000000e+00 5.64147369e-04 0.00000000e+00 0.00000000e+00\n",
            "  2.42355489e-03 1.00430980e-01 4.04981375e-02 3.73184914e-03\n",
            "  0.00000000e+00 5.16670793e-02 0.00000000e+00 2.37747990e-02\n",
            "  2.92863958e-02 9.61063243e-03 3.29569401e-03 5.49408048e-03]]\n"
          ]
        }
      ]
    },
    {
      "cell_type": "markdown",
      "metadata": {
        "id": "OLI_m5j5_NrF"
      },
      "source": [
        "### 3.3 Rede Siamesa\n",
        "\n",
        "Configure a rede siamesa que processa simultaneamente os 3 exemplos de cada tripla. \n",
        "\n",
        "Apresente o sumário e o gráfico da sua rede.\n",
        "\n",
        "Apresente a dimensão do vetor de saída dessa rede e alguns elementos desse vetor após processar algumas triplas."
      ]
    },
    {
      "cell_type": "code",
      "metadata": {
        "id": "XZnr4jm0Szf9",
        "colab": {
          "base_uri": "https://localhost:8080/",
          "height": 738
        },
        "outputId": "b2bbf0f5-1781-494a-a905-d1fe0d908818"
      },
      "source": [
        "from tensorflow.keras.utils import plot_model\n",
        "from tensorflow.keras import Input\n",
        "\n",
        "input_reference = Input(shape=(105, 105, 1))\n",
        "input_positive = Input(shape=(105, 105, 1))\n",
        "input_negative = Input(shape=(105, 105, 1))\n",
        "\n",
        "carac_reference = model(input_reference)\n",
        "carac_positive = model(input_positive)\n",
        "carac_negative = model(input_negative)\n",
        "\n",
        "output = tf.keras.layers.concatenate([carac_reference, carac_positive, carac_negative], axis=1)\n",
        "\n",
        "rna_siam = tf.keras.models.Model([input_reference, input_positive, input_negative], output)\n",
        "\n",
        "rna_siam.summary()\n",
        "plot_model(rna_siam, show_shapes=True)"
      ],
      "execution_count": 27,
      "outputs": [
        {
          "output_type": "stream",
          "name": "stdout",
          "text": [
            "Model: \"model\"\n",
            "__________________________________________________________________________________________________\n",
            " Layer (type)                   Output Shape         Param #     Connected to                     \n",
            "==================================================================================================\n",
            " input_1 (InputLayer)           [(None, 105, 105, 1  0           []                               \n",
            "                                )]                                                                \n",
            "                                                                                                  \n",
            " input_2 (InputLayer)           [(None, 105, 105, 1  0           []                               \n",
            "                                )]                                                                \n",
            "                                                                                                  \n",
            " input_3 (InputLayer)           [(None, 105, 105, 1  0           []                               \n",
            "                                )]                                                                \n",
            "                                                                                                  \n",
            " sequential (Sequential)        (None, 256)          1091840     ['input_1[0][0]',                \n",
            "                                                                  'input_2[0][0]',                \n",
            "                                                                  'input_3[0][0]']                \n",
            "                                                                                                  \n",
            " concatenate (Concatenate)      (None, 768)          0           ['sequential[0][0]',             \n",
            "                                                                  'sequential[1][0]',             \n",
            "                                                                  'sequential[2][0]']             \n",
            "                                                                                                  \n",
            "==================================================================================================\n",
            "Total params: 1,091,840\n",
            "Trainable params: 1,091,840\n",
            "Non-trainable params: 0\n",
            "__________________________________________________________________________________________________\n"
          ]
        },
        {
          "output_type": "execute_result",
          "data": {
            "image/png": "[encoded data removed]",
            "text/plain": [
              "<IPython.core.display.Image object>"
            ]
          },
          "metadata": {},
          "execution_count": 27
        }
      ]
    },
    {
      "cell_type": "code",
      "metadata": {
        "colab": {
          "base_uri": "https://localhost:8080/",
          "height": 1000
        },
        "id": "IuWbB-Lanw5z",
        "outputId": "1cbe5e0e-645f-4025-9be8-5ca80a296c01"
      },
      "source": [
        "example = create_batch(1)\n",
        "plot_triplets(example)\n",
        "\n",
        "y_prev = rna_siam.predict(example)\n",
        "\n",
        "print(y_prev.shape)\n",
        "print()\n",
        "print(y_prev)"
      ],
      "execution_count": 28,
      "outputs": [
        {
          "output_type": "display_data",
          "data": {
            "image/png": "[encoded data removed]",
            "text/plain": [
              "<Figure size 432x144 with 3 Axes>"
            ]
          },
          "metadata": {}
        },
        {
          "output_type": "stream",
          "name": "stdout",
          "text": [
            "(1, 768)\n",
            "\n",
            "[[1.75668560e-02 4.81062988e-03 1.18939830e-02 0.00000000e+00\n",
            "  1.04376942e-01 9.42175835e-02 0.00000000e+00 0.00000000e+00\n",
            "  0.00000000e+00 0.00000000e+00 1.94965527e-04 2.84142904e-02\n",
            "  0.00000000e+00 0.00000000e+00 0.00000000e+00 7.05203339e-02\n",
            "  1.55194153e-04 6.88565057e-03 2.56326087e-02 2.04680907e-03\n",
            "  0.00000000e+00 3.41593921e-02 0.00000000e+00 0.00000000e+00\n",
            "  9.13909450e-02 3.41003239e-02 9.63005722e-02 0.00000000e+00\n",
            "  0.00000000e+00 0.00000000e+00 0.00000000e+00 0.00000000e+00\n",
            "  1.20620907e-03 4.65964749e-02 6.34810422e-05 0.00000000e+00\n",
            "  2.29427181e-02 0.00000000e+00 0.00000000e+00 0.00000000e+00\n",
            "  0.00000000e+00 0.00000000e+00 3.39658819e-02 1.45324226e-03\n",
            "  3.05853086e-03 2.89291749e-03 5.15324390e-03 0.00000000e+00\n",
            "  0.00000000e+00 3.70201124e-05 2.95542646e-02 4.17952761e-02\n",
            "  0.00000000e+00 0.00000000e+00 1.00162495e-02 5.01814159e-03\n",
            "  7.23430794e-03 0.00000000e+00 0.00000000e+00 3.35830338e-02\n",
            "  2.49705324e-03 7.18910154e-03 8.94595608e-02 1.12725243e-01\n",
            "  3.54660116e-02 0.00000000e+00 0.00000000e+00 6.94733113e-04\n",
            "  2.42037028e-02 1.31920166e-02 1.72248427e-02 1.77849103e-02\n",
            "  0.00000000e+00 5.54826036e-02 1.76465642e-02 4.91790548e-02\n",
            "  0.00000000e+00 3.85425403e-04 5.91761656e-02 8.06947239e-03\n",
            "  2.38518659e-02 0.00000000e+00 5.58539396e-05 1.45358946e-02\n",
            "  0.00000000e+00 6.73052818e-02 2.96355039e-02 8.98329890e-04\n",
            "  0.00000000e+00 2.16772538e-02 4.26085107e-02 1.14092894e-03\n",
            "  2.86190324e-02 9.45857959e-04 4.90108207e-02 1.58714354e-02\n",
            "  2.64691444e-05 0.00000000e+00 0.00000000e+00 0.00000000e+00\n",
            "  3.22295278e-02 3.75381336e-02 0.00000000e+00 2.03068312e-02\n",
            "  5.17044403e-03 2.71115135e-02 0.00000000e+00 0.00000000e+00\n",
            "  0.00000000e+00 1.69004127e-03 4.56082001e-02 3.69093723e-05\n",
            "  2.05339878e-04 0.00000000e+00 0.00000000e+00 5.07287160e-02\n",
            "  0.00000000e+00 0.00000000e+00 2.32154317e-02 0.00000000e+00\n",
            "  2.17812099e-02 7.29336636e-04 0.00000000e+00 1.95962470e-02\n",
            "  1.26825355e-03 0.00000000e+00 6.74722567e-02 0.00000000e+00\n",
            "  7.28892908e-02 0.00000000e+00 7.43602868e-04 1.56307928e-02\n",
            "  0.00000000e+00 2.66653057e-02 0.00000000e+00 0.00000000e+00\n",
            "  0.00000000e+00 0.00000000e+00 3.68510447e-02 2.61736773e-02\n",
            "  0.00000000e+00 5.87750226e-02 2.16043387e-02 0.00000000e+00\n",
            "  0.00000000e+00 5.89680932e-02 6.69744462e-02 4.45311707e-05\n",
            "  0.00000000e+00 0.00000000e+00 4.64308262e-03 0.00000000e+00\n",
            "  2.32509058e-02 3.44759002e-02 1.89829245e-02 0.00000000e+00\n",
            "  0.00000000e+00 1.09804850e-02 5.56626990e-02 0.00000000e+00\n",
            "  9.86875035e-04 3.04228888e-05 1.15292810e-01 2.21831035e-02\n",
            "  5.63651659e-02 0.00000000e+00 0.00000000e+00 2.93274447e-02\n",
            "  0.00000000e+00 4.70245350e-03 0.00000000e+00 2.49319337e-02\n",
            "  2.27808803e-02 5.43123968e-02 0.00000000e+00 0.00000000e+00\n",
            "  0.00000000e+00 3.89870838e-03 0.00000000e+00 0.00000000e+00\n",
            "  1.33271888e-03 2.44321214e-04 5.93372062e-02 4.29343209e-02\n",
            "  2.93893442e-02 3.80949047e-03 2.10259184e-02 7.87998177e-03\n",
            "  8.40599537e-02 1.12256105e-03 0.00000000e+00 1.71874370e-02\n",
            "  5.18951900e-02 7.03228451e-03 0.00000000e+00 0.00000000e+00\n",
            "  2.90336125e-02 1.89150088e-02 3.61170284e-02 5.03195859e-02\n",
            "  3.23453196e-03 0.00000000e+00 4.04597819e-02 9.68001131e-03\n",
            "  1.93071392e-04 0.00000000e+00 0.00000000e+00 7.27285743e-02\n",
            "  3.43864560e-02 5.10402471e-02 5.51225767e-02 3.06722969e-02\n",
            "  2.49380507e-02 6.30540326e-02 0.00000000e+00 0.00000000e+00\n",
            "  0.00000000e+00 8.58691521e-03 2.08631809e-05 8.60676169e-02\n",
            "  3.85297753e-05 0.00000000e+00 4.87764031e-02 4.06375676e-02\n",
            "  0.00000000e+00 1.17590036e-02 0.00000000e+00 7.74948113e-03\n",
            "  4.53134999e-02 1.88055672e-02 0.00000000e+00 1.32502560e-02\n",
            "  1.09211956e-04 6.44065952e-03 0.00000000e+00 0.00000000e+00\n",
            "  6.69673830e-02 8.97898281e-05 4.06648405e-02 4.35491502e-02\n",
            "  0.00000000e+00 5.48692478e-04 0.00000000e+00 0.00000000e+00\n",
            "  2.22119107e-03 1.09420836e-01 4.01270427e-02 8.04469548e-03\n",
            "  0.00000000e+00 5.78524433e-02 0.00000000e+00 1.68770682e-02\n",
            "  3.02506965e-02 1.41004371e-02 3.78401764e-03 6.10992499e-03\n",
            "  1.72062274e-02 2.62690801e-03 1.32075520e-02 0.00000000e+00\n",
            "  1.05499066e-01 9.71263275e-02 0.00000000e+00 0.00000000e+00\n",
            "  0.00000000e+00 0.00000000e+00 7.55824964e-04 3.17731760e-02\n",
            "  0.00000000e+00 0.00000000e+00 0.00000000e+00 6.75893500e-02\n",
            "  6.09246672e-05 6.20846963e-03 2.94728205e-02 2.32691108e-03\n",
            "  0.00000000e+00 3.09207886e-02 0.00000000e+00 0.00000000e+00\n",
            "  9.04928669e-02 3.22029293e-02 9.79046524e-02 0.00000000e+00\n",
            "  0.00000000e+00 0.00000000e+00 0.00000000e+00 0.00000000e+00\n",
            "  1.59049733e-03 4.78805676e-02 2.42497656e-04 0.00000000e+00\n",
            "  2.40764413e-02 0.00000000e+00 0.00000000e+00 0.00000000e+00\n",
            "  0.00000000e+00 0.00000000e+00 3.43600512e-02 2.67217308e-03\n",
            "  3.20091238e-03 1.53260294e-03 6.31335378e-03 0.00000000e+00\n",
            "  0.00000000e+00 0.00000000e+00 2.69620344e-02 3.99048887e-02\n",
            "  2.10354610e-05 0.00000000e+00 8.49044137e-03 5.42421546e-03\n",
            "  4.27695736e-03 0.00000000e+00 0.00000000e+00 3.31413746e-02\n",
            "  1.91059755e-03 7.22487597e-03 8.88265222e-02 1.12370506e-01\n",
            "  3.77501473e-02 0.00000000e+00 0.00000000e+00 4.15301329e-04\n",
            "  3.14260796e-02 1.05036451e-02 1.62084624e-02 1.56388488e-02\n",
            "  0.00000000e+00 5.25109395e-02 1.33315288e-02 4.72672060e-02\n",
            "  0.00000000e+00 1.04002254e-04 6.13368601e-02 6.84401020e-03\n",
            "  1.98033080e-02 0.00000000e+00 6.41761435e-05 1.60016958e-02\n",
            "  0.00000000e+00 6.78505152e-02 3.36902626e-02 4.87799145e-04\n",
            "  0.00000000e+00 2.18343325e-02 4.03226465e-02 1.49146491e-03\n",
            "  2.53470279e-02 1.13764807e-04 4.83315550e-02 1.54487509e-02\n",
            "  1.33666697e-06 0.00000000e+00 0.00000000e+00 0.00000000e+00\n",
            "  3.33973542e-02 3.52544412e-02 0.00000000e+00 2.36171223e-02\n",
            "  5.18581085e-03 2.70122215e-02 0.00000000e+00 0.00000000e+00\n",
            "  0.00000000e+00 1.32698333e-03 4.44953479e-02 0.00000000e+00\n",
            "  5.97675506e-04 0.00000000e+00 0.00000000e+00 5.18551171e-02\n",
            "  0.00000000e+00 0.00000000e+00 2.07478274e-02 0.00000000e+00\n",
            "  2.22799648e-02 4.10135654e-05 0.00000000e+00 2.07934696e-02\n",
            "  8.71848548e-04 0.00000000e+00 6.56267181e-02 0.00000000e+00\n",
            "  7.20055401e-02 0.00000000e+00 1.57078015e-04 1.74566582e-02\n",
            "  0.00000000e+00 2.54043378e-02 0.00000000e+00 0.00000000e+00\n",
            "  0.00000000e+00 0.00000000e+00 3.39328796e-02 2.69853733e-02\n",
            "  0.00000000e+00 6.00058287e-02 2.22423505e-02 0.00000000e+00\n",
            "  0.00000000e+00 6.29116818e-02 6.42371029e-02 8.47818592e-05\n",
            "  0.00000000e+00 0.00000000e+00 2.48230388e-03 0.00000000e+00\n",
            "  2.18392946e-02 3.63462046e-02 2.07682550e-02 0.00000000e+00\n",
            "  0.00000000e+00 9.27364267e-03 5.46140894e-02 0.00000000e+00\n",
            "  2.53285951e-04 0.00000000e+00 1.17297068e-01 2.00312193e-02\n",
            "  5.77863082e-02 0.00000000e+00 5.23919938e-04 3.04019339e-02\n",
            "  0.00000000e+00 3.78398551e-03 0.00000000e+00 2.91171055e-02\n",
            "  2.08149999e-02 5.32176159e-02 0.00000000e+00 0.00000000e+00\n",
            "  1.02416416e-04 3.67455254e-03 0.00000000e+00 0.00000000e+00\n",
            "  1.06691825e-03 3.97833152e-04 5.84377572e-02 4.41741236e-02\n",
            "  2.92429589e-02 2.44406937e-03 1.80292651e-02 5.63872233e-03\n",
            "  8.24096650e-02 1.13288371e-03 0.00000000e+00 1.49644949e-02\n",
            "  5.29220439e-02 8.53658468e-03 0.00000000e+00 0.00000000e+00\n",
            "  2.83364840e-02 1.96513049e-02 3.41968760e-02 4.59117703e-02\n",
            "  3.68664833e-03 0.00000000e+00 3.80834751e-02 8.32218304e-03\n",
            "  2.41728212e-05 1.11266454e-04 0.00000000e+00 7.38762990e-02\n",
            "  3.55627574e-02 4.96123955e-02 5.85692674e-02 2.85096839e-02\n",
            "  2.30301488e-02 6.27437606e-02 0.00000000e+00 0.00000000e+00\n",
            "  0.00000000e+00 9.80884954e-03 7.94859661e-05 8.67582634e-02\n",
            "  5.20279049e-04 2.55359948e-04 5.17572723e-02 3.83049585e-02\n",
            "  0.00000000e+00 8.64216685e-03 0.00000000e+00 7.58520421e-03\n",
            "  4.47607264e-02 2.05906257e-02 2.36702090e-05 1.44116534e-02\n",
            "  0.00000000e+00 8.01817793e-03 0.00000000e+00 0.00000000e+00\n",
            "  6.72211125e-02 0.00000000e+00 3.59733999e-02 4.18864712e-02\n",
            "  0.00000000e+00 3.79757956e-04 0.00000000e+00 0.00000000e+00\n",
            "  3.82339628e-03 1.09557450e-01 4.08000574e-02 5.90606825e-03\n",
            "  0.00000000e+00 5.58658019e-02 0.00000000e+00 1.93715505e-02\n",
            "  2.91243680e-02 9.83461924e-03 3.74096353e-03 6.97719632e-03\n",
            "  1.72896050e-02 3.36067332e-03 1.50667690e-02 0.00000000e+00\n",
            "  1.06395394e-01 9.54457149e-02 0.00000000e+00 0.00000000e+00\n",
            "  0.00000000e+00 0.00000000e+00 9.56728618e-05 2.85631884e-02\n",
            "  5.08632802e-05 0.00000000e+00 0.00000000e+00 6.78200573e-02\n",
            "  5.56232517e-05 5.04375994e-03 3.01703401e-02 2.93930597e-03\n",
            "  0.00000000e+00 3.59781459e-02 4.08669177e-04 0.00000000e+00\n",
            "  9.37021524e-02 4.08673808e-02 9.57452208e-02 0.00000000e+00\n",
            "  0.00000000e+00 0.00000000e+00 3.87157081e-04 0.00000000e+00\n",
            "  2.83940695e-03 4.26026769e-02 2.32454549e-04 0.00000000e+00\n",
            "  2.40866989e-02 0.00000000e+00 0.00000000e+00 1.85550307e-04\n",
            "  0.00000000e+00 1.71906231e-05 3.60433497e-02 2.10410124e-03\n",
            "  2.35668267e-03 3.11133242e-03 5.18151326e-03 8.53481106e-06\n",
            "  0.00000000e+00 5.35027706e-04 3.23356725e-02 4.45091575e-02\n",
            "  0.00000000e+00 0.00000000e+00 7.98248406e-03 3.03844921e-03\n",
            "  9.05943196e-03 0.00000000e+00 3.67320063e-05 3.28584015e-02\n",
            "  2.30290857e-03 8.34084302e-03 9.33607966e-02 1.15139917e-01\n",
            "  3.99755687e-02 0.00000000e+00 2.63121910e-04 4.99973830e-04\n",
            "  3.12571041e-02 9.35595017e-03 1.58672892e-02 1.79692768e-02\n",
            "  0.00000000e+00 6.39786422e-02 2.20951326e-02 5.30296117e-02\n",
            "  0.00000000e+00 0.00000000e+00 6.04500175e-02 5.74464165e-03\n",
            "  1.84154958e-02 0.00000000e+00 0.00000000e+00 1.78535283e-02\n",
            "  0.00000000e+00 6.53646067e-02 2.94891894e-02 1.09375664e-03\n",
            "  0.00000000e+00 2.64013186e-02 4.40974683e-02 2.25282580e-04\n",
            "  2.99380161e-02 8.38516513e-04 5.64299896e-02 1.80024840e-02\n",
            "  3.48106478e-05 0.00000000e+00 0.00000000e+00 0.00000000e+00\n",
            "  3.56441438e-02 3.73271182e-02 0.00000000e+00 1.59621090e-02\n",
            "  3.47700529e-03 3.83530743e-02 0.00000000e+00 0.00000000e+00\n",
            "  0.00000000e+00 2.04311195e-03 4.82603163e-02 8.33038357e-05\n",
            "  2.41099115e-04 2.24306481e-04 0.00000000e+00 5.62785268e-02\n",
            "  0.00000000e+00 0.00000000e+00 2.20619142e-02 0.00000000e+00\n",
            "  2.19265856e-02 7.16188923e-04 0.00000000e+00 2.10174657e-02\n",
            "  8.88168579e-04 0.00000000e+00 7.20455796e-02 0.00000000e+00\n",
            "  7.06745237e-02 0.00000000e+00 7.86906225e-04 2.09443793e-02\n",
            "  0.00000000e+00 2.78408155e-02 0.00000000e+00 0.00000000e+00\n",
            "  0.00000000e+00 0.00000000e+00 3.86937633e-02 3.17990854e-02\n",
            "  0.00000000e+00 5.82050346e-02 2.51540262e-02 0.00000000e+00\n",
            "  0.00000000e+00 5.94350249e-02 6.77392781e-02 2.35471642e-04\n",
            "  0.00000000e+00 0.00000000e+00 5.59101207e-03 0.00000000e+00\n",
            "  2.37761978e-02 3.32226530e-02 2.01416574e-02 0.00000000e+00\n",
            "  0.00000000e+00 1.13663534e-02 5.89613840e-02 0.00000000e+00\n",
            "  4.71957668e-04 2.56809028e-04 1.17156163e-01 2.07806416e-02\n",
            "  5.20191304e-02 0.00000000e+00 1.48319220e-03 3.01822647e-02\n",
            "  0.00000000e+00 2.99715786e-03 0.00000000e+00 3.13983336e-02\n",
            "  2.35079993e-02 5.55106327e-02 0.00000000e+00 0.00000000e+00\n",
            "  0.00000000e+00 5.38725592e-03 0.00000000e+00 0.00000000e+00\n",
            "  3.16269492e-04 9.33797492e-06 6.11301176e-02 4.53787372e-02\n",
            "  3.15850712e-02 4.21004649e-03 1.89629197e-02 5.59458509e-03\n",
            "  9.10822451e-02 1.72352931e-03 0.00000000e+00 1.59671251e-02\n",
            "  5.05192541e-02 1.03119249e-02 0.00000000e+00 0.00000000e+00\n",
            "  2.42224373e-02 1.60535984e-02 3.46022174e-02 4.82057445e-02\n",
            "  5.92848612e-03 0.00000000e+00 4.76261154e-02 1.36290099e-02\n",
            "  1.39153926e-04 2.52806378e-04 0.00000000e+00 7.99734741e-02\n",
            "  3.87914404e-02 5.97509444e-02 5.39352633e-02 2.88546365e-02\n",
            "  2.60936096e-02 6.28252849e-02 0.00000000e+00 0.00000000e+00\n",
            "  0.00000000e+00 1.16253383e-02 1.29118958e-03 9.24433991e-02\n",
            "  9.69536923e-05 2.13010426e-04 5.32511622e-02 3.53807770e-02\n",
            "  0.00000000e+00 1.42432870e-02 0.00000000e+00 1.14953890e-02\n",
            "  5.11637032e-02 1.82011407e-02 0.00000000e+00 1.63734462e-02\n",
            "  3.35807039e-04 8.21206160e-03 0.00000000e+00 0.00000000e+00\n",
            "  6.85765371e-02 1.80099218e-04 3.87926623e-02 4.84223180e-02\n",
            "  0.00000000e+00 9.73652524e-04 0.00000000e+00 0.00000000e+00\n",
            "  4.36386513e-03 1.14625081e-01 3.97141203e-02 9.34795290e-03\n",
            "  0.00000000e+00 5.82234785e-02 2.06303903e-05 1.63196158e-02\n",
            "  2.93842610e-02 2.28367820e-02 5.91284223e-03 5.70223294e-03]]\n"
          ]
        }
      ]
    },
    {
      "cell_type": "markdown",
      "metadata": {
        "id": "Dv_0hmBL_Nns"
      },
      "source": [
        "### 3.4 Função de custo tripla\n",
        "\n",
        "Crie uma função que calcula a função de custo usada para treinar os exemplos formados por triplas.\n",
        "\n",
        "Teste a função de custo para verificar seu funcionamento usando a saída calculada no item 3 e apresente o valor calculado."
      ]
    },
    {
      "cell_type": "code",
      "metadata": {
        "id": "1cu_CJP8S2Jo"
      },
      "source": [
        "n_carac = 256\n",
        "alpha = 0.2\n",
        "\n",
        "def triplet_loss(y_true,y_pred):\n",
        "\n",
        "  ref, positive, negative = y_pred[:,:n_carac], y_pred[:,n_carac:2*n_carac], y_pred[:,2*n_carac:]\n",
        "  positive_dist = tf.reduce_mean(tf.square(ref-positive), axis=1)\n",
        "  negative_dist = tf.reduce_mean(tf.square(ref-negative), axis=1)\n",
        "  L = tf.maximum(positive_dist - negative_dist + alpha, 0.)\n",
        "\n",
        "  return L"
      ],
      "execution_count": 35,
      "outputs": []
    },
    {
      "cell_type": "code",
      "metadata": {
        "colab": {
          "base_uri": "https://localhost:8080/"
        },
        "id": "7a55cEn4n3Cf",
        "outputId": "fceb18fa-2ea9-4eb5-8005-b64ed00b6ce9"
      },
      "source": [
        "y_true = np.zeros(y_prev.shape)\n",
        "L = triplet_loss(y_true,y_prev)\n",
        "print(format(L))"
      ],
      "execution_count": 36,
      "outputs": [
        {
          "output_type": "stream",
          "name": "stdout",
          "text": [
            "[0.19999607]\n"
          ]
        }
      ]
    },
    {
      "cell_type": "markdown",
      "metadata": {
        "id": "r1muBhAv_Nj_"
      },
      "source": [
        "### 3.5 Gerador de triplas\n",
        "\n",
        "Para evitar de criar as triplas previamente, é usado um gerador de dados para fazer isso durante o treinamento. Assim, crie um gerador de dados para criar as triplas durante o treinamento. Observe que os dados de entrada de treinamento já  estão no tensor `X_train` e os dados de validação no tensor `X_val`. Observe que nesse gerador não é necessário carregar as imagens dos arquivos, pois elas já estão nesses dois tensores.\n",
        "\n",
        "Teste o seu gerador criando alguns exemplos de treinamento. Mostra as imagens dos exemplos usados nesse teste."
      ]
    },
    {
      "cell_type": "code",
      "metadata": {
        "colab": {
          "base_uri": "https://localhost:8080/"
        },
        "id": "jHEibWmtmGXc",
        "outputId": "2fdf6b8d-bfbe-4914-e202-1132a4c9765b"
      },
      "source": [
        "def data_generator(batch_size=256):\n",
        "  while True:\n",
        "    x = create_batch(batch_size)\n",
        "    y = np.zeros((batch_size, 3 * n_carac))\n",
        "    yield x, y\n",
        "\n",
        "x, y = next(data_generator(4))\n",
        "print(len(x), len(y))\n",
        "print(x[0].shape)"
      ],
      "execution_count": 37,
      "outputs": [
        {
          "output_type": "stream",
          "name": "stdout",
          "text": [
            "3 4\n",
            "(4, 105, 105)\n"
          ]
        }
      ]
    },
    {
      "cell_type": "markdown",
      "metadata": {
        "id": "hEKtYARr_Nfw"
      },
      "source": [
        "### 3.6 Treinamento da rede siamesa\n",
        "\n",
        "Treine a sua rede siamesa. Nesse treinamento utilize os seguintes parâmetros:\n",
        "\n",
        "- Método de otimização: Adam.\n",
        "- Utlize as imagens de treinamento e de validação.\n",
        "- Escolha a taxa de aprendizado e o número de épocas mais adequados para obter bons resultados.\n",
        "\n",
        "Observe que para treinar a rede usando os dados de validação, é necessário criar também um gerador de dados de validação. Esse gerador é exatamente igual ao gerador de dados de treinamento, porém ele recebe os dados de validação.\n",
        "\n",
        "Apresente o grafico da função de custo em função das épocas de treinamento para os dados de treinamento e de validação."
      ]
    },
    {
      "cell_type": "code",
      "metadata": {
        "colab": {
          "base_uri": "https://localhost:8080/"
        },
        "id": "Iv1IIlRumHQ5",
        "outputId": "ad8414e8-ae79-4a17-bef2-7593a3f178be"
      },
      "source": [
        "batch_size = 350\n",
        "epochs = 20\n",
        "\n",
        "steps_per_epoch = int(x_train_flat.shape[0]/batch_size)\n",
        "rna_siam.compile(loss= triplet_loss, optimizer='adam')\n",
        "history = rna_siam.fit(data_generator(batch_size), steps_per_epoch = steps_per_epoch, epochs = epochs, verbose=1)"
      ],
      "execution_count": 39,
      "outputs": [
        {
          "output_type": "stream",
          "name": "stdout",
          "text": [
            "Epoch 1/20\n",
            "55/55 [==============================] - 76s 1s/step - loss: 0.1115\n",
            "Epoch 2/20\n",
            "55/55 [==============================] - 69s 1s/step - loss: 0.0509\n",
            "Epoch 3/20\n",
            "55/55 [==============================] - 69s 1s/step - loss: 0.0335\n",
            "Epoch 4/20\n",
            "55/55 [==============================] - 69s 1s/step - loss: 0.0260\n",
            "Epoch 5/20\n",
            "55/55 [==============================] - 69s 1s/step - loss: 0.0204\n",
            "Epoch 6/20\n",
            "55/55 [==============================] - 69s 1s/step - loss: 0.0192\n",
            "Epoch 7/20\n",
            "55/55 [==============================] - 69s 1s/step - loss: 0.0167\n",
            "Epoch 8/20\n",
            "55/55 [==============================] - 69s 1s/step - loss: 0.0133\n",
            "Epoch 9/20\n",
            "55/55 [==============================] - 69s 1s/step - loss: 0.0133\n",
            "Epoch 10/20\n",
            "55/55 [==============================] - 69s 1s/step - loss: 0.0118\n",
            "Epoch 11/20\n",
            "55/55 [==============================] - 69s 1s/step - loss: 0.0114\n",
            "Epoch 12/20\n",
            "55/55 [==============================] - 69s 1s/step - loss: 0.0104\n",
            "Epoch 13/20\n",
            "55/55 [==============================] - 69s 1s/step - loss: 0.0099\n",
            "Epoch 14/20\n",
            "55/55 [==============================] - 69s 1s/step - loss: 0.0090\n",
            "Epoch 15/20\n",
            "55/55 [==============================] - 69s 1s/step - loss: 0.0083\n",
            "Epoch 16/20\n",
            "55/55 [==============================] - 69s 1s/step - loss: 0.0079\n",
            "Epoch 17/20\n",
            "55/55 [==============================] - 69s 1s/step - loss: 0.0068\n",
            "Epoch 18/20\n",
            "55/55 [==============================] - 69s 1s/step - loss: 0.0075\n",
            "Epoch 19/20\n",
            "55/55 [==============================] - 69s 1s/step - loss: 0.0066\n",
            "Epoch 20/20\n",
            "55/55 [==============================] - 69s 1s/step - loss: 0.0067\n"
          ]
        }
      ]
    },
    {
      "cell_type": "markdown",
      "metadata": {
        "id": "dATer8n8_ded"
      },
      "source": [
        "\n",
        "### 3.7 Avaliação e teste da rede siamesa\n",
        "\n",
        "Para avaliar a rede siamesa calcule o seguinte:\n",
        "\n",
        "1. Valor da função de custo para os dados de treinamento e de validação. \n",
        "\n",
        "2. Calcule algumas previsões da rede para alguns exemplos e verifique o resultado."
      ]
    },
    {
      "cell_type": "code",
      "metadata": {
        "id": "I0KjXbEBBC8N"
      },
      "source": [
        "def create_test_batch(batch_size = 256):\n",
        "  x_refs = np.zeros((batch_size, 105, 105))\n",
        "  x_positives = np.zeros((batch_size, 105, 105))\n",
        "  x_negatives = np.zeros((batch_size, 105, 105))\n",
        "\n",
        "  for i in range(0, batch_size):\n",
        "    random_index = random.randint(0, x_test_flat.shape[0]-1)\n",
        "    x_ref = x_test_flat[random_index]\n",
        "    y = y_test_normalized[random_index]\n",
        "\n",
        "    indices_for_pos = np.squeeze(np.where(y_test_normalized == y))\n",
        "    indices_for_neg = np.squeeze(np.where(y_test_normalized != y))\n",
        "\n",
        "    x_positive = x_test_flat[indices_for_pos[random.randint(0, len(indices_for_pos)-1)]]\n",
        "    x_negative = x_test_flat[indices_for_neg[random.randint(0, len(indices_for_neg)-1)]]\n",
        "\n",
        "    x_refs[i] = x_ref\n",
        "    x_positives[i] = x_positive\n",
        "    x_negatives[i] = x_negative\n",
        "\n",
        "  return[x_refs, x_positives, x_negatives]\n",
        "\n",
        "\n",
        "def test_data_generator(batch_size = 256):\n",
        "\n",
        "  while True:\n",
        "    x = create_test_batch(batch_size)\n",
        "    y = np.zeros((batch_size, 3 * n_carac))\n",
        "    yield x, y"
      ],
      "execution_count": 54,
      "outputs": []
    },
    {
      "cell_type": "code",
      "metadata": {
        "colab": {
          "base_uri": "https://localhost:8080/"
        },
        "id": "BurWfpR6mH7o",
        "outputId": "7cfa5aa8-dc1a-4ef0-91b4-3a77ae11838e"
      },
      "source": [
        "steps = int(x_test_flat.shape[0]/batch_size)\n",
        "custo = rna_siam.evaluate(test_data_generator(batch_size), steps=steps)"
      ],
      "execution_count": 55,
      "outputs": [
        {
          "output_type": "stream",
          "name": "stdout",
          "text": [
            "37/37 [==============================] - 16s 414ms/step - loss: 0.0104\n"
          ]
        }
      ]
    },
    {
      "cell_type": "markdown",
      "metadata": {
        "id": "4RGb60yZ_dRD"
      },
      "source": [
        "### 3.8 Teste de previsão da rede\n",
        "\n",
        "Em operação uma rede siamesa tem a função de verificar se dois exemplos de dados pertencem à mesma classe ou não. Assim, a operação da rede siamesa é diferente do seu treinamento e não usa a função de custo tripla.\n",
        "\n",
        "O processo de uso da rede siamesa após o seu treinamento é o seguinte:\n",
        "\n",
        "1. A rede siamesa deve receber somente dois exemplos de treinamento e calcular os vetores de características de cada um desses exemplos, $\\mathbf{v}_1$ e $\\mathbf{v}_2$.\n",
        "\n",
        "\n",
        "2. Tendo esses vetores de características, é calculada a distância entre eles usando a distância média quadrática, ou seja:\n",
        "\n",
        "$$d_{1,2} = ||\\mathbf{v}_1 − \\mathbf{v_2}||^2$$\n",
        "\n",
        "3. A distância $d_{1,2}$ é comparada com um $limiar$ para determinar se os dois exemplos são \"iguais\" ou \"diferentes\", ou seja:\n",
        "\n",
        "    - Se $d <= limiar$, então os dois exemplos pertencem à mesma classe\n",
        "\n",
        "    - Se $d > limiar$, então os dois exemplos pertencem a classes diferentes\n",
        "\n",
        "\n",
        "#### Prepara dados de entrada\n",
        "\n",
        "Vamos verificar as classes do primeiros 20 exemplos de teste para podermos testar a rede siamesa"
      ]
    },
    {
      "cell_type": "code",
      "metadata": {
        "colab": {
          "base_uri": "https://localhost:8080/"
        },
        "id": "vhrpkY9lophG",
        "outputId": "e22d760f-6167-41d2-978a-fc8fee19b4e8"
      },
      "source": [
        "for i in range(20):\n",
        "  print(i, y_test_normalized[i])"
      ],
      "execution_count": 59,
      "outputs": [
        {
          "output_type": "stream",
          "name": "stdout",
          "text": [
            "0 0\n",
            "1 0\n",
            "2 0\n",
            "3 0\n",
            "4 0\n",
            "5 0\n",
            "6 0\n",
            "7 0\n",
            "8 0\n",
            "9 0\n",
            "10 0\n",
            "11 0\n",
            "12 0\n",
            "13 0\n",
            "14 0\n",
            "15 0\n",
            "16 0\n",
            "17 0\n",
            "18 0\n",
            "19 0\n"
          ]
        }
      ]
    },
    {
      "cell_type": "code",
      "metadata": {
        "colab": {
          "base_uri": "https://localhost:8080/",
          "height": 553
        },
        "id": "zhZ1qOnCC4wO",
        "outputId": "897ec9e0-faee-43f8-f903-554e2c8c697a"
      },
      "source": [
        "ind1 = 4\n",
        "ind2 = 6\n",
        "\n",
        "x1 = np.expand_dims(x_test_flat[ind1], 0)\n",
        "x2 = np.expand_dims(x_test_flat[ind2], 0)\n",
        "\n",
        "print(x1.shape, x2.shape)\n",
        "\n",
        "plt.imshow(x_test_flat[ind1], cmap='gray')\n",
        "plt.show()\n",
        "plt.imshow(x_test_flat[ind2], cmap='gray')\n",
        "plt.show()\n",
        "print(x1.shape, x2.shape)"
      ],
      "execution_count": 63,
      "outputs": [
        {
          "output_type": "stream",
          "name": "stdout",
          "text": [
            "(1, 105, 105) (1, 105, 105)\n"
          ]
        },
        {
          "output_type": "display_data",
          "data": {
            "image/png": "[encoded data removed]",
            "text/plain": [
              "<Figure size 432x288 with 1 Axes>"
            ]
          },
          "metadata": {
            "needs_background": "light"
          }
        },
        {
          "output_type": "display_data",
          "data": {
            "image/png": "[encoded data removed]",
            "text/plain": [
              "<Figure size 432x288 with 1 Axes>"
            ]
          },
          "metadata": {
            "needs_background": "light"
          }
        },
        {
          "output_type": "stream",
          "name": "stdout",
          "text": [
            "(1, 105, 105) (1, 105, 105)\n"
          ]
        }
      ]
    },
    {
      "cell_type": "markdown",
      "metadata": {
        "id": "yA1uX6gn_dJT"
      },
      "source": [
        "### 3.9 Uso da rede siamensa para classificar caracteres\n",
        "\n",
        "\n",
        "#### Calcule os vetores de características de referência\n",
        "\n",
        "Para usar a rede siamensa para classificar caracteres deve-se ter os vetores de referências de todos os carateres. Assim, selecione 5 exemplos de cada caractere do conjunto de validação e calcule os vetores de caracteríticas de todos esses exemplos e os guarde em um tensor de características de referências.\n",
        "\n",
        "Apresente alguns desses caracteres selecionados como referências, as sua dimensões e alguns elementos dos seus vetores de carcaterísticas. \n",
        "\n",
        "\n",
        "####  Determinação da classe de alguns exemplos\n",
        "\n",
        "Ao receber uma imagem de um caractere para verificação a classe, o vetor de característica dessa imagem é calculado e são calculadas as distâncias desse vetor para os vetores de referência de cada uma das classes. A menor distância indica a que classe é a imagem.\n",
        "\n",
        "Selecione diversos exemplos do conjunto de validação, pelo menos um caractere de cada tipo (utilize exemplos diferentes dos  usados como referências) e verifique o desempenho do seu classificador em determinar o tipo de caratere.\n",
        "\n",
        "Apresente os resultados das classes reais e as previstas pelo seu classificador."
      ]
    },
    {
      "cell_type": "code",
      "metadata": {
        "colab": {
          "base_uri": "https://localhost:8080/"
        },
        "id": "7bHzvhd0op-y",
        "outputId": "6f218d4a-3da8-4cb9-ec79-d825879d36fe"
      },
      "source": [
        "v1 = model(x1)\n",
        "v2 = model(x2)\n",
        "\n",
        "d12 = np.mean(np.square(v1-v2), axis=1)\n",
        "print(d12)\n",
        "\n",
        "if d12<=alpha:\n",
        "  print('iguais')\n",
        "else:\n",
        "  print('diferentes')"
      ],
      "execution_count": 67,
      "outputs": [
        {
          "output_type": "stream",
          "name": "stdout",
          "text": [
            "[0.3543638]\n",
            "diferentes\n"
          ]
        }
      ]
    },
    {
      "cell_type": "code",
      "metadata": {
        "colab": {
          "base_uri": "https://localhost:8080/"
        },
        "id": "WeMiv35JEXOz",
        "outputId": "52d4643c-effe-4700-845e-f78468c7fa4e"
      },
      "source": [
        "Nc = 10\n",
        "\n",
        "v_ref = np.zeros((Nc, 5, n_carac))\n",
        "\n",
        "for i in range(Nc):\n",
        "\n",
        "  yind = np.where(y_train_normalized==i)\n",
        "  z = x_train_flat[yind[0][:5]]\n",
        "\n",
        "  v_ref[i,:5,:] = model(z)\n",
        "\n",
        "print(v_ref.shape)"
      ],
      "execution_count": 70,
      "outputs": [
        {
          "output_type": "stream",
          "name": "stdout",
          "text": [
            "(10, 5, 256)\n"
          ]
        }
      ]
    },
    {
      "cell_type": "code",
      "metadata": {
        "colab": {
          "base_uri": "https://localhost:8080/",
          "height": 453
        },
        "id": "YWUINwKUEfXZ",
        "outputId": "7ed723c9-10f1-431b-ee1d-177cd0c22d44"
      },
      "source": [
        "ind = 20\n",
        "x = np.expand_dims(x_test_flat[ind],0)\n",
        "\n",
        "plt.imshow(x_test_flat[ind], cmap='gray')\n",
        "plt.show()\n",
        "\n",
        "v = model(x)\n",
        "\n",
        "d = np.zeros((Nc,1))\n",
        "for i in range(Nc):\n",
        "  d[i] = 10_000.0\n",
        "  for j in range(5):\n",
        "    dj = np.mean(np.square(v - v_ref[i,j,:]), axis=1)\n",
        "    if dj < d[i]:\n",
        "      d[i] = dj\n",
        "\n",
        "print(d)\n",
        "\n",
        "classe = np.argmin(d)\n",
        "print(classe)"
      ],
      "execution_count": 71,
      "outputs": [
        {
          "output_type": "display_data",
          "data": {
            "image/png": "[encoded data removed]",
            "text/plain": [
              "<Figure size 432x288 with 1 Axes>"
            ]
          },
          "metadata": {
            "needs_background": "light"
          }
        },
        {
          "output_type": "stream",
          "name": "stdout",
          "text": [
            "[[0.94572294]\n",
            " [1.24439383]\n",
            " [0.73667103]\n",
            " [0.68354833]\n",
            " [0.95847285]\n",
            " [0.98102421]\n",
            " [0.97387248]\n",
            " [1.6614157 ]\n",
            " [2.2619288 ]\n",
            " [1.99718547]]\n",
            "3\n"
          ]
        }
      ]
    },
    {
      "cell_type": "markdown",
      "metadata": {
        "id": "kzyuaQ--6qhg"
      },
      "source": [
        "### 3.10 Conclusão\n",
        "\n",
        "- Quando não temos muitos dados de treino, é interessante o uso das redes siamesas;\n",
        "- É uma rede eficiente para separar classes"
      ]
    }
  ]
}