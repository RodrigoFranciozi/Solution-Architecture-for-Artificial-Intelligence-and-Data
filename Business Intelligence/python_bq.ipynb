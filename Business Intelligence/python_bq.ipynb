{
  "nbformat": 4,
  "nbformat_minor": 0,
  "metadata": {
    "colab": {
      "name": "python_bq.ipynb",
      "provenance": [],
      "collapsed_sections": [],
      "toc_visible": true
    },
    "kernelspec": {
      "name": "python3",
      "display_name": "Python 3"
    }
  },
  "cells": [
    {
      "cell_type": "markdown",
      "metadata": {
        "id": "LsrSAw7GQL1p"
      },
      "source": [
        "# Exemplo dados do ***Big Query***"
      ]
    },
    {
      "cell_type": "markdown",
      "metadata": {
        "id": "BezE_074QVmz"
      },
      "source": [
        "## Carregar pacotes"
      ]
    },
    {
      "cell_type": "code",
      "metadata": {
        "id": "ryXgz8rZQVs8"
      },
      "source": [
        "import numpy as np\n",
        "import pandas as pd"
      ],
      "execution_count": null,
      "outputs": []
    },
    {
      "cell_type": "code",
      "metadata": {
        "id": "ljxdFufMQVyd"
      },
      "source": [
        "from google.colab import auth\n",
        "from google.cloud import bigquery"
      ],
      "execution_count": null,
      "outputs": []
    },
    {
      "cell_type": "code",
      "metadata": {
        "id": "QKRCErQEd1Q6"
      },
      "source": [
        "import matplotlib.pyplot as plt\n",
        "%matplotlib inline"
      ],
      "execution_count": null,
      "outputs": []
    },
    {
      "cell_type": "markdown",
      "metadata": {
        "id": "wDthfpIHZdoG"
      },
      "source": [
        "## Autenticar projeto"
      ]
    },
    {
      "cell_type": "code",
      "metadata": {
        "id": "S2V68zT7QV4C"
      },
      "source": [
        "auth.authenticate_user()"
      ],
      "execution_count": null,
      "outputs": []
    },
    {
      "cell_type": "code",
      "metadata": {
        "id": "rUhEzxrUQV9O"
      },
      "source": [
        "project_id = 'aula01in'"
      ],
      "execution_count": null,
      "outputs": []
    },
    {
      "cell_type": "code",
      "metadata": {
        "id": "U-JwzHMRQWCm"
      },
      "source": [
        "client = bigquery.Client(project=project_id)"
      ],
      "execution_count": null,
      "outputs": []
    },
    {
      "cell_type": "markdown",
      "metadata": {
        "id": "5Rb8HGtFdH7i"
      },
      "source": [
        "## Dados"
      ]
    },
    {
      "cell_type": "markdown",
      "metadata": {
        "id": "9YPINFemwyBV"
      },
      "source": [
        "### Partidas"
      ]
    },
    {
      "cell_type": "markdown",
      "metadata": {
        "id": "te6c_otAwYi1"
      },
      "source": [
        "buscar dados do *Big Query*"
      ]
    },
    {
      "cell_type": "code",
      "metadata": {
        "id": "tQThk1t_QWIR"
      },
      "source": [
        "dados_partidas_bq = client.query('''\n",
        "  select *\n",
        "  from `cartola_partidas.partidas_*` ''')"
      ],
      "execution_count": null,
      "outputs": []
    },
    {
      "cell_type": "markdown",
      "metadata": {
        "id": "oP_ZqZyHwpxZ"
      },
      "source": [
        "Transformar em pandas dataframe"
      ]
    },
    {
      "cell_type": "code",
      "metadata": {
        "id": "R6E4yJWjQWOI"
      },
      "source": [
        "dados_partidas = dados_partidas_bq.to_dataframe()"
      ],
      "execution_count": null,
      "outputs": []
    },
    {
      "cell_type": "code",
      "metadata": {
        "id": "idiSlvizdOcx",
        "colab": {
          "base_uri": "https://localhost:8080/",
          "height": 218
        },
        "outputId": "ba75e428-49ef-4982-fc0b-9ed27480b381"
      },
      "source": [
        "dados_partidas.ano"
      ],
      "execution_count": null,
      "outputs": [
        {
          "output_type": "execute_result",
          "data": {
            "text/plain": [
              "0       2017\n",
              "1       2017\n",
              "2       2017\n",
              "3       2017\n",
              "4       2017\n",
              "        ... \n",
              "2275    2016\n",
              "2276    2016\n",
              "2277    2016\n",
              "2278    2016\n",
              "2279    2016\n",
              "Name: ano, Length: 2280, dtype: int64"
            ]
          },
          "metadata": {
            "tags": []
          },
          "execution_count": 80
        }
      ]
    },
    {
      "cell_type": "markdown",
      "metadata": {
        "id": "yGhoC1Lut6Vp"
      },
      "source": [
        "### Classificação"
      ]
    },
    {
      "cell_type": "code",
      "metadata": {
        "id": "hJpbsKoCxf1_"
      },
      "source": [
        "dados_classificacao_bq = client.query('''\n",
        "  select *\n",
        "  from `cartola_classificacao.classificacao_*` ''')"
      ],
      "execution_count": null,
      "outputs": []
    },
    {
      "cell_type": "code",
      "metadata": {
        "id": "JUgsEuJaxf7G"
      },
      "source": [
        "dados_classificacao = dados_classificacao_bq.to_dataframe()"
      ],
      "execution_count": null,
      "outputs": []
    },
    {
      "cell_type": "code",
      "metadata": {
        "id": "d5ilr0u-xgAL",
        "colab": {
          "base_uri": "https://localhost:8080/",
          "height": 218
        },
        "outputId": "d6180217-d38b-4263-a562-442385d6a0e6"
      },
      "source": [
        "dados_classificacao.ano"
      ],
      "execution_count": null,
      "outputs": [
        {
          "output_type": "execute_result",
          "data": {
            "text/plain": [
              "0       2017\n",
              "1       2017\n",
              "2       2017\n",
              "3       2017\n",
              "4       2017\n",
              "        ... \n",
              "4555    2016\n",
              "4556    2016\n",
              "4557    2016\n",
              "4558    2016\n",
              "4559    2016\n",
              "Name: ano, Length: 4560, dtype: int64"
            ]
          },
          "metadata": {
            "tags": []
          },
          "execution_count": 83
        }
      ]
    },
    {
      "cell_type": "markdown",
      "metadata": {
        "id": "-IBna3FqxgE6"
      },
      "source": [
        "### Jogadores"
      ]
    },
    {
      "cell_type": "code",
      "metadata": {
        "id": "vxu-drSNyHmB"
      },
      "source": [
        "dados_jogadores_bq = client.query('''\n",
        "  select *\n",
        "  from `cartola_scouts.scouts_*` ''')"
      ],
      "execution_count": null,
      "outputs": []
    },
    {
      "cell_type": "code",
      "metadata": {
        "id": "3PC-KYwPyHrw"
      },
      "source": [
        "dados_jogadores = dados_jogadores_bq.to_dataframe()"
      ],
      "execution_count": null,
      "outputs": []
    },
    {
      "cell_type": "code",
      "metadata": {
        "id": "HdO5juv_yHwg",
        "colab": {
          "base_uri": "https://localhost:8080/",
          "height": 232
        },
        "outputId": "574944e6-3b53-4f15-b76b-a096502e84e9"
      },
      "source": [
        "dados_jogadores.head()"
      ],
      "execution_count": null,
      "outputs": [
        {
          "output_type": "execute_result",
          "data": {
            "text/html": [
              "<div>\n",
              "<style scoped>\n",
              "    .dataframe tbody tr th:only-of-type {\n",
              "        vertical-align: middle;\n",
              "    }\n",
              "\n",
              "    .dataframe tbody tr th {\n",
              "        vertical-align: top;\n",
              "    }\n",
              "\n",
              "    .dataframe thead th {\n",
              "        text-align: right;\n",
              "    }\n",
              "</style>\n",
              "<table border=\"1\" class=\"dataframe\">\n",
              "  <thead>\n",
              "    <tr style=\"text-align: right;\">\n",
              "      <th></th>\n",
              "      <th>atleta_id</th>\n",
              "      <th>apelido</th>\n",
              "      <th>rodada_id</th>\n",
              "      <th>ano</th>\n",
              "      <th>clube_id</th>\n",
              "      <th>clube</th>\n",
              "      <th>posicao_id</th>\n",
              "      <th>posicao</th>\n",
              "      <th>jogos_num</th>\n",
              "      <th>pontos_num</th>\n",
              "      <th>media_num</th>\n",
              "      <th>preco_num_anterior</th>\n",
              "      <th>preco_num</th>\n",
              "      <th>variacao_num</th>\n",
              "      <th>FS</th>\n",
              "      <th>PE</th>\n",
              "      <th>A</th>\n",
              "      <th>FT</th>\n",
              "      <th>FD</th>\n",
              "      <th>FF</th>\n",
              "      <th>G</th>\n",
              "      <th>I</th>\n",
              "      <th>PP</th>\n",
              "      <th>RB</th>\n",
              "      <th>FC</th>\n",
              "      <th>GC</th>\n",
              "      <th>CA</th>\n",
              "      <th>CV</th>\n",
              "      <th>SG</th>\n",
              "      <th>DD</th>\n",
              "      <th>DP</th>\n",
              "      <th>GS</th>\n",
              "      <th>status_id</th>\n",
              "      <th>status</th>\n",
              "    </tr>\n",
              "  </thead>\n",
              "  <tbody>\n",
              "    <tr>\n",
              "      <th>0</th>\n",
              "      <td>42499</td>\n",
              "      <td>Bruno</td>\n",
              "      <td>14</td>\n",
              "      <td>2018</td>\n",
              "      <td>265</td>\n",
              "      <td>Bahia</td>\n",
              "      <td>2</td>\n",
              "      <td>lat</td>\n",
              "      <td>0</td>\n",
              "      <td>2.5</td>\n",
              "      <td>0.30</td>\n",
              "      <td>2.69</td>\n",
              "      <td>3.39</td>\n",
              "      <td>0.70</td>\n",
              "      <td>2</td>\n",
              "      <td>0</td>\n",
              "      <td>0</td>\n",
              "      <td>0</td>\n",
              "      <td>0</td>\n",
              "      <td>0</td>\n",
              "      <td>0</td>\n",
              "      <td>0</td>\n",
              "      <td>0</td>\n",
              "      <td>2</td>\n",
              "      <td>3</td>\n",
              "      <td>0</td>\n",
              "      <td>0</td>\n",
              "      <td>0</td>\n",
              "      <td>0</td>\n",
              "      <td>0</td>\n",
              "      <td>0</td>\n",
              "      <td>0</td>\n",
              "      <td>6</td>\n",
              "      <td>Nulo</td>\n",
              "    </tr>\n",
              "    <tr>\n",
              "      <th>1</th>\n",
              "      <td>42499</td>\n",
              "      <td>Bruno</td>\n",
              "      <td>22</td>\n",
              "      <td>2018</td>\n",
              "      <td>265</td>\n",
              "      <td>Bahia</td>\n",
              "      <td>2</td>\n",
              "      <td>lat</td>\n",
              "      <td>0</td>\n",
              "      <td>2.0</td>\n",
              "      <td>1.22</td>\n",
              "      <td>3.44</td>\n",
              "      <td>3.37</td>\n",
              "      <td>-0.07</td>\n",
              "      <td>1</td>\n",
              "      <td>0</td>\n",
              "      <td>0</td>\n",
              "      <td>0</td>\n",
              "      <td>0</td>\n",
              "      <td>0</td>\n",
              "      <td>0</td>\n",
              "      <td>0</td>\n",
              "      <td>0</td>\n",
              "      <td>1</td>\n",
              "      <td>0</td>\n",
              "      <td>0</td>\n",
              "      <td>0</td>\n",
              "      <td>0</td>\n",
              "      <td>0</td>\n",
              "      <td>0</td>\n",
              "      <td>0</td>\n",
              "      <td>0</td>\n",
              "      <td>6</td>\n",
              "      <td>Nulo</td>\n",
              "    </tr>\n",
              "    <tr>\n",
              "      <th>2</th>\n",
              "      <td>94980</td>\n",
              "      <td>Geovane Itinga</td>\n",
              "      <td>11</td>\n",
              "      <td>2018</td>\n",
              "      <td>265</td>\n",
              "      <td>Bahia</td>\n",
              "      <td>5</td>\n",
              "      <td>ata</td>\n",
              "      <td>0</td>\n",
              "      <td>0.5</td>\n",
              "      <td>0.50</td>\n",
              "      <td>2.00</td>\n",
              "      <td>1.60</td>\n",
              "      <td>-0.40</td>\n",
              "      <td>0</td>\n",
              "      <td>1</td>\n",
              "      <td>0</td>\n",
              "      <td>0</td>\n",
              "      <td>0</td>\n",
              "      <td>1</td>\n",
              "      <td>0</td>\n",
              "      <td>0</td>\n",
              "      <td>0</td>\n",
              "      <td>0</td>\n",
              "      <td>0</td>\n",
              "      <td>0</td>\n",
              "      <td>0</td>\n",
              "      <td>0</td>\n",
              "      <td>0</td>\n",
              "      <td>0</td>\n",
              "      <td>0</td>\n",
              "      <td>0</td>\n",
              "      <td>6</td>\n",
              "      <td>Nulo</td>\n",
              "    </tr>\n",
              "    <tr>\n",
              "      <th>3</th>\n",
              "      <td>61188</td>\n",
              "      <td>Gilberto</td>\n",
              "      <td>14</td>\n",
              "      <td>2018</td>\n",
              "      <td>265</td>\n",
              "      <td>Bahia</td>\n",
              "      <td>5</td>\n",
              "      <td>ata</td>\n",
              "      <td>0</td>\n",
              "      <td>12.7</td>\n",
              "      <td>10.30</td>\n",
              "      <td>9.02</td>\n",
              "      <td>12.28</td>\n",
              "      <td>3.26</td>\n",
              "      <td>4</td>\n",
              "      <td>1</td>\n",
              "      <td>0</td>\n",
              "      <td>0</td>\n",
              "      <td>0</td>\n",
              "      <td>0</td>\n",
              "      <td>1</td>\n",
              "      <td>0</td>\n",
              "      <td>0</td>\n",
              "      <td>2</td>\n",
              "      <td>0</td>\n",
              "      <td>0</td>\n",
              "      <td>0</td>\n",
              "      <td>0</td>\n",
              "      <td>0</td>\n",
              "      <td>0</td>\n",
              "      <td>0</td>\n",
              "      <td>0</td>\n",
              "      <td>6</td>\n",
              "      <td>Nulo</td>\n",
              "    </tr>\n",
              "    <tr>\n",
              "      <th>4</th>\n",
              "      <td>61188</td>\n",
              "      <td>Gilberto</td>\n",
              "      <td>36</td>\n",
              "      <td>2018</td>\n",
              "      <td>265</td>\n",
              "      <td>Bahia</td>\n",
              "      <td>5</td>\n",
              "      <td>ata</td>\n",
              "      <td>0</td>\n",
              "      <td>0.0</td>\n",
              "      <td>5.31</td>\n",
              "      <td>12.20</td>\n",
              "      <td>12.05</td>\n",
              "      <td>-0.15</td>\n",
              "      <td>0</td>\n",
              "      <td>0</td>\n",
              "      <td>0</td>\n",
              "      <td>0</td>\n",
              "      <td>0</td>\n",
              "      <td>0</td>\n",
              "      <td>0</td>\n",
              "      <td>0</td>\n",
              "      <td>0</td>\n",
              "      <td>0</td>\n",
              "      <td>0</td>\n",
              "      <td>0</td>\n",
              "      <td>0</td>\n",
              "      <td>0</td>\n",
              "      <td>0</td>\n",
              "      <td>0</td>\n",
              "      <td>0</td>\n",
              "      <td>0</td>\n",
              "      <td>6</td>\n",
              "      <td>Nulo</td>\n",
              "    </tr>\n",
              "  </tbody>\n",
              "</table>\n",
              "</div>"
            ],
            "text/plain": [
              "   atleta_id         apelido  rodada_id   ano  ...  DP GS  status_id status\n",
              "0      42499           Bruno         14  2018  ...   0  0          6   Nulo\n",
              "1      42499           Bruno         22  2018  ...   0  0          6   Nulo\n",
              "2      94980  Geovane Itinga         11  2018  ...   0  0          6   Nulo\n",
              "3      61188        Gilberto         14  2018  ...   0  0          6   Nulo\n",
              "4      61188        Gilberto         36  2018  ...   0  0          6   Nulo\n",
              "\n",
              "[5 rows x 34 columns]"
            ]
          },
          "metadata": {
            "tags": []
          },
          "execution_count": 86
        }
      ]
    },
    {
      "cell_type": "markdown",
      "metadata": {
        "id": "BDBOOg4HxgJj"
      },
      "source": [
        "## Selecionar dados para criação da *view*"
      ]
    },
    {
      "cell_type": "code",
      "metadata": {
        "id": "OZUikxthz6yp",
        "colab": {
          "base_uri": "https://localhost:8080/",
          "height": 195
        },
        "outputId": "6f8635f6-7bd6-4936-fc86-8b7c47840e4c"
      },
      "source": [
        "colunas_partidas = ['rodada_id', 'ano', 'clube_casa_id', 'clube_visitante_id', 'partidas_local']\n",
        "partidas_view = dados_partidas[colunas_partidas]\n",
        "partidas_view.head()"
      ],
      "execution_count": null,
      "outputs": [
        {
          "output_type": "execute_result",
          "data": {
            "text/html": [
              "<div>\n",
              "<style scoped>\n",
              "    .dataframe tbody tr th:only-of-type {\n",
              "        vertical-align: middle;\n",
              "    }\n",
              "\n",
              "    .dataframe tbody tr th {\n",
              "        vertical-align: top;\n",
              "    }\n",
              "\n",
              "    .dataframe thead th {\n",
              "        text-align: right;\n",
              "    }\n",
              "</style>\n",
              "<table border=\"1\" class=\"dataframe\">\n",
              "  <thead>\n",
              "    <tr style=\"text-align: right;\">\n",
              "      <th></th>\n",
              "      <th>rodada_id</th>\n",
              "      <th>ano</th>\n",
              "      <th>clube_casa_id</th>\n",
              "      <th>clube_visitante_id</th>\n",
              "      <th>partidas_local</th>\n",
              "    </tr>\n",
              "  </thead>\n",
              "  <tbody>\n",
              "    <tr>\n",
              "      <th>0</th>\n",
              "      <td>11</td>\n",
              "      <td>2017</td>\n",
              "      <td>314</td>\n",
              "      <td>303</td>\n",
              "      <td>Ressacada</td>\n",
              "    </tr>\n",
              "    <tr>\n",
              "      <th>1</th>\n",
              "      <td>15</td>\n",
              "      <td>2017</td>\n",
              "      <td>314</td>\n",
              "      <td>264</td>\n",
              "      <td>Ressacada</td>\n",
              "    </tr>\n",
              "    <tr>\n",
              "      <th>2</th>\n",
              "      <td>16</td>\n",
              "      <td>2017</td>\n",
              "      <td>314</td>\n",
              "      <td>283</td>\n",
              "      <td>Ressacada</td>\n",
              "    </tr>\n",
              "    <tr>\n",
              "      <th>3</th>\n",
              "      <td>19</td>\n",
              "      <td>2017</td>\n",
              "      <td>314</td>\n",
              "      <td>277</td>\n",
              "      <td>Ressacada</td>\n",
              "    </tr>\n",
              "    <tr>\n",
              "      <th>4</th>\n",
              "      <td>22</td>\n",
              "      <td>2017</td>\n",
              "      <td>314</td>\n",
              "      <td>315</td>\n",
              "      <td>Ressacada</td>\n",
              "    </tr>\n",
              "  </tbody>\n",
              "</table>\n",
              "</div>"
            ],
            "text/plain": [
              "   rodada_id   ano  clube_casa_id  clube_visitante_id partidas_local\n",
              "0         11  2017            314                 303      Ressacada\n",
              "1         15  2017            314                 264      Ressacada\n",
              "2         16  2017            314                 283      Ressacada\n",
              "3         19  2017            314                 277      Ressacada\n",
              "4         22  2017            314                 315      Ressacada"
            ]
          },
          "metadata": {
            "tags": []
          },
          "execution_count": 87
        }
      ]
    },
    {
      "cell_type": "code",
      "metadata": {
        "id": "Q5g-og78z671",
        "colab": {
          "base_uri": "https://localhost:8080/",
          "height": 195
        },
        "outputId": "266d976b-008e-44fb-a080-3dc494c16328"
      },
      "source": [
        "colunas_jogadores = ['atleta_id', 'apelido', 'rodada_id', 'ano', 'clube_id', 'clube',\n",
        "                     'posicao', 'pontos_num', 'preco_num']\n",
        "players_view = dados_jogadores[colunas_jogadores]\n",
        "players_view.head()"
      ],
      "execution_count": null,
      "outputs": [
        {
          "output_type": "execute_result",
          "data": {
            "text/html": [
              "<div>\n",
              "<style scoped>\n",
              "    .dataframe tbody tr th:only-of-type {\n",
              "        vertical-align: middle;\n",
              "    }\n",
              "\n",
              "    .dataframe tbody tr th {\n",
              "        vertical-align: top;\n",
              "    }\n",
              "\n",
              "    .dataframe thead th {\n",
              "        text-align: right;\n",
              "    }\n",
              "</style>\n",
              "<table border=\"1\" class=\"dataframe\">\n",
              "  <thead>\n",
              "    <tr style=\"text-align: right;\">\n",
              "      <th></th>\n",
              "      <th>atleta_id</th>\n",
              "      <th>apelido</th>\n",
              "      <th>rodada_id</th>\n",
              "      <th>ano</th>\n",
              "      <th>clube_id</th>\n",
              "      <th>clube</th>\n",
              "      <th>posicao</th>\n",
              "      <th>pontos_num</th>\n",
              "      <th>preco_num</th>\n",
              "    </tr>\n",
              "  </thead>\n",
              "  <tbody>\n",
              "    <tr>\n",
              "      <th>0</th>\n",
              "      <td>42499</td>\n",
              "      <td>Bruno</td>\n",
              "      <td>14</td>\n",
              "      <td>2018</td>\n",
              "      <td>265</td>\n",
              "      <td>Bahia</td>\n",
              "      <td>lat</td>\n",
              "      <td>2.5</td>\n",
              "      <td>3.39</td>\n",
              "    </tr>\n",
              "    <tr>\n",
              "      <th>1</th>\n",
              "      <td>42499</td>\n",
              "      <td>Bruno</td>\n",
              "      <td>22</td>\n",
              "      <td>2018</td>\n",
              "      <td>265</td>\n",
              "      <td>Bahia</td>\n",
              "      <td>lat</td>\n",
              "      <td>2.0</td>\n",
              "      <td>3.37</td>\n",
              "    </tr>\n",
              "    <tr>\n",
              "      <th>2</th>\n",
              "      <td>94980</td>\n",
              "      <td>Geovane Itinga</td>\n",
              "      <td>11</td>\n",
              "      <td>2018</td>\n",
              "      <td>265</td>\n",
              "      <td>Bahia</td>\n",
              "      <td>ata</td>\n",
              "      <td>0.5</td>\n",
              "      <td>1.60</td>\n",
              "    </tr>\n",
              "    <tr>\n",
              "      <th>3</th>\n",
              "      <td>61188</td>\n",
              "      <td>Gilberto</td>\n",
              "      <td>14</td>\n",
              "      <td>2018</td>\n",
              "      <td>265</td>\n",
              "      <td>Bahia</td>\n",
              "      <td>ata</td>\n",
              "      <td>12.7</td>\n",
              "      <td>12.28</td>\n",
              "    </tr>\n",
              "    <tr>\n",
              "      <th>4</th>\n",
              "      <td>61188</td>\n",
              "      <td>Gilberto</td>\n",
              "      <td>36</td>\n",
              "      <td>2018</td>\n",
              "      <td>265</td>\n",
              "      <td>Bahia</td>\n",
              "      <td>ata</td>\n",
              "      <td>0.0</td>\n",
              "      <td>12.05</td>\n",
              "    </tr>\n",
              "  </tbody>\n",
              "</table>\n",
              "</div>"
            ],
            "text/plain": [
              "   atleta_id         apelido  rodada_id  ...  posicao  pontos_num preco_num\n",
              "0      42499           Bruno         14  ...      lat         2.5      3.39\n",
              "1      42499           Bruno         22  ...      lat         2.0      3.37\n",
              "2      94980  Geovane Itinga         11  ...      ata         0.5      1.60\n",
              "3      61188        Gilberto         14  ...      ata        12.7     12.28\n",
              "4      61188        Gilberto         36  ...      ata         0.0     12.05\n",
              "\n",
              "[5 rows x 9 columns]"
            ]
          },
          "metadata": {
            "tags": []
          },
          "execution_count": 88
        }
      ]
    },
    {
      "cell_type": "code",
      "metadata": {
        "id": "4yFJOhP1z7BI",
        "colab": {
          "base_uri": "https://localhost:8080/",
          "height": 195
        },
        "outputId": "e28da71c-9fe6-4d06-c8ad-3edaaab53671"
      },
      "source": [
        "colunas_classificacao = ['clube_id', 'rodada_id', 'ano', 'clube_rank']\n",
        "classif_view = dados_classificacao[colunas_classificacao]\n",
        "classif_view.head()"
      ],
      "execution_count": null,
      "outputs": [
        {
          "output_type": "execute_result",
          "data": {
            "text/html": [
              "<div>\n",
              "<style scoped>\n",
              "    .dataframe tbody tr th:only-of-type {\n",
              "        vertical-align: middle;\n",
              "    }\n",
              "\n",
              "    .dataframe tbody tr th {\n",
              "        vertical-align: top;\n",
              "    }\n",
              "\n",
              "    .dataframe thead th {\n",
              "        text-align: right;\n",
              "    }\n",
              "</style>\n",
              "<table border=\"1\" class=\"dataframe\">\n",
              "  <thead>\n",
              "    <tr style=\"text-align: right;\">\n",
              "      <th></th>\n",
              "      <th>clube_id</th>\n",
              "      <th>rodada_id</th>\n",
              "      <th>ano</th>\n",
              "      <th>clube_rank</th>\n",
              "    </tr>\n",
              "  </thead>\n",
              "  <tbody>\n",
              "    <tr>\n",
              "      <th>0</th>\n",
              "      <td>262</td>\n",
              "      <td>12</td>\n",
              "      <td>2017</td>\n",
              "      <td>2</td>\n",
              "    </tr>\n",
              "    <tr>\n",
              "      <th>1</th>\n",
              "      <td>262</td>\n",
              "      <td>10</td>\n",
              "      <td>2017</td>\n",
              "      <td>3</td>\n",
              "    </tr>\n",
              "    <tr>\n",
              "      <th>2</th>\n",
              "      <td>262</td>\n",
              "      <td>11</td>\n",
              "      <td>2017</td>\n",
              "      <td>3</td>\n",
              "    </tr>\n",
              "    <tr>\n",
              "      <th>3</th>\n",
              "      <td>262</td>\n",
              "      <td>2</td>\n",
              "      <td>2017</td>\n",
              "      <td>3</td>\n",
              "    </tr>\n",
              "    <tr>\n",
              "      <th>4</th>\n",
              "      <td>262</td>\n",
              "      <td>13</td>\n",
              "      <td>2017</td>\n",
              "      <td>4</td>\n",
              "    </tr>\n",
              "  </tbody>\n",
              "</table>\n",
              "</div>"
            ],
            "text/plain": [
              "   clube_id  rodada_id   ano  clube_rank\n",
              "0       262         12  2017           2\n",
              "1       262         10  2017           3\n",
              "2       262         11  2017           3\n",
              "3       262          2  2017           3\n",
              "4       262         13  2017           4"
            ]
          },
          "metadata": {
            "tags": []
          },
          "execution_count": 89
        }
      ]
    },
    {
      "cell_type": "code",
      "metadata": {
        "id": "LGj6Txpwz7F9",
        "colab": {
          "base_uri": "https://localhost:8080/",
          "height": 195
        },
        "outputId": "6cf1c6c1-dd51-480c-b8fe-f3b10067474c"
      },
      "source": [
        "players_view = pd.merge(players_view, classif_view,  how = 'left', on=['clube_id', 'rodada_id', 'ano'])\n",
        "players_view.head()"
      ],
      "execution_count": null,
      "outputs": [
        {
          "output_type": "execute_result",
          "data": {
            "text/html": [
              "<div>\n",
              "<style scoped>\n",
              "    .dataframe tbody tr th:only-of-type {\n",
              "        vertical-align: middle;\n",
              "    }\n",
              "\n",
              "    .dataframe tbody tr th {\n",
              "        vertical-align: top;\n",
              "    }\n",
              "\n",
              "    .dataframe thead th {\n",
              "        text-align: right;\n",
              "    }\n",
              "</style>\n",
              "<table border=\"1\" class=\"dataframe\">\n",
              "  <thead>\n",
              "    <tr style=\"text-align: right;\">\n",
              "      <th></th>\n",
              "      <th>atleta_id</th>\n",
              "      <th>apelido</th>\n",
              "      <th>rodada_id</th>\n",
              "      <th>ano</th>\n",
              "      <th>clube_id</th>\n",
              "      <th>clube</th>\n",
              "      <th>posicao</th>\n",
              "      <th>pontos_num</th>\n",
              "      <th>preco_num</th>\n",
              "      <th>clube_rank</th>\n",
              "    </tr>\n",
              "  </thead>\n",
              "  <tbody>\n",
              "    <tr>\n",
              "      <th>0</th>\n",
              "      <td>42499</td>\n",
              "      <td>Bruno</td>\n",
              "      <td>14</td>\n",
              "      <td>2018</td>\n",
              "      <td>265</td>\n",
              "      <td>Bahia</td>\n",
              "      <td>lat</td>\n",
              "      <td>2.5</td>\n",
              "      <td>3.39</td>\n",
              "      <td>14</td>\n",
              "    </tr>\n",
              "    <tr>\n",
              "      <th>1</th>\n",
              "      <td>42499</td>\n",
              "      <td>Bruno</td>\n",
              "      <td>22</td>\n",
              "      <td>2018</td>\n",
              "      <td>265</td>\n",
              "      <td>Bahia</td>\n",
              "      <td>lat</td>\n",
              "      <td>2.0</td>\n",
              "      <td>3.37</td>\n",
              "      <td>14</td>\n",
              "    </tr>\n",
              "    <tr>\n",
              "      <th>2</th>\n",
              "      <td>94980</td>\n",
              "      <td>Geovane Itinga</td>\n",
              "      <td>11</td>\n",
              "      <td>2018</td>\n",
              "      <td>265</td>\n",
              "      <td>Bahia</td>\n",
              "      <td>ata</td>\n",
              "      <td>0.5</td>\n",
              "      <td>1.60</td>\n",
              "      <td>18</td>\n",
              "    </tr>\n",
              "    <tr>\n",
              "      <th>3</th>\n",
              "      <td>61188</td>\n",
              "      <td>Gilberto</td>\n",
              "      <td>14</td>\n",
              "      <td>2018</td>\n",
              "      <td>265</td>\n",
              "      <td>Bahia</td>\n",
              "      <td>ata</td>\n",
              "      <td>12.7</td>\n",
              "      <td>12.28</td>\n",
              "      <td>14</td>\n",
              "    </tr>\n",
              "    <tr>\n",
              "      <th>4</th>\n",
              "      <td>61188</td>\n",
              "      <td>Gilberto</td>\n",
              "      <td>36</td>\n",
              "      <td>2018</td>\n",
              "      <td>265</td>\n",
              "      <td>Bahia</td>\n",
              "      <td>ata</td>\n",
              "      <td>0.0</td>\n",
              "      <td>12.05</td>\n",
              "      <td>11</td>\n",
              "    </tr>\n",
              "  </tbody>\n",
              "</table>\n",
              "</div>"
            ],
            "text/plain": [
              "   atleta_id         apelido  rodada_id  ...  pontos_num  preco_num clube_rank\n",
              "0      42499           Bruno         14  ...         2.5       3.39         14\n",
              "1      42499           Bruno         22  ...         2.0       3.37         14\n",
              "2      94980  Geovane Itinga         11  ...         0.5       1.60         18\n",
              "3      61188        Gilberto         14  ...        12.7      12.28         14\n",
              "4      61188        Gilberto         36  ...         0.0      12.05         11\n",
              "\n",
              "[5 rows x 10 columns]"
            ]
          },
          "metadata": {
            "tags": []
          },
          "execution_count": 90
        }
      ]
    },
    {
      "cell_type": "code",
      "metadata": {
        "id": "vPy5M2pN3eAa",
        "colab": {
          "base_uri": "https://localhost:8080/",
          "height": 249
        },
        "outputId": "aab4780a-e5a1-490f-8ecd-e20310e38998"
      },
      "source": [
        "players_casa = pd.merge(players_view, partidas_view,  how = 'right', \n",
        "                        left_on=['clube_id', 'rodada_id', 'ano'], \n",
        "                        right_on=['clube_casa_id', 'rodada_id', 'ano'])\n",
        "players_casa.head()"
      ],
      "execution_count": null,
      "outputs": [
        {
          "output_type": "execute_result",
          "data": {
            "text/html": [
              "<div>\n",
              "<style scoped>\n",
              "    .dataframe tbody tr th:only-of-type {\n",
              "        vertical-align: middle;\n",
              "    }\n",
              "\n",
              "    .dataframe tbody tr th {\n",
              "        vertical-align: top;\n",
              "    }\n",
              "\n",
              "    .dataframe thead th {\n",
              "        text-align: right;\n",
              "    }\n",
              "</style>\n",
              "<table border=\"1\" class=\"dataframe\">\n",
              "  <thead>\n",
              "    <tr style=\"text-align: right;\">\n",
              "      <th></th>\n",
              "      <th>atleta_id</th>\n",
              "      <th>apelido</th>\n",
              "      <th>rodada_id</th>\n",
              "      <th>ano</th>\n",
              "      <th>clube_id</th>\n",
              "      <th>clube</th>\n",
              "      <th>posicao</th>\n",
              "      <th>pontos_num</th>\n",
              "      <th>preco_num</th>\n",
              "      <th>clube_rank</th>\n",
              "      <th>clube_casa_id</th>\n",
              "      <th>clube_visitante_id</th>\n",
              "      <th>partidas_local</th>\n",
              "    </tr>\n",
              "  </thead>\n",
              "  <tbody>\n",
              "    <tr>\n",
              "      <th>0</th>\n",
              "      <td>42499.0</td>\n",
              "      <td>Bruno</td>\n",
              "      <td>14</td>\n",
              "      <td>2018</td>\n",
              "      <td>265.0</td>\n",
              "      <td>Bahia</td>\n",
              "      <td>lat</td>\n",
              "      <td>2.5</td>\n",
              "      <td>3.39</td>\n",
              "      <td>14.0</td>\n",
              "      <td>265</td>\n",
              "      <td>287</td>\n",
              "      <td>Fonte Nova</td>\n",
              "    </tr>\n",
              "    <tr>\n",
              "      <th>1</th>\n",
              "      <td>61188.0</td>\n",
              "      <td>Gilberto</td>\n",
              "      <td>14</td>\n",
              "      <td>2018</td>\n",
              "      <td>265.0</td>\n",
              "      <td>Bahia</td>\n",
              "      <td>ata</td>\n",
              "      <td>12.7</td>\n",
              "      <td>12.28</td>\n",
              "      <td>14.0</td>\n",
              "      <td>265</td>\n",
              "      <td>287</td>\n",
              "      <td>Fonte Nova</td>\n",
              "    </tr>\n",
              "    <tr>\n",
              "      <th>2</th>\n",
              "      <td>82455.0</td>\n",
              "      <td>Zé Rafael</td>\n",
              "      <td>14</td>\n",
              "      <td>2018</td>\n",
              "      <td>265.0</td>\n",
              "      <td>Bahia</td>\n",
              "      <td>mei</td>\n",
              "      <td>14.3</td>\n",
              "      <td>20.72</td>\n",
              "      <td>14.0</td>\n",
              "      <td>265</td>\n",
              "      <td>287</td>\n",
              "      <td>Fonte Nova</td>\n",
              "    </tr>\n",
              "    <tr>\n",
              "      <th>3</th>\n",
              "      <td>74271.0</td>\n",
              "      <td>Edigar Junio</td>\n",
              "      <td>14</td>\n",
              "      <td>2018</td>\n",
              "      <td>265.0</td>\n",
              "      <td>Bahia</td>\n",
              "      <td>ata</td>\n",
              "      <td>-0.3</td>\n",
              "      <td>7.62</td>\n",
              "      <td>14.0</td>\n",
              "      <td>265</td>\n",
              "      <td>287</td>\n",
              "      <td>Fonte Nova</td>\n",
              "    </tr>\n",
              "    <tr>\n",
              "      <th>4</th>\n",
              "      <td>71719.0</td>\n",
              "      <td>Elton</td>\n",
              "      <td>14</td>\n",
              "      <td>2018</td>\n",
              "      <td>265.0</td>\n",
              "      <td>Bahia</td>\n",
              "      <td>mei</td>\n",
              "      <td>6.0</td>\n",
              "      <td>9.65</td>\n",
              "      <td>14.0</td>\n",
              "      <td>265</td>\n",
              "      <td>287</td>\n",
              "      <td>Fonte Nova</td>\n",
              "    </tr>\n",
              "  </tbody>\n",
              "</table>\n",
              "</div>"
            ],
            "text/plain": [
              "   atleta_id       apelido  ...  clube_visitante_id  partidas_local\n",
              "0    42499.0         Bruno  ...                 287      Fonte Nova\n",
              "1    61188.0      Gilberto  ...                 287      Fonte Nova\n",
              "2    82455.0     Zé Rafael  ...                 287      Fonte Nova\n",
              "3    74271.0  Edigar Junio  ...                 287      Fonte Nova\n",
              "4    71719.0         Elton  ...                 287      Fonte Nova\n",
              "\n",
              "[5 rows x 13 columns]"
            ]
          },
          "metadata": {
            "tags": []
          },
          "execution_count": 91
        }
      ]
    },
    {
      "cell_type": "code",
      "metadata": {
        "id": "AuGiNZwx3eFA",
        "colab": {
          "base_uri": "https://localhost:8080/",
          "height": 299
        },
        "outputId": "e0f5fd87-e593-49b5-9daa-0f01bc2b8103"
      },
      "source": [
        "players_fora = pd.merge(players_view, partidas_view,  how = 'right', \n",
        "                        left_on=['clube_id', 'rodada_id', 'ano'], \n",
        "                        right_on=['clube_visitante_id', 'rodada_id', 'ano'])\n",
        "players_fora.head()"
      ],
      "execution_count": null,
      "outputs": [
        {
          "output_type": "execute_result",
          "data": {
            "text/html": [
              "<div>\n",
              "<style scoped>\n",
              "    .dataframe tbody tr th:only-of-type {\n",
              "        vertical-align: middle;\n",
              "    }\n",
              "\n",
              "    .dataframe tbody tr th {\n",
              "        vertical-align: top;\n",
              "    }\n",
              "\n",
              "    .dataframe thead th {\n",
              "        text-align: right;\n",
              "    }\n",
              "</style>\n",
              "<table border=\"1\" class=\"dataframe\">\n",
              "  <thead>\n",
              "    <tr style=\"text-align: right;\">\n",
              "      <th></th>\n",
              "      <th>atleta_id</th>\n",
              "      <th>apelido</th>\n",
              "      <th>rodada_id</th>\n",
              "      <th>ano</th>\n",
              "      <th>clube_id</th>\n",
              "      <th>clube</th>\n",
              "      <th>posicao</th>\n",
              "      <th>pontos_num</th>\n",
              "      <th>preco_num</th>\n",
              "      <th>clube_rank</th>\n",
              "      <th>clube_casa_id</th>\n",
              "      <th>clube_visitante_id</th>\n",
              "      <th>partidas_local</th>\n",
              "    </tr>\n",
              "  </thead>\n",
              "  <tbody>\n",
              "    <tr>\n",
              "      <th>0</th>\n",
              "      <td>42499.0</td>\n",
              "      <td>Bruno</td>\n",
              "      <td>22</td>\n",
              "      <td>2018</td>\n",
              "      <td>265.0</td>\n",
              "      <td>Bahia</td>\n",
              "      <td>lat</td>\n",
              "      <td>2.0</td>\n",
              "      <td>3.37</td>\n",
              "      <td>14.0</td>\n",
              "      <td>293</td>\n",
              "      <td>265</td>\n",
              "      <td>Arena da Baixada</td>\n",
              "    </tr>\n",
              "    <tr>\n",
              "      <th>1</th>\n",
              "      <td>81770.0</td>\n",
              "      <td>Clayton</td>\n",
              "      <td>22</td>\n",
              "      <td>2018</td>\n",
              "      <td>265.0</td>\n",
              "      <td>Bahia</td>\n",
              "      <td>ata</td>\n",
              "      <td>-0.3</td>\n",
              "      <td>4.42</td>\n",
              "      <td>14.0</td>\n",
              "      <td>293</td>\n",
              "      <td>265</td>\n",
              "      <td>Arena da Baixada</td>\n",
              "    </tr>\n",
              "    <tr>\n",
              "      <th>2</th>\n",
              "      <td>102609.0</td>\n",
              "      <td>Fernando Castro</td>\n",
              "      <td>22</td>\n",
              "      <td>2018</td>\n",
              "      <td>265.0</td>\n",
              "      <td>Bahia</td>\n",
              "      <td>gol</td>\n",
              "      <td>-1.3</td>\n",
              "      <td>0.76</td>\n",
              "      <td>14.0</td>\n",
              "      <td>293</td>\n",
              "      <td>265</td>\n",
              "      <td>Arena da Baixada</td>\n",
              "    </tr>\n",
              "    <tr>\n",
              "      <th>3</th>\n",
              "      <td>78584.0</td>\n",
              "      <td>Douglas Friedrich</td>\n",
              "      <td>22</td>\n",
              "      <td>2018</td>\n",
              "      <td>265.0</td>\n",
              "      <td>Bahia</td>\n",
              "      <td>gol</td>\n",
              "      <td>10.5</td>\n",
              "      <td>4.58</td>\n",
              "      <td>14.0</td>\n",
              "      <td>293</td>\n",
              "      <td>265</td>\n",
              "      <td>Arena da Baixada</td>\n",
              "    </tr>\n",
              "    <tr>\n",
              "      <th>4</th>\n",
              "      <td>94980.0</td>\n",
              "      <td>Geovane Itinga</td>\n",
              "      <td>22</td>\n",
              "      <td>2018</td>\n",
              "      <td>265.0</td>\n",
              "      <td>Bahia</td>\n",
              "      <td>ata</td>\n",
              "      <td>0.0</td>\n",
              "      <td>1.60</td>\n",
              "      <td>14.0</td>\n",
              "      <td>293</td>\n",
              "      <td>265</td>\n",
              "      <td>Arena da Baixada</td>\n",
              "    </tr>\n",
              "  </tbody>\n",
              "</table>\n",
              "</div>"
            ],
            "text/plain": [
              "   atleta_id            apelido  ...  clube_visitante_id    partidas_local\n",
              "0    42499.0              Bruno  ...                 265  Arena da Baixada\n",
              "1    81770.0            Clayton  ...                 265  Arena da Baixada\n",
              "2   102609.0    Fernando Castro  ...                 265  Arena da Baixada\n",
              "3    78584.0  Douglas Friedrich  ...                 265  Arena da Baixada\n",
              "4    94980.0     Geovane Itinga  ...                 265  Arena da Baixada\n",
              "\n",
              "[5 rows x 13 columns]"
            ]
          },
          "metadata": {
            "tags": []
          },
          "execution_count": 92
        }
      ]
    },
    {
      "cell_type": "markdown",
      "metadata": {
        "id": "fk_u2p1T-Z_Y"
      },
      "source": [
        "Ajustes casa e fora"
      ]
    },
    {
      "cell_type": "code",
      "metadata": {
        "id": "NdflFq6EAEtP",
        "colab": {
          "base_uri": "https://localhost:8080/",
          "height": 249
        },
        "outputId": "53fcefdf-fc98-47a3-be0e-767d18164a65"
      },
      "source": [
        "players_view = players_casa.append(players_fora)\n",
        "players_view.head()"
      ],
      "execution_count": null,
      "outputs": [
        {
          "output_type": "execute_result",
          "data": {
            "text/html": [
              "<div>\n",
              "<style scoped>\n",
              "    .dataframe tbody tr th:only-of-type {\n",
              "        vertical-align: middle;\n",
              "    }\n",
              "\n",
              "    .dataframe tbody tr th {\n",
              "        vertical-align: top;\n",
              "    }\n",
              "\n",
              "    .dataframe thead th {\n",
              "        text-align: right;\n",
              "    }\n",
              "</style>\n",
              "<table border=\"1\" class=\"dataframe\">\n",
              "  <thead>\n",
              "    <tr style=\"text-align: right;\">\n",
              "      <th></th>\n",
              "      <th>atleta_id</th>\n",
              "      <th>apelido</th>\n",
              "      <th>rodada_id</th>\n",
              "      <th>ano</th>\n",
              "      <th>clube_id</th>\n",
              "      <th>clube</th>\n",
              "      <th>posicao</th>\n",
              "      <th>pontos_num</th>\n",
              "      <th>preco_num</th>\n",
              "      <th>clube_rank</th>\n",
              "      <th>clube_casa_id</th>\n",
              "      <th>clube_visitante_id</th>\n",
              "      <th>partidas_local</th>\n",
              "    </tr>\n",
              "  </thead>\n",
              "  <tbody>\n",
              "    <tr>\n",
              "      <th>0</th>\n",
              "      <td>42499.0</td>\n",
              "      <td>Bruno</td>\n",
              "      <td>14</td>\n",
              "      <td>2018</td>\n",
              "      <td>265.0</td>\n",
              "      <td>Bahia</td>\n",
              "      <td>lat</td>\n",
              "      <td>2.5</td>\n",
              "      <td>3.39</td>\n",
              "      <td>14.0</td>\n",
              "      <td>265</td>\n",
              "      <td>287</td>\n",
              "      <td>Fonte Nova</td>\n",
              "    </tr>\n",
              "    <tr>\n",
              "      <th>1</th>\n",
              "      <td>61188.0</td>\n",
              "      <td>Gilberto</td>\n",
              "      <td>14</td>\n",
              "      <td>2018</td>\n",
              "      <td>265.0</td>\n",
              "      <td>Bahia</td>\n",
              "      <td>ata</td>\n",
              "      <td>12.7</td>\n",
              "      <td>12.28</td>\n",
              "      <td>14.0</td>\n",
              "      <td>265</td>\n",
              "      <td>287</td>\n",
              "      <td>Fonte Nova</td>\n",
              "    </tr>\n",
              "    <tr>\n",
              "      <th>2</th>\n",
              "      <td>82455.0</td>\n",
              "      <td>Zé Rafael</td>\n",
              "      <td>14</td>\n",
              "      <td>2018</td>\n",
              "      <td>265.0</td>\n",
              "      <td>Bahia</td>\n",
              "      <td>mei</td>\n",
              "      <td>14.3</td>\n",
              "      <td>20.72</td>\n",
              "      <td>14.0</td>\n",
              "      <td>265</td>\n",
              "      <td>287</td>\n",
              "      <td>Fonte Nova</td>\n",
              "    </tr>\n",
              "    <tr>\n",
              "      <th>3</th>\n",
              "      <td>74271.0</td>\n",
              "      <td>Edigar Junio</td>\n",
              "      <td>14</td>\n",
              "      <td>2018</td>\n",
              "      <td>265.0</td>\n",
              "      <td>Bahia</td>\n",
              "      <td>ata</td>\n",
              "      <td>-0.3</td>\n",
              "      <td>7.62</td>\n",
              "      <td>14.0</td>\n",
              "      <td>265</td>\n",
              "      <td>287</td>\n",
              "      <td>Fonte Nova</td>\n",
              "    </tr>\n",
              "    <tr>\n",
              "      <th>4</th>\n",
              "      <td>71719.0</td>\n",
              "      <td>Elton</td>\n",
              "      <td>14</td>\n",
              "      <td>2018</td>\n",
              "      <td>265.0</td>\n",
              "      <td>Bahia</td>\n",
              "      <td>mei</td>\n",
              "      <td>6.0</td>\n",
              "      <td>9.65</td>\n",
              "      <td>14.0</td>\n",
              "      <td>265</td>\n",
              "      <td>287</td>\n",
              "      <td>Fonte Nova</td>\n",
              "    </tr>\n",
              "  </tbody>\n",
              "</table>\n",
              "</div>"
            ],
            "text/plain": [
              "   atleta_id       apelido  ...  clube_visitante_id  partidas_local\n",
              "0    42499.0         Bruno  ...                 287      Fonte Nova\n",
              "1    61188.0      Gilberto  ...                 287      Fonte Nova\n",
              "2    82455.0     Zé Rafael  ...                 287      Fonte Nova\n",
              "3    74271.0  Edigar Junio  ...                 287      Fonte Nova\n",
              "4    71719.0         Elton  ...                 287      Fonte Nova\n",
              "\n",
              "[5 rows x 13 columns]"
            ]
          },
          "metadata": {
            "tags": []
          },
          "execution_count": 93
        }
      ]
    },
    {
      "cell_type": "code",
      "metadata": {
        "id": "yaiHFjqYDAaK",
        "colab": {
          "base_uri": "https://localhost:8080/",
          "height": 249
        },
        "outputId": "a070a6b5-34c5-4262-8c76-1d2794c1b9da"
      },
      "source": [
        "players_view['mandante'] = np.where(players_view['clube_id'] == players_view['clube_casa_id'], 'S', 'N')\n",
        "players_view.head()"
      ],
      "execution_count": null,
      "outputs": [
        {
          "output_type": "execute_result",
          "data": {
            "text/html": [
              "<div>\n",
              "<style scoped>\n",
              "    .dataframe tbody tr th:only-of-type {\n",
              "        vertical-align: middle;\n",
              "    }\n",
              "\n",
              "    .dataframe tbody tr th {\n",
              "        vertical-align: top;\n",
              "    }\n",
              "\n",
              "    .dataframe thead th {\n",
              "        text-align: right;\n",
              "    }\n",
              "</style>\n",
              "<table border=\"1\" class=\"dataframe\">\n",
              "  <thead>\n",
              "    <tr style=\"text-align: right;\">\n",
              "      <th></th>\n",
              "      <th>atleta_id</th>\n",
              "      <th>apelido</th>\n",
              "      <th>rodada_id</th>\n",
              "      <th>ano</th>\n",
              "      <th>clube_id</th>\n",
              "      <th>clube</th>\n",
              "      <th>posicao</th>\n",
              "      <th>pontos_num</th>\n",
              "      <th>preco_num</th>\n",
              "      <th>clube_rank</th>\n",
              "      <th>clube_casa_id</th>\n",
              "      <th>clube_visitante_id</th>\n",
              "      <th>partidas_local</th>\n",
              "      <th>mandante</th>\n",
              "    </tr>\n",
              "  </thead>\n",
              "  <tbody>\n",
              "    <tr>\n",
              "      <th>0</th>\n",
              "      <td>42499.0</td>\n",
              "      <td>Bruno</td>\n",
              "      <td>14</td>\n",
              "      <td>2018</td>\n",
              "      <td>265.0</td>\n",
              "      <td>Bahia</td>\n",
              "      <td>lat</td>\n",
              "      <td>2.5</td>\n",
              "      <td>3.39</td>\n",
              "      <td>14.0</td>\n",
              "      <td>265</td>\n",
              "      <td>287</td>\n",
              "      <td>Fonte Nova</td>\n",
              "      <td>S</td>\n",
              "    </tr>\n",
              "    <tr>\n",
              "      <th>1</th>\n",
              "      <td>61188.0</td>\n",
              "      <td>Gilberto</td>\n",
              "      <td>14</td>\n",
              "      <td>2018</td>\n",
              "      <td>265.0</td>\n",
              "      <td>Bahia</td>\n",
              "      <td>ata</td>\n",
              "      <td>12.7</td>\n",
              "      <td>12.28</td>\n",
              "      <td>14.0</td>\n",
              "      <td>265</td>\n",
              "      <td>287</td>\n",
              "      <td>Fonte Nova</td>\n",
              "      <td>S</td>\n",
              "    </tr>\n",
              "    <tr>\n",
              "      <th>2</th>\n",
              "      <td>82455.0</td>\n",
              "      <td>Zé Rafael</td>\n",
              "      <td>14</td>\n",
              "      <td>2018</td>\n",
              "      <td>265.0</td>\n",
              "      <td>Bahia</td>\n",
              "      <td>mei</td>\n",
              "      <td>14.3</td>\n",
              "      <td>20.72</td>\n",
              "      <td>14.0</td>\n",
              "      <td>265</td>\n",
              "      <td>287</td>\n",
              "      <td>Fonte Nova</td>\n",
              "      <td>S</td>\n",
              "    </tr>\n",
              "    <tr>\n",
              "      <th>3</th>\n",
              "      <td>74271.0</td>\n",
              "      <td>Edigar Junio</td>\n",
              "      <td>14</td>\n",
              "      <td>2018</td>\n",
              "      <td>265.0</td>\n",
              "      <td>Bahia</td>\n",
              "      <td>ata</td>\n",
              "      <td>-0.3</td>\n",
              "      <td>7.62</td>\n",
              "      <td>14.0</td>\n",
              "      <td>265</td>\n",
              "      <td>287</td>\n",
              "      <td>Fonte Nova</td>\n",
              "      <td>S</td>\n",
              "    </tr>\n",
              "    <tr>\n",
              "      <th>4</th>\n",
              "      <td>71719.0</td>\n",
              "      <td>Elton</td>\n",
              "      <td>14</td>\n",
              "      <td>2018</td>\n",
              "      <td>265.0</td>\n",
              "      <td>Bahia</td>\n",
              "      <td>mei</td>\n",
              "      <td>6.0</td>\n",
              "      <td>9.65</td>\n",
              "      <td>14.0</td>\n",
              "      <td>265</td>\n",
              "      <td>287</td>\n",
              "      <td>Fonte Nova</td>\n",
              "      <td>S</td>\n",
              "    </tr>\n",
              "  </tbody>\n",
              "</table>\n",
              "</div>"
            ],
            "text/plain": [
              "   atleta_id       apelido  ...  partidas_local  mandante\n",
              "0    42499.0         Bruno  ...      Fonte Nova         S\n",
              "1    61188.0      Gilberto  ...      Fonte Nova         S\n",
              "2    82455.0     Zé Rafael  ...      Fonte Nova         S\n",
              "3    74271.0  Edigar Junio  ...      Fonte Nova         S\n",
              "4    71719.0         Elton  ...      Fonte Nova         S\n",
              "\n",
              "[5 rows x 14 columns]"
            ]
          },
          "metadata": {
            "tags": []
          },
          "execution_count": 94
        }
      ]
    },
    {
      "cell_type": "code",
      "metadata": {
        "id": "gFR42GuDCVkc",
        "colab": {
          "base_uri": "https://localhost:8080/",
          "height": 249
        },
        "outputId": "22a00a90-dfbb-467b-df78-9d75aa1b462c"
      },
      "source": [
        "players_view.sort_values(['atleta_id', 'rodada_id', 'ano'], inplace=True)\n",
        "players_view.head()"
      ],
      "execution_count": null,
      "outputs": [
        {
          "output_type": "execute_result",
          "data": {
            "text/html": [
              "<div>\n",
              "<style scoped>\n",
              "    .dataframe tbody tr th:only-of-type {\n",
              "        vertical-align: middle;\n",
              "    }\n",
              "\n",
              "    .dataframe tbody tr th {\n",
              "        vertical-align: top;\n",
              "    }\n",
              "\n",
              "    .dataframe thead th {\n",
              "        text-align: right;\n",
              "    }\n",
              "</style>\n",
              "<table border=\"1\" class=\"dataframe\">\n",
              "  <thead>\n",
              "    <tr style=\"text-align: right;\">\n",
              "      <th></th>\n",
              "      <th>atleta_id</th>\n",
              "      <th>apelido</th>\n",
              "      <th>rodada_id</th>\n",
              "      <th>ano</th>\n",
              "      <th>clube_id</th>\n",
              "      <th>clube</th>\n",
              "      <th>posicao</th>\n",
              "      <th>pontos_num</th>\n",
              "      <th>preco_num</th>\n",
              "      <th>clube_rank</th>\n",
              "      <th>clube_casa_id</th>\n",
              "      <th>clube_visitante_id</th>\n",
              "      <th>partidas_local</th>\n",
              "      <th>mandante</th>\n",
              "    </tr>\n",
              "  </thead>\n",
              "  <tbody>\n",
              "    <tr>\n",
              "      <th>38268</th>\n",
              "      <td>36443.0</td>\n",
              "      <td>Dida</td>\n",
              "      <td>1</td>\n",
              "      <td>2014</td>\n",
              "      <td>285.0</td>\n",
              "      <td>Internacional</td>\n",
              "      <td>gol</td>\n",
              "      <td>5.0</td>\n",
              "      <td>10.60</td>\n",
              "      <td>6.0</td>\n",
              "      <td>285</td>\n",
              "      <td>287</td>\n",
              "      <td>Estádio Beira-Rio</td>\n",
              "      <td>S</td>\n",
              "    </tr>\n",
              "    <tr>\n",
              "      <th>22357</th>\n",
              "      <td>36443.0</td>\n",
              "      <td>Dida</td>\n",
              "      <td>1</td>\n",
              "      <td>2015</td>\n",
              "      <td>285.0</td>\n",
              "      <td>Internacional</td>\n",
              "      <td>gol</td>\n",
              "      <td>0.0</td>\n",
              "      <td>5.00</td>\n",
              "      <td>20.0</td>\n",
              "      <td>293</td>\n",
              "      <td>285</td>\n",
              "      <td>Arena da Baixada</td>\n",
              "      <td>N</td>\n",
              "    </tr>\n",
              "    <tr>\n",
              "      <th>37893</th>\n",
              "      <td>36443.0</td>\n",
              "      <td>Dida</td>\n",
              "      <td>2</td>\n",
              "      <td>2014</td>\n",
              "      <td>285.0</td>\n",
              "      <td>Internacional</td>\n",
              "      <td>gol</td>\n",
              "      <td>-3.0</td>\n",
              "      <td>8.27</td>\n",
              "      <td>6.0</td>\n",
              "      <td>263</td>\n",
              "      <td>285</td>\n",
              "      <td>Estádio Maracanã</td>\n",
              "      <td>N</td>\n",
              "    </tr>\n",
              "    <tr>\n",
              "      <th>23089</th>\n",
              "      <td>36443.0</td>\n",
              "      <td>Dida</td>\n",
              "      <td>2</td>\n",
              "      <td>2015</td>\n",
              "      <td>285.0</td>\n",
              "      <td>Internacional</td>\n",
              "      <td>gol</td>\n",
              "      <td>0.0</td>\n",
              "      <td>5.00</td>\n",
              "      <td>12.0</td>\n",
              "      <td>285</td>\n",
              "      <td>314</td>\n",
              "      <td>Beira-Rio</td>\n",
              "      <td>S</td>\n",
              "    </tr>\n",
              "    <tr>\n",
              "      <th>38207</th>\n",
              "      <td>36443.0</td>\n",
              "      <td>Dida</td>\n",
              "      <td>3</td>\n",
              "      <td>2014</td>\n",
              "      <td>285.0</td>\n",
              "      <td>Internacional</td>\n",
              "      <td>gol</td>\n",
              "      <td>-2.6</td>\n",
              "      <td>6.81</td>\n",
              "      <td>3.0</td>\n",
              "      <td>285</td>\n",
              "      <td>292</td>\n",
              "      <td>Beira-Rio</td>\n",
              "      <td>S</td>\n",
              "    </tr>\n",
              "  </tbody>\n",
              "</table>\n",
              "</div>"
            ],
            "text/plain": [
              "       atleta_id apelido  ...     partidas_local  mandante\n",
              "38268    36443.0    Dida  ...  Estádio Beira-Rio         S\n",
              "22357    36443.0    Dida  ...   Arena da Baixada         N\n",
              "37893    36443.0    Dida  ...   Estádio Maracanã         N\n",
              "23089    36443.0    Dida  ...          Beira-Rio         S\n",
              "38207    36443.0    Dida  ...          Beira-Rio         S\n",
              "\n",
              "[5 rows x 14 columns]"
            ]
          },
          "metadata": {
            "tags": []
          },
          "execution_count": 95
        }
      ]
    },
    {
      "cell_type": "code",
      "metadata": {
        "id": "8gW5rFxPt6ZI"
      },
      "source": [
        "colunas_view = ['apelido', 'posicao', 'rodada_id', 'ano', 'clube', 'clube_rank', \n",
        "                'mandante', 'partidas_local', 'pontos_num', 'preco_num']\n",
        "players_view = players_view[colunas_view].reset_index(drop=True)"
      ],
      "execution_count": null,
      "outputs": []
    },
    {
      "cell_type": "code",
      "metadata": {
        "id": "YD2smc-AA_x9",
        "colab": {
          "base_uri": "https://localhost:8080/",
          "height": 195
        },
        "outputId": "c56b790a-8faf-447f-b015-7061d935e63b"
      },
      "source": [
        "players_view['apelido'] = players_view['apelido'].astype(str)\n",
        "players_view.head()"
      ],
      "execution_count": null,
      "outputs": [
        {
          "output_type": "execute_result",
          "data": {
            "text/html": [
              "<div>\n",
              "<style scoped>\n",
              "    .dataframe tbody tr th:only-of-type {\n",
              "        vertical-align: middle;\n",
              "    }\n",
              "\n",
              "    .dataframe tbody tr th {\n",
              "        vertical-align: top;\n",
              "    }\n",
              "\n",
              "    .dataframe thead th {\n",
              "        text-align: right;\n",
              "    }\n",
              "</style>\n",
              "<table border=\"1\" class=\"dataframe\">\n",
              "  <thead>\n",
              "    <tr style=\"text-align: right;\">\n",
              "      <th></th>\n",
              "      <th>apelido</th>\n",
              "      <th>posicao</th>\n",
              "      <th>rodada_id</th>\n",
              "      <th>ano</th>\n",
              "      <th>clube</th>\n",
              "      <th>clube_rank</th>\n",
              "      <th>mandante</th>\n",
              "      <th>partidas_local</th>\n",
              "      <th>pontos_num</th>\n",
              "      <th>preco_num</th>\n",
              "    </tr>\n",
              "  </thead>\n",
              "  <tbody>\n",
              "    <tr>\n",
              "      <th>0</th>\n",
              "      <td>Dida</td>\n",
              "      <td>gol</td>\n",
              "      <td>1</td>\n",
              "      <td>2014</td>\n",
              "      <td>Internacional</td>\n",
              "      <td>6.0</td>\n",
              "      <td>S</td>\n",
              "      <td>Estádio Beira-Rio</td>\n",
              "      <td>5.0</td>\n",
              "      <td>10.60</td>\n",
              "    </tr>\n",
              "    <tr>\n",
              "      <th>1</th>\n",
              "      <td>Dida</td>\n",
              "      <td>gol</td>\n",
              "      <td>1</td>\n",
              "      <td>2015</td>\n",
              "      <td>Internacional</td>\n",
              "      <td>20.0</td>\n",
              "      <td>N</td>\n",
              "      <td>Arena da Baixada</td>\n",
              "      <td>0.0</td>\n",
              "      <td>5.00</td>\n",
              "    </tr>\n",
              "    <tr>\n",
              "      <th>2</th>\n",
              "      <td>Dida</td>\n",
              "      <td>gol</td>\n",
              "      <td>2</td>\n",
              "      <td>2014</td>\n",
              "      <td>Internacional</td>\n",
              "      <td>6.0</td>\n",
              "      <td>N</td>\n",
              "      <td>Estádio Maracanã</td>\n",
              "      <td>-3.0</td>\n",
              "      <td>8.27</td>\n",
              "    </tr>\n",
              "    <tr>\n",
              "      <th>3</th>\n",
              "      <td>Dida</td>\n",
              "      <td>gol</td>\n",
              "      <td>2</td>\n",
              "      <td>2015</td>\n",
              "      <td>Internacional</td>\n",
              "      <td>12.0</td>\n",
              "      <td>S</td>\n",
              "      <td>Beira-Rio</td>\n",
              "      <td>0.0</td>\n",
              "      <td>5.00</td>\n",
              "    </tr>\n",
              "    <tr>\n",
              "      <th>4</th>\n",
              "      <td>Dida</td>\n",
              "      <td>gol</td>\n",
              "      <td>3</td>\n",
              "      <td>2014</td>\n",
              "      <td>Internacional</td>\n",
              "      <td>3.0</td>\n",
              "      <td>S</td>\n",
              "      <td>Beira-Rio</td>\n",
              "      <td>-2.6</td>\n",
              "      <td>6.81</td>\n",
              "    </tr>\n",
              "  </tbody>\n",
              "</table>\n",
              "</div>"
            ],
            "text/plain": [
              "  apelido posicao  rodada_id  ...     partidas_local pontos_num  preco_num\n",
              "0    Dida     gol          1  ...  Estádio Beira-Rio        5.0      10.60\n",
              "1    Dida     gol          1  ...   Arena da Baixada        0.0       5.00\n",
              "2    Dida     gol          2  ...   Estádio Maracanã       -3.0       8.27\n",
              "3    Dida     gol          2  ...          Beira-Rio        0.0       5.00\n",
              "4    Dida     gol          3  ...          Beira-Rio       -2.6       6.81\n",
              "\n",
              "[5 rows x 10 columns]"
            ]
          },
          "metadata": {
            "tags": []
          },
          "execution_count": 97
        }
      ]
    },
    {
      "cell_type": "markdown",
      "metadata": {
        "id": "MLmyLOwvGOUx"
      },
      "source": [
        "##Gravar a View"
      ]
    },
    {
      "cell_type": "code",
      "metadata": {
        "id": "KcDJzj-aDcHv"
      },
      "source": [
        "dataset_ref = client.dataset('TEMP')"
      ],
      "execution_count": null,
      "outputs": []
    },
    {
      "cell_type": "code",
      "metadata": {
        "id": "UJPL-xTXDcMu"
      },
      "source": [
        "table_ref = dataset_ref.table(\"players_view\")"
      ],
      "execution_count": null,
      "outputs": []
    },
    {
      "cell_type": "markdown",
      "metadata": {
        "id": "wdgEnem9HryG"
      },
      "source": [
        "Tipo 1 - somente atualização"
      ]
    },
    {
      "cell_type": "code",
      "metadata": {
        "id": "Gz86YtGeDcQ5"
      },
      "source": [
        "#job = client.load_table_from_dataframe(players_view, table_ref, \n",
        "                                       #job_config = bigquery.LoadJobConfig(write_disposition=\"WRITE_TRUNCATE\"))\n",
        "#job.result() "
      ],
      "execution_count": null,
      "outputs": []
    },
    {
      "cell_type": "markdown",
      "metadata": {
        "id": "PzWNXSI7DcVh"
      },
      "source": [
        "Tipo 2 - Atualiza e mantém adicionando as novas linhas"
      ]
    },
    {
      "cell_type": "code",
      "metadata": {
        "id": "sPjjdEvMHxDZ",
        "colab": {
          "base_uri": "https://localhost:8080/",
          "height": 67
        },
        "outputId": "8c2cafbc-b430-4f3b-86ad-60eb438d1c44"
      },
      "source": [
        "job = client.load_table_from_dataframe(players_view, table_ref)\n",
        "job.result() "
      ],
      "execution_count": null,
      "outputs": [
        {
          "output_type": "stream",
          "text": [
            "/usr/local/lib/python3.6/dist-packages/google/cloud/bigquery/_pandas_helpers.py:275: UserWarning: Unable to determine type of column 'apelido'.\n",
            "  warnings.warn(u\"Unable to determine type of column '{}'.\".format(column))\n"
          ],
          "name": "stderr"
        },
        {
          "output_type": "execute_result",
          "data": {
            "text/plain": [
              "<google.cloud.bigquery.job.LoadJob at 0x7fe1443ea518>"
            ]
          },
          "metadata": {
            "tags": []
          },
          "execution_count": 101
        }
      ]
    },
    {
      "cell_type": "code",
      "metadata": {
        "id": "wM_XmdWgHxJQ"
      },
      "source": [
        ""
      ],
      "execution_count": null,
      "outputs": []
    }
  ]
}